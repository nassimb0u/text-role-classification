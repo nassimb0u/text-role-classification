{
 "cells": [
  {
   "cell_type": "code",
   "execution_count": 110,
   "id": "abb56c0c-8fdb-4c10-969a-e8bac152619c",
   "metadata": {},
   "outputs": [],
   "source": [
    "import ast\n",
    "import glob\n",
    "import json\n",
    "import os\n",
    "import re\n",
    "import shutil\n",
    "import traceback\n",
    "\n",
    "import cv2\n",
    "import matplotlib.pyplot as plt\n",
    "import numpy as np\n",
    "import pandas as pd"
   ]
  },
  {
   "cell_type": "code",
   "execution_count": 2,
   "id": "bb871ceb-03f4-4adf-bb90-14e575705bdb",
   "metadata": {},
   "outputs": [
    {
     "name": "stdout",
     "output_type": "stream",
     "text": [
      "/home/nassimb/workspace/uparis/m2/pfe/text-role-classification\n"
     ]
    }
   ],
   "source": [
    "%cd /home/nassimb/workspace/uparis/m2/pfe/text-role-classification"
   ]
  },
  {
   "cell_type": "code",
   "execution_count": 3,
   "id": "38a84431-61a3-42f2-80eb-e7ef85aedc29",
   "metadata": {},
   "outputs": [],
   "source": [
    "create_icpr2022real = True\n",
    "create_hf_datasets = True"
   ]
  },
  {
   "cell_type": "markdown",
   "id": "899d1173-8393-4d3b-bfa8-d2beb2110321",
   "metadata": {},
   "source": [
    "# Training dataset"
   ]
  },
  {
   "cell_type": "code",
   "execution_count": 4,
   "id": "9b01700c-ea07-47ad-9644-ffa1ccf2959d",
   "metadata": {},
   "outputs": [
    {
     "data": {
      "text/plain": [
       "22923"
      ]
     },
     "execution_count": 4,
     "metadata": {},
     "output_type": "execute_result"
    }
   ],
   "source": [
    "train_annot_folder_path = (\n",
    "    \"./datasets/ICPR2022_CHARTINFO_UB_PMC_TRAIN_v1.0/annotations_JSON\"\n",
    ")\n",
    "\n",
    "# Recursively find all .json files\n",
    "train_annot_paths = glob.glob(\n",
    "    os.path.join(train_annot_folder_path, \"**\", \"*.json\"), recursive=True\n",
    ")\n",
    "\n",
    "len(train_annot_paths)"
   ]
  },
  {
   "cell_type": "code",
   "execution_count": 5,
   "id": "1fb2b653-2700-4b50-a5b3-b0a058085dd5",
   "metadata": {},
   "outputs": [
    {
     "data": {
      "text/plain": [
       "'./datasets/ICPR2022_CHARTINFO_UB_PMC_TRAIN_v1.0/annotations_JSON/map/PMC5664696___ijerph-14-01195-g002.json'"
      ]
     },
     "execution_count": 5,
     "metadata": {},
     "output_type": "execute_result"
    }
   ],
   "source": [
    "train_annot_paths[0]"
   ]
  },
  {
   "cell_type": "code",
   "execution_count": 6,
   "id": "8cbcf78d-cc3b-4e9c-be0b-920ace9a8183",
   "metadata": {},
   "outputs": [
    {
     "data": {
      "text/plain": [
       "22923"
      ]
     },
     "execution_count": 6,
     "metadata": {},
     "output_type": "execute_result"
    }
   ],
   "source": [
    "train_img_folder_path = \"./datasets/ICPR2022_CHARTINFO_UB_PMC_TRAIN_v1.0/images\"\n",
    "\n",
    "# Recursively find all .json files\n",
    "train_img_paths = glob.glob(\n",
    "    os.path.join(train_img_folder_path, \"**\", \"*.jpg\"), recursive=True\n",
    ")\n",
    "\n",
    "len(train_img_paths)"
   ]
  },
  {
   "cell_type": "code",
   "execution_count": 7,
   "id": "ef7a804f-f004-4b1d-9a37-0e7ae837fdb9",
   "metadata": {},
   "outputs": [],
   "source": [
    "icpr2022_train = {\n",
    "    \"text\": [],\n",
    "    \"role\": [],\n",
    "    \"x0\": [],\n",
    "    \"x1\": [],\n",
    "    \"x2\": [],\n",
    "    \"x3\": [],\n",
    "    \"y0\": [],\n",
    "    \"y1\": [],\n",
    "    \"y2\": [],\n",
    "    \"y3\": [],\n",
    "    \"chart_type\": [],\n",
    "    \"annot_file\": [],\n",
    "    \"img\": [],\n",
    "}\n",
    "\n",
    "try:\n",
    "    for file_path in train_annot_paths:\n",
    "        with open(file_path, \"r\") as f:\n",
    "            data = json.load(f)\n",
    "            if data[\"task3\"] and \"task2_output\" in data[\"task3\"][\"input\"]:\n",
    "                i = 0\n",
    "                for text_block in data[\"task3\"][\"input\"][\"task2_output\"][\"text_blocks\"]:\n",
    "                    icpr2022_train[\"text\"].append(text_block[\"text\"])\n",
    "                    icpr2022_train[\"role\"].append(\n",
    "                        data[\"task3\"][\"output\"][\"text_roles\"][i][\"role\"]\n",
    "                    )\n",
    "                    icpr2022_train[\"x0\"].append(text_block[\"polygon\"][\"x0\"])\n",
    "                    icpr2022_train[\"x1\"].append(text_block[\"polygon\"][\"x1\"])\n",
    "                    icpr2022_train[\"x2\"].append(text_block[\"polygon\"][\"x2\"])\n",
    "                    icpr2022_train[\"x3\"].append(text_block[\"polygon\"][\"x3\"])\n",
    "                    icpr2022_train[\"y0\"].append(text_block[\"polygon\"][\"y0\"])\n",
    "                    icpr2022_train[\"y1\"].append(text_block[\"polygon\"][\"y1\"])\n",
    "                    icpr2022_train[\"y2\"].append(text_block[\"polygon\"][\"y2\"])\n",
    "                    icpr2022_train[\"y3\"].append(text_block[\"polygon\"][\"y3\"])\n",
    "                    icpr2022_train[\"chart_type\"].append(\n",
    "                        data[\"task1\"][\"output\"][\"chart_type\"]\n",
    "                    )\n",
    "                    icpr2022_train[\"annot_file\"].append(file_path)\n",
    "                    pos_img = file_path.replace(\"annotations_JSON\", \"images\").replace(\n",
    "                        \"json\", \"jpg\"\n",
    "                    )\n",
    "                    if os.path.exists(pos_img):\n",
    "                        icpr2022_train[\"img\"].append(pos_img)\n",
    "                    else:\n",
    "                        icpr2022_train[\"img\"].append(None)\n",
    "                    i += 1\n",
    "\n",
    "            else:\n",
    "                icpr2022_train[\"text\"].append(None)\n",
    "                icpr2022_train[\"role\"].append(None)\n",
    "                icpr2022_train[\"x0\"].append(None)\n",
    "                icpr2022_train[\"x1\"].append(None)\n",
    "                icpr2022_train[\"x2\"].append(None)\n",
    "                icpr2022_train[\"x3\"].append(None)\n",
    "                icpr2022_train[\"y0\"].append(None)\n",
    "                icpr2022_train[\"y1\"].append(None)\n",
    "                icpr2022_train[\"y2\"].append(None)\n",
    "                icpr2022_train[\"y3\"].append(None)\n",
    "                icpr2022_train[\"chart_type\"].append(\n",
    "                    data[\"task1\"][\"output\"][\"chart_type\"]\n",
    "                )\n",
    "                icpr2022_train[\"annot_file\"].append(file_path)\n",
    "                pos_img = file_path.replace(\"annotations_JSON\", \"images\").replace(\n",
    "                    \"json\", \"jpg\"\n",
    "                )\n",
    "                if os.path.exists(pos_img):\n",
    "                    icpr2022_train[\"img\"].append(pos_img)\n",
    "                else:\n",
    "                    icpr2022_train[\"img\"].append(None)\n",
    "\n",
    "except Exception as e:\n",
    "    print(e, file_path)"
   ]
  },
  {
   "cell_type": "code",
   "execution_count": 8,
   "id": "42833115-71fd-4990-a956-e6edeb8a5b15",
   "metadata": {},
   "outputs": [
    {
     "data": {
      "text/html": [
       "<div>\n",
       "<style scoped>\n",
       "    .dataframe tbody tr th:only-of-type {\n",
       "        vertical-align: middle;\n",
       "    }\n",
       "\n",
       "    .dataframe tbody tr th {\n",
       "        vertical-align: top;\n",
       "    }\n",
       "\n",
       "    .dataframe thead th {\n",
       "        text-align: right;\n",
       "    }\n",
       "</style>\n",
       "<table border=\"1\" class=\"dataframe\">\n",
       "  <thead>\n",
       "    <tr style=\"text-align: right;\">\n",
       "      <th></th>\n",
       "      <th>text</th>\n",
       "      <th>role</th>\n",
       "      <th>x0</th>\n",
       "      <th>x1</th>\n",
       "      <th>x2</th>\n",
       "      <th>x3</th>\n",
       "      <th>y0</th>\n",
       "      <th>y1</th>\n",
       "      <th>y2</th>\n",
       "      <th>y3</th>\n",
       "      <th>chart_type</th>\n",
       "      <th>annot_file</th>\n",
       "      <th>img</th>\n",
       "    </tr>\n",
       "  </thead>\n",
       "  <tbody>\n",
       "    <tr>\n",
       "      <th>0</th>\n",
       "      <td>None</td>\n",
       "      <td>None</td>\n",
       "      <td>NaN</td>\n",
       "      <td>NaN</td>\n",
       "      <td>NaN</td>\n",
       "      <td>NaN</td>\n",
       "      <td>NaN</td>\n",
       "      <td>NaN</td>\n",
       "      <td>NaN</td>\n",
       "      <td>NaN</td>\n",
       "      <td>map</td>\n",
       "      <td>./datasets/ICPR2022_CHARTINFO_UB_PMC_TRAIN_v1....</td>\n",
       "      <td>./datasets/ICPR2022_CHARTINFO_UB_PMC_TRAIN_v1....</td>\n",
       "    </tr>\n",
       "    <tr>\n",
       "      <th>1</th>\n",
       "      <td>None</td>\n",
       "      <td>None</td>\n",
       "      <td>NaN</td>\n",
       "      <td>NaN</td>\n",
       "      <td>NaN</td>\n",
       "      <td>NaN</td>\n",
       "      <td>NaN</td>\n",
       "      <td>NaN</td>\n",
       "      <td>NaN</td>\n",
       "      <td>NaN</td>\n",
       "      <td>map</td>\n",
       "      <td>./datasets/ICPR2022_CHARTINFO_UB_PMC_TRAIN_v1....</td>\n",
       "      <td>./datasets/ICPR2022_CHARTINFO_UB_PMC_TRAIN_v1....</td>\n",
       "    </tr>\n",
       "    <tr>\n",
       "      <th>2</th>\n",
       "      <td>None</td>\n",
       "      <td>None</td>\n",
       "      <td>NaN</td>\n",
       "      <td>NaN</td>\n",
       "      <td>NaN</td>\n",
       "      <td>NaN</td>\n",
       "      <td>NaN</td>\n",
       "      <td>NaN</td>\n",
       "      <td>NaN</td>\n",
       "      <td>NaN</td>\n",
       "      <td>map</td>\n",
       "      <td>./datasets/ICPR2022_CHARTINFO_UB_PMC_TRAIN_v1....</td>\n",
       "      <td>./datasets/ICPR2022_CHARTINFO_UB_PMC_TRAIN_v1....</td>\n",
       "    </tr>\n",
       "    <tr>\n",
       "      <th>3</th>\n",
       "      <td>None</td>\n",
       "      <td>None</td>\n",
       "      <td>NaN</td>\n",
       "      <td>NaN</td>\n",
       "      <td>NaN</td>\n",
       "      <td>NaN</td>\n",
       "      <td>NaN</td>\n",
       "      <td>NaN</td>\n",
       "      <td>NaN</td>\n",
       "      <td>NaN</td>\n",
       "      <td>map</td>\n",
       "      <td>./datasets/ICPR2022_CHARTINFO_UB_PMC_TRAIN_v1....</td>\n",
       "      <td>./datasets/ICPR2022_CHARTINFO_UB_PMC_TRAIN_v1....</td>\n",
       "    </tr>\n",
       "    <tr>\n",
       "      <th>4</th>\n",
       "      <td>None</td>\n",
       "      <td>None</td>\n",
       "      <td>NaN</td>\n",
       "      <td>NaN</td>\n",
       "      <td>NaN</td>\n",
       "      <td>NaN</td>\n",
       "      <td>NaN</td>\n",
       "      <td>NaN</td>\n",
       "      <td>NaN</td>\n",
       "      <td>NaN</td>\n",
       "      <td>map</td>\n",
       "      <td>./datasets/ICPR2022_CHARTINFO_UB_PMC_TRAIN_v1....</td>\n",
       "      <td>./datasets/ICPR2022_CHARTINFO_UB_PMC_TRAIN_v1....</td>\n",
       "    </tr>\n",
       "  </tbody>\n",
       "</table>\n",
       "</div>"
      ],
      "text/plain": [
       "   text  role  x0  x1  x2  x3  y0  y1  y2  y3 chart_type  \\\n",
       "0  None  None NaN NaN NaN NaN NaN NaN NaN NaN        map   \n",
       "1  None  None NaN NaN NaN NaN NaN NaN NaN NaN        map   \n",
       "2  None  None NaN NaN NaN NaN NaN NaN NaN NaN        map   \n",
       "3  None  None NaN NaN NaN NaN NaN NaN NaN NaN        map   \n",
       "4  None  None NaN NaN NaN NaN NaN NaN NaN NaN        map   \n",
       "\n",
       "                                          annot_file  \\\n",
       "0  ./datasets/ICPR2022_CHARTINFO_UB_PMC_TRAIN_v1....   \n",
       "1  ./datasets/ICPR2022_CHARTINFO_UB_PMC_TRAIN_v1....   \n",
       "2  ./datasets/ICPR2022_CHARTINFO_UB_PMC_TRAIN_v1....   \n",
       "3  ./datasets/ICPR2022_CHARTINFO_UB_PMC_TRAIN_v1....   \n",
       "4  ./datasets/ICPR2022_CHARTINFO_UB_PMC_TRAIN_v1....   \n",
       "\n",
       "                                                 img  \n",
       "0  ./datasets/ICPR2022_CHARTINFO_UB_PMC_TRAIN_v1....  \n",
       "1  ./datasets/ICPR2022_CHARTINFO_UB_PMC_TRAIN_v1....  \n",
       "2  ./datasets/ICPR2022_CHARTINFO_UB_PMC_TRAIN_v1....  \n",
       "3  ./datasets/ICPR2022_CHARTINFO_UB_PMC_TRAIN_v1....  \n",
       "4  ./datasets/ICPR2022_CHARTINFO_UB_PMC_TRAIN_v1....  "
      ]
     },
     "execution_count": 8,
     "metadata": {},
     "output_type": "execute_result"
    }
   ],
   "source": [
    "df_icpr2022_train = pd.DataFrame(icpr2022_train)\n",
    "df_icpr2022_train.head()"
   ]
  },
  {
   "cell_type": "code",
   "execution_count": 9,
   "id": "c678936a-ef4f-41a5-b460-7bfd100a8303",
   "metadata": {},
   "outputs": [
    {
     "name": "stdout",
     "output_type": "stream",
     "text": [
      "<class 'pandas.core.frame.DataFrame'>\n",
      "RangeIndex: 152239 entries, 0 to 152238\n",
      "Data columns (total 13 columns):\n",
      " #   Column      Non-Null Count   Dtype  \n",
      "---  ------      --------------   -----  \n",
      " 0   text        135786 non-null  object \n",
      " 1   role        135786 non-null  object \n",
      " 2   x0          135786 non-null  float64\n",
      " 3   x1          135786 non-null  float64\n",
      " 4   x2          135786 non-null  float64\n",
      " 5   x3          135786 non-null  float64\n",
      " 6   y0          135786 non-null  float64\n",
      " 7   y1          135786 non-null  float64\n",
      " 8   y2          135786 non-null  float64\n",
      " 9   y3          135786 non-null  float64\n",
      " 10  chart_type  152239 non-null  object \n",
      " 11  annot_file  152239 non-null  object \n",
      " 12  img         152239 non-null  object \n",
      "dtypes: float64(8), object(5)\n",
      "memory usage: 15.1+ MB\n"
     ]
    }
   ],
   "source": [
    "df_icpr2022_train.info()"
   ]
  },
  {
   "cell_type": "code",
   "execution_count": 100,
   "id": "807756f8-7377-4559-90c2-213c3529b5de",
   "metadata": {},
   "outputs": [
    {
     "data": {
      "text/html": [
       "<div>\n",
       "<style scoped>\n",
       "    .dataframe tbody tr th:only-of-type {\n",
       "        vertical-align: middle;\n",
       "    }\n",
       "\n",
       "    .dataframe tbody tr th {\n",
       "        vertical-align: top;\n",
       "    }\n",
       "\n",
       "    .dataframe thead th {\n",
       "        text-align: right;\n",
       "    }\n",
       "</style>\n",
       "<table border=\"1\" class=\"dataframe\">\n",
       "  <thead>\n",
       "    <tr style=\"text-align: right;\">\n",
       "      <th></th>\n",
       "      <th>x0</th>\n",
       "      <th>x1</th>\n",
       "      <th>x2</th>\n",
       "      <th>x3</th>\n",
       "      <th>y0</th>\n",
       "      <th>y1</th>\n",
       "      <th>y2</th>\n",
       "      <th>y3</th>\n",
       "    </tr>\n",
       "  </thead>\n",
       "  <tbody>\n",
       "    <tr>\n",
       "      <th>count</th>\n",
       "      <td>135786.000000</td>\n",
       "      <td>135786.000000</td>\n",
       "      <td>135786.000000</td>\n",
       "      <td>135786.000000</td>\n",
       "      <td>135786.000000</td>\n",
       "      <td>135786.000000</td>\n",
       "      <td>135786.000000</td>\n",
       "      <td>135786.000000</td>\n",
       "    </tr>\n",
       "    <tr>\n",
       "      <th>mean</th>\n",
       "      <td>230.602875</td>\n",
       "      <td>275.297674</td>\n",
       "      <td>275.554225</td>\n",
       "      <td>230.864588</td>\n",
       "      <td>266.750983</td>\n",
       "      <td>265.648624</td>\n",
       "      <td>289.687987</td>\n",
       "      <td>290.785015</td>\n",
       "    </tr>\n",
       "    <tr>\n",
       "      <th>std</th>\n",
       "      <td>210.314113</td>\n",
       "      <td>220.154078</td>\n",
       "      <td>220.254210</td>\n",
       "      <td>210.408102</td>\n",
       "      <td>170.030602</td>\n",
       "      <td>169.318724</td>\n",
       "      <td>168.837033</td>\n",
       "      <td>169.477240</td>\n",
       "    </tr>\n",
       "    <tr>\n",
       "      <th>min</th>\n",
       "      <td>-4.000000</td>\n",
       "      <td>6.000000</td>\n",
       "      <td>6.000000</td>\n",
       "      <td>-3.000000</td>\n",
       "      <td>-8.000000</td>\n",
       "      <td>-5.000000</td>\n",
       "      <td>2.000000</td>\n",
       "      <td>6.000000</td>\n",
       "    </tr>\n",
       "    <tr>\n",
       "      <th>25%</th>\n",
       "      <td>46.000000</td>\n",
       "      <td>76.000000</td>\n",
       "      <td>76.000000</td>\n",
       "      <td>46.000000</td>\n",
       "      <td>127.000000</td>\n",
       "      <td>127.000000</td>\n",
       "      <td>157.000000</td>\n",
       "      <td>157.000000</td>\n",
       "    </tr>\n",
       "    <tr>\n",
       "      <th>50%</th>\n",
       "      <td>164.000000</td>\n",
       "      <td>220.000000</td>\n",
       "      <td>221.000000</td>\n",
       "      <td>165.000000</td>\n",
       "      <td>260.000000</td>\n",
       "      <td>259.000000</td>\n",
       "      <td>286.000000</td>\n",
       "      <td>288.000000</td>\n",
       "    </tr>\n",
       "    <tr>\n",
       "      <th>75%</th>\n",
       "      <td>387.000000</td>\n",
       "      <td>447.000000</td>\n",
       "      <td>448.000000</td>\n",
       "      <td>387.000000</td>\n",
       "      <td>389.000000</td>\n",
       "      <td>387.000000</td>\n",
       "      <td>408.000000</td>\n",
       "      <td>409.000000</td>\n",
       "    </tr>\n",
       "    <tr>\n",
       "      <th>max</th>\n",
       "      <td>2737.000000</td>\n",
       "      <td>2870.000000</td>\n",
       "      <td>2870.000000</td>\n",
       "      <td>2737.000000</td>\n",
       "      <td>2138.000000</td>\n",
       "      <td>2138.000000</td>\n",
       "      <td>2223.000000</td>\n",
       "      <td>2223.000000</td>\n",
       "    </tr>\n",
       "  </tbody>\n",
       "</table>\n",
       "</div>"
      ],
      "text/plain": [
       "                  x0             x1             x2             x3  \\\n",
       "count  135786.000000  135786.000000  135786.000000  135786.000000   \n",
       "mean      230.602875     275.297674     275.554225     230.864588   \n",
       "std       210.314113     220.154078     220.254210     210.408102   \n",
       "min        -4.000000       6.000000       6.000000      -3.000000   \n",
       "25%        46.000000      76.000000      76.000000      46.000000   \n",
       "50%       164.000000     220.000000     221.000000     165.000000   \n",
       "75%       387.000000     447.000000     448.000000     387.000000   \n",
       "max      2737.000000    2870.000000    2870.000000    2737.000000   \n",
       "\n",
       "                  y0             y1             y2             y3  \n",
       "count  135786.000000  135786.000000  135786.000000  135786.000000  \n",
       "mean      266.750983     265.648624     289.687987     290.785015  \n",
       "std       170.030602     169.318724     168.837033     169.477240  \n",
       "min        -8.000000      -5.000000       2.000000       6.000000  \n",
       "25%       127.000000     127.000000     157.000000     157.000000  \n",
       "50%       260.000000     259.000000     286.000000     288.000000  \n",
       "75%       389.000000     387.000000     408.000000     409.000000  \n",
       "max      2138.000000    2138.000000    2223.000000    2223.000000  "
      ]
     },
     "execution_count": 100,
     "metadata": {},
     "output_type": "execute_result"
    }
   ],
   "source": [
    "df_icpr2022_train.describe()"
   ]
  },
  {
   "cell_type": "code",
   "execution_count": 11,
   "id": "ad0bdf25-a0be-44c9-89c6-fd350db53277",
   "metadata": {},
   "outputs": [
    {
     "data": {
      "text/plain": [
       "text          16453\n",
       "role          16453\n",
       "x0            16453\n",
       "x1            16453\n",
       "x2            16453\n",
       "x3            16453\n",
       "y0            16453\n",
       "y1            16453\n",
       "y2            16453\n",
       "y3            16453\n",
       "chart_type        0\n",
       "annot_file        0\n",
       "img               0\n",
       "dtype: int64"
      ]
     },
     "execution_count": 11,
     "metadata": {},
     "output_type": "execute_result"
    }
   ],
   "source": [
    "df_icpr2022_train.isnull().sum()"
   ]
  },
  {
   "cell_type": "code",
   "execution_count": 12,
   "id": "6998e703-083a-449a-a97d-f6009a69d302",
   "metadata": {},
   "outputs": [
    {
     "data": {
      "text/plain": [
       "role\n",
       "tick_label       95430\n",
       "legend_label     12286\n",
       "axis_title       10721\n",
       "value_label       7649\n",
       "other             6305\n",
       "mark_label        1920\n",
       "tick_grouping      792\n",
       "chart_title        493\n",
       "legend_title       190\n",
       "Name: count, dtype: int64"
      ]
     },
     "execution_count": 12,
     "metadata": {},
     "output_type": "execute_result"
    }
   ],
   "source": [
    "df_icpr2022_train[\"role\"].value_counts()"
   ]
  },
  {
   "cell_type": "code",
   "execution_count": 13,
   "id": "9cc9f8f5-2377-407e-8cbc-656f04bddc92",
   "metadata": {},
   "outputs": [
    {
     "data": {
      "image/png": "[encoded data removed]",
      "text/plain": [
       "<Figure size 600x600 with 1 Axes>"
      ]
     },
     "metadata": {},
     "output_type": "display_data"
    }
   ],
   "source": [
    "counts = df_icpr2022_train[\"role\"].value_counts()\n",
    "ax = counts.plot.pie(autopct=\"%1.1f%%\", figsize=(6, 6), labels=[\"\"] * len(counts))\n",
    "plt.legend(ax.patches, counts.index, title=\"role\", bbox_to_anchor=(1, 0.5))\n",
    "plt.ylabel(\"\")\n",
    "plt.title(\"Distribution of role\")\n",
    "plt.show()"
   ]
  },
  {
   "cell_type": "code",
   "execution_count": 14,
   "id": "509c1cba-f88f-4684-851c-458c70743e3f",
   "metadata": {},
   "outputs": [
    {
     "data": {
      "text/plain": [
       "chart_type\n",
       "line                   55118\n",
       "vertical bar           43685\n",
       "scatter                19553\n",
       "horizontal bar         19238\n",
       "vertical box            9356\n",
       "scatter-line            3038\n",
       "map                      533\n",
       "vertical interval        532\n",
       "pie                      242\n",
       "heatmap                  197\n",
       "manhattan                176\n",
       "area                     172\n",
       "horizontal interval      169\n",
       "surface                  155\n",
       "venn                      75\n",
       "Name: count, dtype: int64"
      ]
     },
     "execution_count": 14,
     "metadata": {},
     "output_type": "execute_result"
    }
   ],
   "source": [
    "df_icpr2022_train[\"chart_type\"].value_counts()"
   ]
  },
  {
   "cell_type": "code",
   "execution_count": 15,
   "id": "0c55760d-c7ed-4d7f-b4f9-52ef52994568",
   "metadata": {},
   "outputs": [
    {
     "data": {
      "image/png": "[encoded data removed]",
      "text/plain": [
       "<Figure size 600x600 with 1 Axes>"
      ]
     },
     "metadata": {},
     "output_type": "display_data"
    }
   ],
   "source": [
    "counts = df_icpr2022_train[\"chart_type\"].value_counts()\n",
    "ax = counts.plot.pie(autopct=\"%1.1f%%\", figsize=(6, 6), labels=[\"\"] * len(counts))\n",
    "plt.legend(ax.patches, counts.index, title=\"chart type\", bbox_to_anchor=(1, 0.5))\n",
    "plt.ylabel(\"\")\n",
    "plt.title(\"Distribution of chart type\")\n",
    "plt.show()"
   ]
  },
  {
   "cell_type": "code",
   "execution_count": 16,
   "id": "d0c0546d-8f36-48da-b32a-6bd3062fbbc2",
   "metadata": {},
   "outputs": [
    {
     "data": {
      "text/plain": [
       "chart_type\n",
       "line                   46798\n",
       "vertical bar           40130\n",
       "horizontal bar         19183\n",
       "scatter                19134\n",
       "vertical box            9194\n",
       "scatter-line            1287\n",
       "vertical interval         46\n",
       "horizontal interval       14\n",
       "Name: count, dtype: int64"
      ]
     },
     "execution_count": 16,
     "metadata": {},
     "output_type": "execute_result"
    }
   ],
   "source": [
    "df_icpr2022_train[df_icpr2022_train[\"role\"].notnull()][\"chart_type\"].value_counts()"
   ]
  },
  {
   "cell_type": "code",
   "execution_count": 17,
   "id": "3bb4e333-52fd-400a-a378-1f478780987d",
   "metadata": {},
   "outputs": [
    {
     "data": {
      "image/png": "[encoded data removed]",
      "text/plain": [
       "<Figure size 600x600 with 1 Axes>"
      ]
     },
     "metadata": {},
     "output_type": "display_data"
    }
   ],
   "source": [
    "counts = df_icpr2022_train[df_icpr2022_train[\"role\"].notnull()][\n",
    "    \"chart_type\"\n",
    "].value_counts()\n",
    "ax = counts.plot.pie(autopct=\"%1.1f%%\", figsize=(6, 6), labels=[\"\"] * len(counts))\n",
    "plt.legend(ax.patches, counts.index, title=\"chart type\", bbox_to_anchor=(1, 0.5))\n",
    "plt.ylabel(\"\")\n",
    "plt.title(\"Distribution of chart type\")\n",
    "plt.show()"
   ]
  },
  {
   "cell_type": "code",
   "execution_count": 18,
   "id": "ca58029f-a5d3-4106-a2ab-ab4deaffb7fe",
   "metadata": {},
   "outputs": [
    {
     "data": {
      "text/plain": [
       "text          42048\n",
       "role              9\n",
       "x0              853\n",
       "x1              867\n",
       "x2              868\n",
       "x3              852\n",
       "y0              992\n",
       "y1              985\n",
       "y2             1012\n",
       "y3             1015\n",
       "chart_type       15\n",
       "annot_file    22923\n",
       "img           22923\n",
       "dtype: int64"
      ]
     },
     "execution_count": 18,
     "metadata": {},
     "output_type": "execute_result"
    }
   ],
   "source": [
    "df_icpr2022_train.nunique()"
   ]
  },
  {
   "cell_type": "code",
   "execution_count": 19,
   "id": "e297bba4-ea58-4c2f-9c18-d96409a32827",
   "metadata": {},
   "outputs": [
    {
     "data": {
      "text/plain": [
       "text          42048\n",
       "role              9\n",
       "x0              853\n",
       "x1              867\n",
       "x2              868\n",
       "x3              852\n",
       "y0              992\n",
       "y1              985\n",
       "y2             1012\n",
       "y3             1015\n",
       "chart_type        8\n",
       "annot_file     6470\n",
       "img            6470\n",
       "dtype: int64"
      ]
     },
     "execution_count": 19,
     "metadata": {},
     "output_type": "execute_result"
    }
   ],
   "source": [
    "df_icpr2022_train[df_icpr2022_train[\"role\"].notnull()].nunique()"
   ]
  },
  {
   "cell_type": "code",
   "execution_count": 20,
   "id": "3f8986a1-3ef8-48d2-b922-b9c19481fe47",
   "metadata": {},
   "outputs": [
    {
     "data": {
      "text/html": [
       "<div>\n",
       "<style scoped>\n",
       "    .dataframe tbody tr th:only-of-type {\n",
       "        vertical-align: middle;\n",
       "    }\n",
       "\n",
       "    .dataframe tbody tr th {\n",
       "        vertical-align: top;\n",
       "    }\n",
       "\n",
       "    .dataframe thead th {\n",
       "        text-align: right;\n",
       "    }\n",
       "</style>\n",
       "<table border=\"1\" class=\"dataframe\">\n",
       "  <thead>\n",
       "    <tr style=\"text-align: right;\">\n",
       "      <th></th>\n",
       "      <th>text</th>\n",
       "      <th>role</th>\n",
       "      <th>x0</th>\n",
       "      <th>x1</th>\n",
       "      <th>x2</th>\n",
       "      <th>x3</th>\n",
       "      <th>y0</th>\n",
       "      <th>y1</th>\n",
       "      <th>y2</th>\n",
       "      <th>y3</th>\n",
       "      <th>chart_type</th>\n",
       "      <th>annot_file</th>\n",
       "      <th>img</th>\n",
       "    </tr>\n",
       "  </thead>\n",
       "  <tbody>\n",
       "    <tr>\n",
       "      <th>534</th>\n",
       "      <td>Group</td>\n",
       "      <td>axis_title</td>\n",
       "      <td>372.0</td>\n",
       "      <td>432.0</td>\n",
       "      <td>432.0</td>\n",
       "      <td>372.0</td>\n",
       "      <td>430.0</td>\n",
       "      <td>430.0</td>\n",
       "      <td>453.0</td>\n",
       "      <td>453.0</td>\n",
       "      <td>scatter</td>\n",
       "      <td>./datasets/ICPR2022_CHARTINFO_UB_PMC_TRAIN_v1....</td>\n",
       "      <td>./datasets/ICPR2022_CHARTINFO_UB_PMC_TRAIN_v1....</td>\n",
       "    </tr>\n",
       "    <tr>\n",
       "      <th>535</th>\n",
       "      <td>BCP/Hyaluronic</td>\n",
       "      <td>tick_label</td>\n",
       "      <td>578.0</td>\n",
       "      <td>702.0</td>\n",
       "      <td>702.0</td>\n",
       "      <td>578.0</td>\n",
       "      <td>401.0</td>\n",
       "      <td>401.0</td>\n",
       "      <td>422.0</td>\n",
       "      <td>422.0</td>\n",
       "      <td>scatter</td>\n",
       "      <td>./datasets/ICPR2022_CHARTINFO_UB_PMC_TRAIN_v1....</td>\n",
       "      <td>./datasets/ICPR2022_CHARTINFO_UB_PMC_TRAIN_v1....</td>\n",
       "    </tr>\n",
       "    <tr>\n",
       "      <th>536</th>\n",
       "      <td>BCP/CMC-crosslink</td>\n",
       "      <td>tick_label</td>\n",
       "      <td>407.0</td>\n",
       "      <td>563.0</td>\n",
       "      <td>563.0</td>\n",
       "      <td>407.0</td>\n",
       "      <td>401.0</td>\n",
       "      <td>401.0</td>\n",
       "      <td>418.0</td>\n",
       "      <td>418.0</td>\n",
       "      <td>scatter</td>\n",
       "      <td>./datasets/ICPR2022_CHARTINFO_UB_PMC_TRAIN_v1....</td>\n",
       "      <td>./datasets/ICPR2022_CHARTINFO_UB_PMC_TRAIN_v1....</td>\n",
       "    </tr>\n",
       "    <tr>\n",
       "      <th>537</th>\n",
       "      <td>BCP/CMC</td>\n",
       "      <td>tick_label</td>\n",
       "      <td>291.0</td>\n",
       "      <td>372.0</td>\n",
       "      <td>372.0</td>\n",
       "      <td>291.0</td>\n",
       "      <td>401.0</td>\n",
       "      <td>401.0</td>\n",
       "      <td>418.0</td>\n",
       "      <td>418.0</td>\n",
       "      <td>scatter</td>\n",
       "      <td>./datasets/ICPR2022_CHARTINFO_UB_PMC_TRAIN_v1....</td>\n",
       "      <td>./datasets/ICPR2022_CHARTINFO_UB_PMC_TRAIN_v1....</td>\n",
       "    </tr>\n",
       "    <tr>\n",
       "      <th>538</th>\n",
       "      <td>BCP(control)</td>\n",
       "      <td>tick_label</td>\n",
       "      <td>127.0</td>\n",
       "      <td>227.0</td>\n",
       "      <td>227.0</td>\n",
       "      <td>127.0</td>\n",
       "      <td>399.0</td>\n",
       "      <td>399.0</td>\n",
       "      <td>422.0</td>\n",
       "      <td>422.0</td>\n",
       "      <td>scatter</td>\n",
       "      <td>./datasets/ICPR2022_CHARTINFO_UB_PMC_TRAIN_v1....</td>\n",
       "      <td>./datasets/ICPR2022_CHARTINFO_UB_PMC_TRAIN_v1....</td>\n",
       "    </tr>\n",
       "  </tbody>\n",
       "</table>\n",
       "</div>"
      ],
      "text/plain": [
       "                  text        role     x0     x1     x2     x3     y0     y1  \\\n",
       "534              Group  axis_title  372.0  432.0  432.0  372.0  430.0  430.0   \n",
       "535     BCP/Hyaluronic  tick_label  578.0  702.0  702.0  578.0  401.0  401.0   \n",
       "536  BCP/CMC-crosslink  tick_label  407.0  563.0  563.0  407.0  401.0  401.0   \n",
       "537            BCP/CMC  tick_label  291.0  372.0  372.0  291.0  401.0  401.0   \n",
       "538       BCP(control)  tick_label  127.0  227.0  227.0  127.0  399.0  399.0   \n",
       "\n",
       "        y2     y3 chart_type  \\\n",
       "534  453.0  453.0    scatter   \n",
       "535  422.0  422.0    scatter   \n",
       "536  418.0  418.0    scatter   \n",
       "537  418.0  418.0    scatter   \n",
       "538  422.0  422.0    scatter   \n",
       "\n",
       "                                            annot_file  \\\n",
       "534  ./datasets/ICPR2022_CHARTINFO_UB_PMC_TRAIN_v1....   \n",
       "535  ./datasets/ICPR2022_CHARTINFO_UB_PMC_TRAIN_v1....   \n",
       "536  ./datasets/ICPR2022_CHARTINFO_UB_PMC_TRAIN_v1....   \n",
       "537  ./datasets/ICPR2022_CHARTINFO_UB_PMC_TRAIN_v1....   \n",
       "538  ./datasets/ICPR2022_CHARTINFO_UB_PMC_TRAIN_v1....   \n",
       "\n",
       "                                                   img  \n",
       "534  ./datasets/ICPR2022_CHARTINFO_UB_PMC_TRAIN_v1....  \n",
       "535  ./datasets/ICPR2022_CHARTINFO_UB_PMC_TRAIN_v1....  \n",
       "536  ./datasets/ICPR2022_CHARTINFO_UB_PMC_TRAIN_v1....  \n",
       "537  ./datasets/ICPR2022_CHARTINFO_UB_PMC_TRAIN_v1....  \n",
       "538  ./datasets/ICPR2022_CHARTINFO_UB_PMC_TRAIN_v1....  "
      ]
     },
     "execution_count": 20,
     "metadata": {},
     "output_type": "execute_result"
    }
   ],
   "source": [
    "df_icpr2022_train[df_icpr2022_train[\"role\"].notnull()].head()"
   ]
  },
  {
   "cell_type": "code",
   "execution_count": 21,
   "id": "e84da509-0c50-4a56-ba8c-ec2cfe583a39",
   "metadata": {},
   "outputs": [
    {
     "name": "stdout",
     "output_type": "stream",
     "text": [
      "./datasets/ICPR2022_CHARTINFO_UB_PMC_TRAIN_v1.0/images/horizontal_interval/PMC5455512___materials-08-05138-g007.jpg\n"
     ]
    },
    {
     "data": {
      "text/plain": [
       "True"
      ]
     },
     "execution_count": 21,
     "metadata": {},
     "output_type": "execute_result"
    }
   ],
   "source": [
    "random_img_path = (\n",
    "    df_icpr2022_train[\n",
    "        df_icpr2022_train[\"role\"].notnull()\n",
    "        & (df_icpr2022_train[\"chart_type\"] == \"horizontal interval\")\n",
    "    ][\"img\"]\n",
    "    .sample(1)\n",
    "    .values[0]\n",
    ")\n",
    "# random_img_path = \"./datasets/ICPR2022_CHARTINFO_UB_PMC_TRAIN_v1.0/images/line/PMC5615651___materials-10-00996-g007.jpg\"\n",
    "\n",
    "print(random_img_path)\n",
    "\n",
    "img = cv2.imread(random_img_path)\n",
    "\n",
    "labeled_polygons = []\n",
    "\n",
    "for idx, row in df_icpr2022_train[\n",
    "    df_icpr2022_train[\"img\"] == random_img_path\n",
    "].iterrows():\n",
    "    labeled_polygons.append(\n",
    "        (\n",
    "            [\n",
    "                (row[\"x0\"], row[\"y0\"]),\n",
    "                (row[\"x1\"], row[\"y1\"]),\n",
    "                (row[\"x2\"], row[\"y2\"]),\n",
    "                (row[\"x3\"], row[\"y3\"]),\n",
    "            ],\n",
    "            row[\"role\"],\n",
    "        )\n",
    "    )\n",
    "\n",
    "font = cv2.FONT_HERSHEY_SIMPLEX\n",
    "color = (0, 0, 255)\n",
    "thikness = 1\n",
    "scale = 0.5\n",
    "\n",
    "for points, label in labeled_polygons:\n",
    "    pts_arr = np.array(points, np.int32).reshape((-1, 1, 2))\n",
    "    cv2.polylines(img, [pts_arr], isClosed=True, color=color, thickness=thikness)\n",
    "    # Draw label near the first point\n",
    "    cv2.putText(\n",
    "        img,\n",
    "        label,\n",
    "        (int(points[0][0]), int(points[0][1]) - 5),\n",
    "        font,\n",
    "        scale,\n",
    "        color,\n",
    "        thikness,\n",
    "    )\n",
    "\n",
    "cv2.imwrite(f\"./datasets/examples/annot_{random_img_path.replace('/', '_')}\", img)"
   ]
  },
  {
   "cell_type": "code",
   "execution_count": 23,
   "id": "67ed5413-1eaf-4892-9e99-4122bb0c1375",
   "metadata": {},
   "outputs": [],
   "source": [
    "train_out_dir = \"./datasets/_ICPR2022Real/train\"\n",
    "os.makedirs(f\"{train_out_dir}/annotations\", exist_ok=True)\n",
    "os.makedirs(f\"{train_out_dir}/images\", exist_ok=True)"
   ]
  },
  {
   "cell_type": "code",
   "execution_count": 24,
   "id": "a6f91717-4331-4946-8a45-2d3abe7563ab",
   "metadata": {},
   "outputs": [],
   "source": [
    "try:\n",
    "    if not create_icpr2022real:\n",
    "        raise Exception(\"create_icpr2022real set to False\")\n",
    "\n",
    "    for file_path in train_annot_paths:\n",
    "        file_name = os.path.basename(file_path)\n",
    "        with open(file_path, \"r\") as f:\n",
    "            data = json.load(f)\n",
    "            if data[\"task3\"] and \"task2_output\" in data[\"task3\"][\"input\"]:\n",
    "                i = 0\n",
    "                for text_block in data[\"task3\"][\"input\"][\"task2_output\"][\"text_blocks\"]:\n",
    "                    text_block[\"polygon\"][\"x0\"] = max(0, text_block[\"polygon\"][\"x0\"])\n",
    "                    text_block[\"polygon\"][\"x1\"] = max(0, text_block[\"polygon\"][\"x1\"])\n",
    "                    text_block[\"polygon\"][\"x2\"] = max(0, text_block[\"polygon\"][\"x2\"])\n",
    "                    text_block[\"polygon\"][\"x3\"] = max(0, text_block[\"polygon\"][\"x3\"])\n",
    "                    text_block[\"polygon\"][\"y0\"] = max(0, text_block[\"polygon\"][\"y0\"])\n",
    "                    text_block[\"polygon\"][\"y1\"] = max(0, text_block[\"polygon\"][\"y1\"])\n",
    "                    text_block[\"polygon\"][\"y2\"] = max(0, text_block[\"polygon\"][\"y2\"])\n",
    "                    text_block[\"polygon\"][\"y3\"] = max(0, text_block[\"polygon\"][\"y3\"])\n",
    "                with open(f\"{train_out_dir}/annotations/{file_name}\", \"w\") as f:\n",
    "                    json.dump(data, f)\n",
    "                    img = file_path.replace(\"annotations_JSON\", \"images\").replace(\n",
    "                        \"json\", \"jpg\"\n",
    "                    )\n",
    "                    shutil.copy(\n",
    "                        img,\n",
    "                        f\"{train_out_dir}/images/{file_name.replace('json', 'jpg')}\",\n",
    "                    )\n",
    "\n",
    "except Exception:\n",
    "    if create_icpr2022real:\n",
    "        print(file_path)\n",
    "    traceback.print_exc()"
   ]
  },
  {
   "cell_type": "code",
   "execution_count": 25,
   "id": "7a649959-40dd-4c2d-82db-4e730eef146d",
   "metadata": {},
   "outputs": [],
   "source": [
    "train_hf_out_dir = \"./datasets/ICPR2022Real_hf/train\"\n",
    "os.makedirs(f\"{train_hf_out_dir}/images\", exist_ok=True)\n",
    "\n",
    "max_files_per_dir = 5000"
   ]
  },
  {
   "cell_type": "code",
   "execution_count": 26,
   "id": "4286bad0-7a4c-4118-838a-76e5e5dcdecb",
   "metadata": {},
   "outputs": [],
   "source": [
    "try:\n",
    "    if not create_hf_datasets:\n",
    "        raise Exception(\"create_hf_datasets set to False\")\n",
    "\n",
    "    img_split_lookup = {}\n",
    "\n",
    "    for idx, img in enumerate(df_icpr2022_train[\"img\"].unique()):\n",
    "        img_split_lookup[img] = idx // max_files_per_dir\n",
    "        os.makedirs(\n",
    "            f\"{train_hf_out_dir}/images/split_{idx//max_files_per_dir}\", exist_ok=True\n",
    "        )\n",
    "        shutil.copy(\n",
    "            img,\n",
    "            f\"{train_hf_out_dir}/images/split_{idx//max_files_per_dir}/{os.path.basename(img)}\",\n",
    "        )\n",
    "\n",
    "    df_icpr2022_train_hf = df_icpr2022_train.copy()\n",
    "    df_icpr2022_train_hf[\"file_name\"] = df_icpr2022_train_hf[\"img\"].apply(\n",
    "        lambda v: f\"images/split_{img_split_lookup[v]}/{os.path.basename(v)}\"\n",
    "    )\n",
    "\n",
    "    df_icpr2022_train_hf = df_icpr2022_train_hf.drop(columns=[\"img\"])\n",
    "    df_icpr2022_train_hf = df_icpr2022_train_hf.drop(columns=[\"annot_file\"])\n",
    "\n",
    "    df_icpr2022_train_hf.to_csv(f\"{train_hf_out_dir}/metadata.csv\", index=False)\n",
    "\n",
    "except Exception:\n",
    "    traceback.print_exc()"
   ]
  },
  {
   "cell_type": "markdown",
   "id": "ff783419-fe5c-44d2-9256-a973eaa182c8",
   "metadata": {},
   "source": [
    "# Test dataset"
   ]
  },
  {
   "cell_type": "markdown",
   "id": "489441e2-4ca3-4f7d-a645-02e80cf736a3",
   "metadata": {},
   "source": [
    "## ICPR2022"
   ]
  },
  {
   "cell_type": "code",
   "execution_count": 27,
   "id": "74fadcd0-582d-4ecc-a228-946ca516ed65",
   "metadata": {},
   "outputs": [
    {
     "data": {
      "text/plain": [
       "13259"
      ]
     },
     "execution_count": 27,
     "metadata": {},
     "output_type": "execute_result"
    }
   ],
   "source": [
    "icpr2022_test_annot_folder_path = (\n",
    "    \"./datasets/ICPR2022_CHARTINFO_UB_UNITEC_PMC_TEST_v2.1/final_full_GT\"\n",
    ")\n",
    "\n",
    "# Recursively find all .json files\n",
    "icpr2022_test_annot_paths = glob.glob(\n",
    "    os.path.join(icpr2022_test_annot_folder_path, \"**\", \"annotations_JSON\", \"*.json\"),\n",
    "    recursive=True,\n",
    ")\n",
    "\n",
    "len(icpr2022_test_annot_paths)"
   ]
  },
  {
   "cell_type": "code",
   "execution_count": 28,
   "id": "e2d9ad92-6a86-435e-98b2-bec907458a8c",
   "metadata": {},
   "outputs": [
    {
     "data": {
      "text/plain": [
       "'./datasets/ICPR2022_CHARTINFO_UB_UNITEC_PMC_TEST_v2.1/final_full_GT/split_1/annotations_JSON/PMC6428810___1_HTML.json'"
      ]
     },
     "execution_count": 28,
     "metadata": {},
     "output_type": "execute_result"
    }
   ],
   "source": [
    "icpr2022_test_annot_paths[0]"
   ]
  },
  {
   "cell_type": "code",
   "execution_count": 29,
   "id": "045e52ff-8f0e-4b6f-9ee9-d5091dc114b2",
   "metadata": {},
   "outputs": [
    {
     "data": {
      "text/plain": [
       "13259"
      ]
     },
     "execution_count": 29,
     "metadata": {},
     "output_type": "execute_result"
    }
   ],
   "source": [
    "icpr2022_test_img_folder_path = (\n",
    "    \"./datasets/ICPR2022_CHARTINFO_UB_UNITEC_PMC_TEST_v2.1/chart_images\"\n",
    ")\n",
    "\n",
    "# Recursively find all .json files\n",
    "icpr2022_test_img_paths = glob.glob(\n",
    "    os.path.join(icpr2022_test_img_folder_path, \"**\", \"images\", \"*.jpg\"), recursive=True\n",
    ")\n",
    "\n",
    "len(icpr2022_test_img_paths)"
   ]
  },
  {
   "cell_type": "code",
   "execution_count": 30,
   "id": "2e03ed41-1761-45c7-81b8-8cee1e7a492f",
   "metadata": {},
   "outputs": [],
   "source": [
    "icpr2022_test = {\n",
    "    \"text\": [],\n",
    "    \"role\": [],\n",
    "    \"x0\": [],\n",
    "    \"x1\": [],\n",
    "    \"x2\": [],\n",
    "    \"x3\": [],\n",
    "    \"y0\": [],\n",
    "    \"y1\": [],\n",
    "    \"y2\": [],\n",
    "    \"y3\": [],\n",
    "    \"chart_type\": [],\n",
    "    \"annot_file\": [],\n",
    "    \"img\": [],\n",
    "}\n",
    "\n",
    "try:\n",
    "    for file_path in icpr2022_test_annot_paths:\n",
    "        with open(file_path, \"r\") as f:\n",
    "            data = json.load(f)\n",
    "            if data[\"task3\"] and \"task2_output\" in data[\"task3\"][\"input\"]:\n",
    "                i = 0\n",
    "                for text_block in data[\"task3\"][\"input\"][\"task2_output\"][\"text_blocks\"]:\n",
    "                    icpr2022_test[\"text\"].append(text_block[\"text\"])\n",
    "                    icpr2022_test[\"role\"].append(\n",
    "                        data[\"task3\"][\"output\"][\"text_roles\"][i][\"role\"]\n",
    "                    )\n",
    "                    icpr2022_test[\"x0\"].append(text_block[\"polygon\"][\"x0\"])\n",
    "                    icpr2022_test[\"x1\"].append(text_block[\"polygon\"][\"x1\"])\n",
    "                    icpr2022_test[\"x2\"].append(text_block[\"polygon\"][\"x2\"])\n",
    "                    icpr2022_test[\"x3\"].append(text_block[\"polygon\"][\"x3\"])\n",
    "                    icpr2022_test[\"y0\"].append(text_block[\"polygon\"][\"y0\"])\n",
    "                    icpr2022_test[\"y1\"].append(text_block[\"polygon\"][\"y1\"])\n",
    "                    icpr2022_test[\"y2\"].append(text_block[\"polygon\"][\"y2\"])\n",
    "                    icpr2022_test[\"y3\"].append(text_block[\"polygon\"][\"y3\"])\n",
    "                    icpr2022_test[\"chart_type\"].append(\n",
    "                        data[\"task1\"][\"output\"][\"chart_type\"]\n",
    "                    )\n",
    "                    icpr2022_test[\"annot_file\"].append(file_path)\n",
    "                    pos_img = (\n",
    "                        file_path.replace(\"final_full_GT\", \"chart_images\")\n",
    "                        .replace(\"annotations_JSON\", \"images\")\n",
    "                        .replace(\"json\", \"jpg\")\n",
    "                    )\n",
    "                    if os.path.exists(pos_img):\n",
    "                        icpr2022_test[\"img\"].append(pos_img)\n",
    "                    else:\n",
    "                        icpr2022_test[\"img\"].append(None)\n",
    "                    i += 1\n",
    "\n",
    "            else:\n",
    "                icpr2022_test[\"text\"].append(None)\n",
    "                icpr2022_test[\"role\"].append(None)\n",
    "                icpr2022_test[\"x0\"].append(None)\n",
    "                icpr2022_test[\"x1\"].append(None)\n",
    "                icpr2022_test[\"x2\"].append(None)\n",
    "                icpr2022_test[\"x3\"].append(None)\n",
    "                icpr2022_test[\"y0\"].append(None)\n",
    "                icpr2022_test[\"y1\"].append(None)\n",
    "                icpr2022_test[\"y2\"].append(None)\n",
    "                icpr2022_test[\"y3\"].append(None)\n",
    "                icpr2022_test[\"chart_type\"].append(\n",
    "                    data[\"task1\"][\"output\"][\"chart_type\"]\n",
    "                )\n",
    "                icpr2022_test[\"annot_file\"].append(file_path)\n",
    "                pos_img = (\n",
    "                    file_path.replace(\"final_full_GT\", \"chart_images\")\n",
    "                    .replace(\"annotations_JSON\", \"images\")\n",
    "                    .replace(\"json\", \"jpg\")\n",
    "                )\n",
    "                if os.path.exists(pos_img):\n",
    "                    icpr2022_test[\"img\"].append(pos_img)\n",
    "                else:\n",
    "                    icpr2022_test[\"img\"].append(None)\n",
    "\n",
    "except Exception as e:\n",
    "    print(e, file_path)"
   ]
  },
  {
   "cell_type": "code",
   "execution_count": 31,
   "id": "9fe1d23d-af95-427f-9dc8-7f27dc17508f",
   "metadata": {},
   "outputs": [
    {
     "data": {
      "text/html": [
       "<div>\n",
       "<style scoped>\n",
       "    .dataframe tbody tr th:only-of-type {\n",
       "        vertical-align: middle;\n",
       "    }\n",
       "\n",
       "    .dataframe tbody tr th {\n",
       "        vertical-align: top;\n",
       "    }\n",
       "\n",
       "    .dataframe thead th {\n",
       "        text-align: right;\n",
       "    }\n",
       "</style>\n",
       "<table border=\"1\" class=\"dataframe\">\n",
       "  <thead>\n",
       "    <tr style=\"text-align: right;\">\n",
       "      <th></th>\n",
       "      <th>text</th>\n",
       "      <th>role</th>\n",
       "      <th>x0</th>\n",
       "      <th>x1</th>\n",
       "      <th>x2</th>\n",
       "      <th>x3</th>\n",
       "      <th>y0</th>\n",
       "      <th>y1</th>\n",
       "      <th>y2</th>\n",
       "      <th>y3</th>\n",
       "      <th>chart_type</th>\n",
       "      <th>annot_file</th>\n",
       "      <th>img</th>\n",
       "    </tr>\n",
       "  </thead>\n",
       "  <tbody>\n",
       "    <tr>\n",
       "      <th>0</th>\n",
       "      <td>None</td>\n",
       "      <td>None</td>\n",
       "      <td>NaN</td>\n",
       "      <td>NaN</td>\n",
       "      <td>NaN</td>\n",
       "      <td>NaN</td>\n",
       "      <td>NaN</td>\n",
       "      <td>NaN</td>\n",
       "      <td>NaN</td>\n",
       "      <td>NaN</td>\n",
       "      <td>line</td>\n",
       "      <td>./datasets/ICPR2022_CHARTINFO_UB_UNITEC_PMC_TE...</td>\n",
       "      <td>./datasets/ICPR2022_CHARTINFO_UB_UNITEC_PMC_TE...</td>\n",
       "    </tr>\n",
       "    <tr>\n",
       "      <th>1</th>\n",
       "      <td>None</td>\n",
       "      <td>None</td>\n",
       "      <td>NaN</td>\n",
       "      <td>NaN</td>\n",
       "      <td>NaN</td>\n",
       "      <td>NaN</td>\n",
       "      <td>NaN</td>\n",
       "      <td>NaN</td>\n",
       "      <td>NaN</td>\n",
       "      <td>NaN</td>\n",
       "      <td>vertical bar</td>\n",
       "      <td>./datasets/ICPR2022_CHARTINFO_UB_UNITEC_PMC_TE...</td>\n",
       "      <td>./datasets/ICPR2022_CHARTINFO_UB_UNITEC_PMC_TE...</td>\n",
       "    </tr>\n",
       "    <tr>\n",
       "      <th>2</th>\n",
       "      <td>None</td>\n",
       "      <td>None</td>\n",
       "      <td>NaN</td>\n",
       "      <td>NaN</td>\n",
       "      <td>NaN</td>\n",
       "      <td>NaN</td>\n",
       "      <td>NaN</td>\n",
       "      <td>NaN</td>\n",
       "      <td>NaN</td>\n",
       "      <td>NaN</td>\n",
       "      <td>horizontal bar</td>\n",
       "      <td>./datasets/ICPR2022_CHARTINFO_UB_UNITEC_PMC_TE...</td>\n",
       "      <td>./datasets/ICPR2022_CHARTINFO_UB_UNITEC_PMC_TE...</td>\n",
       "    </tr>\n",
       "    <tr>\n",
       "      <th>3</th>\n",
       "      <td>None</td>\n",
       "      <td>None</td>\n",
       "      <td>NaN</td>\n",
       "      <td>NaN</td>\n",
       "      <td>NaN</td>\n",
       "      <td>NaN</td>\n",
       "      <td>NaN</td>\n",
       "      <td>NaN</td>\n",
       "      <td>NaN</td>\n",
       "      <td>NaN</td>\n",
       "      <td>horizontal bar</td>\n",
       "      <td>./datasets/ICPR2022_CHARTINFO_UB_UNITEC_PMC_TE...</td>\n",
       "      <td>./datasets/ICPR2022_CHARTINFO_UB_UNITEC_PMC_TE...</td>\n",
       "    </tr>\n",
       "    <tr>\n",
       "      <th>4</th>\n",
       "      <td>None</td>\n",
       "      <td>None</td>\n",
       "      <td>NaN</td>\n",
       "      <td>NaN</td>\n",
       "      <td>NaN</td>\n",
       "      <td>NaN</td>\n",
       "      <td>NaN</td>\n",
       "      <td>NaN</td>\n",
       "      <td>NaN</td>\n",
       "      <td>NaN</td>\n",
       "      <td>scatter-line</td>\n",
       "      <td>./datasets/ICPR2022_CHARTINFO_UB_UNITEC_PMC_TE...</td>\n",
       "      <td>./datasets/ICPR2022_CHARTINFO_UB_UNITEC_PMC_TE...</td>\n",
       "    </tr>\n",
       "  </tbody>\n",
       "</table>\n",
       "</div>"
      ],
      "text/plain": [
       "   text  role  x0  x1  x2  x3  y0  y1  y2  y3      chart_type  \\\n",
       "0  None  None NaN NaN NaN NaN NaN NaN NaN NaN            line   \n",
       "1  None  None NaN NaN NaN NaN NaN NaN NaN NaN    vertical bar   \n",
       "2  None  None NaN NaN NaN NaN NaN NaN NaN NaN  horizontal bar   \n",
       "3  None  None NaN NaN NaN NaN NaN NaN NaN NaN  horizontal bar   \n",
       "4  None  None NaN NaN NaN NaN NaN NaN NaN NaN    scatter-line   \n",
       "\n",
       "                                          annot_file  \\\n",
       "0  ./datasets/ICPR2022_CHARTINFO_UB_UNITEC_PMC_TE...   \n",
       "1  ./datasets/ICPR2022_CHARTINFO_UB_UNITEC_PMC_TE...   \n",
       "2  ./datasets/ICPR2022_CHARTINFO_UB_UNITEC_PMC_TE...   \n",
       "3  ./datasets/ICPR2022_CHARTINFO_UB_UNITEC_PMC_TE...   \n",
       "4  ./datasets/ICPR2022_CHARTINFO_UB_UNITEC_PMC_TE...   \n",
       "\n",
       "                                                 img  \n",
       "0  ./datasets/ICPR2022_CHARTINFO_UB_UNITEC_PMC_TE...  \n",
       "1  ./datasets/ICPR2022_CHARTINFO_UB_UNITEC_PMC_TE...  \n",
       "2  ./datasets/ICPR2022_CHARTINFO_UB_UNITEC_PMC_TE...  \n",
       "3  ./datasets/ICPR2022_CHARTINFO_UB_UNITEC_PMC_TE...  \n",
       "4  ./datasets/ICPR2022_CHARTINFO_UB_UNITEC_PMC_TE...  "
      ]
     },
     "execution_count": 31,
     "metadata": {},
     "output_type": "execute_result"
    }
   ],
   "source": [
    "df_icpr2022_test = pd.DataFrame(icpr2022_test)\n",
    "df_icpr2022_test.head()"
   ]
  },
  {
   "cell_type": "code",
   "execution_count": 32,
   "id": "68b4fa66-a671-4700-b76b-21f414538e38",
   "metadata": {},
   "outputs": [],
   "source": [
    "df_icpr2022_test[\"split\"] = df_icpr2022_test[\"annot_file\"].str.extract(r\"/(split_\\d+)/\")"
   ]
  },
  {
   "cell_type": "code",
   "execution_count": 33,
   "id": "cf0a8a8d-5d7d-48a7-83e0-c511194ea9fb",
   "metadata": {},
   "outputs": [
    {
     "name": "stdout",
     "output_type": "stream",
     "text": [
      "<class 'pandas.core.frame.DataFrame'>\n",
      "RangeIndex: 52040 entries, 0 to 52039\n",
      "Data columns (total 14 columns):\n",
      " #   Column      Non-Null Count  Dtype  \n",
      "---  ------      --------------  -----  \n",
      " 0   text        40654 non-null  object \n",
      " 1   role        40654 non-null  object \n",
      " 2   x0          40654 non-null  float64\n",
      " 3   x1          40654 non-null  float64\n",
      " 4   x2          40654 non-null  float64\n",
      " 5   x3          40654 non-null  float64\n",
      " 6   y0          40654 non-null  float64\n",
      " 7   y1          40654 non-null  float64\n",
      " 8   y2          40654 non-null  float64\n",
      " 9   y3          40654 non-null  float64\n",
      " 10  chart_type  52040 non-null  object \n",
      " 11  annot_file  52040 non-null  object \n",
      " 12  img         52040 non-null  object \n",
      " 13  split       52040 non-null  object \n",
      "dtypes: float64(8), object(6)\n",
      "memory usage: 5.6+ MB\n"
     ]
    }
   ],
   "source": [
    "df_icpr2022_test.info()"
   ]
  },
  {
   "cell_type": "code",
   "execution_count": 34,
   "id": "5f451681-2700-4e39-8387-9cbc5595d231",
   "metadata": {},
   "outputs": [
    {
     "data": {
      "text/html": [
       "<div>\n",
       "<style scoped>\n",
       "    .dataframe tbody tr th:only-of-type {\n",
       "        vertical-align: middle;\n",
       "    }\n",
       "\n",
       "    .dataframe tbody tr th {\n",
       "        vertical-align: top;\n",
       "    }\n",
       "\n",
       "    .dataframe thead th {\n",
       "        text-align: right;\n",
       "    }\n",
       "</style>\n",
       "<table border=\"1\" class=\"dataframe\">\n",
       "  <thead>\n",
       "    <tr style=\"text-align: right;\">\n",
       "      <th></th>\n",
       "      <th>x0</th>\n",
       "      <th>x1</th>\n",
       "      <th>x2</th>\n",
       "      <th>x3</th>\n",
       "      <th>y0</th>\n",
       "      <th>y1</th>\n",
       "      <th>y2</th>\n",
       "      <th>y3</th>\n",
       "    </tr>\n",
       "  </thead>\n",
       "  <tbody>\n",
       "    <tr>\n",
       "      <th>count</th>\n",
       "      <td>40654.000000</td>\n",
       "      <td>40654.000000</td>\n",
       "      <td>40654.000000</td>\n",
       "      <td>40654.000000</td>\n",
       "      <td>40654.000000</td>\n",
       "      <td>40654.000000</td>\n",
       "      <td>40654.000000</td>\n",
       "      <td>40654.000000</td>\n",
       "    </tr>\n",
       "    <tr>\n",
       "      <th>mean</th>\n",
       "      <td>241.306440</td>\n",
       "      <td>287.360875</td>\n",
       "      <td>287.770035</td>\n",
       "      <td>241.716338</td>\n",
       "      <td>281.210090</td>\n",
       "      <td>279.153097</td>\n",
       "      <td>302.914695</td>\n",
       "      <td>304.968343</td>\n",
       "    </tr>\n",
       "    <tr>\n",
       "      <th>std</th>\n",
       "      <td>217.287315</td>\n",
       "      <td>226.768200</td>\n",
       "      <td>226.935584</td>\n",
       "      <td>217.434362</td>\n",
       "      <td>179.728169</td>\n",
       "      <td>178.180529</td>\n",
       "      <td>177.315521</td>\n",
       "      <td>178.740717</td>\n",
       "    </tr>\n",
       "    <tr>\n",
       "      <th>min</th>\n",
       "      <td>-5.000000</td>\n",
       "      <td>7.000000</td>\n",
       "      <td>7.000000</td>\n",
       "      <td>-2.000000</td>\n",
       "      <td>-1.000000</td>\n",
       "      <td>-5.000000</td>\n",
       "      <td>6.000000</td>\n",
       "      <td>6.000000</td>\n",
       "    </tr>\n",
       "    <tr>\n",
       "      <th>25%</th>\n",
       "      <td>44.000000</td>\n",
       "      <td>74.000000</td>\n",
       "      <td>74.000000</td>\n",
       "      <td>44.000000</td>\n",
       "      <td>131.000000</td>\n",
       "      <td>131.000000</td>\n",
       "      <td>161.000000</td>\n",
       "      <td>161.000000</td>\n",
       "    </tr>\n",
       "    <tr>\n",
       "      <th>50%</th>\n",
       "      <td>178.000000</td>\n",
       "      <td>242.000000</td>\n",
       "      <td>243.000000</td>\n",
       "      <td>179.000000</td>\n",
       "      <td>278.000000</td>\n",
       "      <td>276.000000</td>\n",
       "      <td>302.000000</td>\n",
       "      <td>304.000000</td>\n",
       "    </tr>\n",
       "    <tr>\n",
       "      <th>75%</th>\n",
       "      <td>408.000000</td>\n",
       "      <td>466.000000</td>\n",
       "      <td>466.000000</td>\n",
       "      <td>408.000000</td>\n",
       "      <td>414.000000</td>\n",
       "      <td>409.000000</td>\n",
       "      <td>430.000000</td>\n",
       "      <td>434.000000</td>\n",
       "    </tr>\n",
       "    <tr>\n",
       "      <th>max</th>\n",
       "      <td>2090.000000</td>\n",
       "      <td>2186.000000</td>\n",
       "      <td>2186.000000</td>\n",
       "      <td>2090.000000</td>\n",
       "      <td>1521.000000</td>\n",
       "      <td>1521.000000</td>\n",
       "      <td>1540.000000</td>\n",
       "      <td>1540.000000</td>\n",
       "    </tr>\n",
       "  </tbody>\n",
       "</table>\n",
       "</div>"
      ],
      "text/plain": [
       "                 x0            x1            x2            x3            y0  \\\n",
       "count  40654.000000  40654.000000  40654.000000  40654.000000  40654.000000   \n",
       "mean     241.306440    287.360875    287.770035    241.716338    281.210090   \n",
       "std      217.287315    226.768200    226.935584    217.434362    179.728169   \n",
       "min       -5.000000      7.000000      7.000000     -2.000000     -1.000000   \n",
       "25%       44.000000     74.000000     74.000000     44.000000    131.000000   \n",
       "50%      178.000000    242.000000    243.000000    179.000000    278.000000   \n",
       "75%      408.000000    466.000000    466.000000    408.000000    414.000000   \n",
       "max     2090.000000   2186.000000   2186.000000   2090.000000   1521.000000   \n",
       "\n",
       "                 y1            y2            y3  \n",
       "count  40654.000000  40654.000000  40654.000000  \n",
       "mean     279.153097    302.914695    304.968343  \n",
       "std      178.180529    177.315521    178.740717  \n",
       "min       -5.000000      6.000000      6.000000  \n",
       "25%      131.000000    161.000000    161.000000  \n",
       "50%      276.000000    302.000000    304.000000  \n",
       "75%      409.000000    430.000000    434.000000  \n",
       "max     1521.000000   1540.000000   1540.000000  "
      ]
     },
     "execution_count": 34,
     "metadata": {},
     "output_type": "execute_result"
    }
   ],
   "source": [
    "df_icpr2022_test.describe()"
   ]
  },
  {
   "cell_type": "code",
   "execution_count": 35,
   "id": "91ac80c7-d92b-41a2-87d5-32cb2c5bdd97",
   "metadata": {},
   "outputs": [
    {
     "data": {
      "text/plain": [
       "text          11386\n",
       "role          11386\n",
       "x0            11386\n",
       "x1            11386\n",
       "x2            11386\n",
       "x3            11386\n",
       "y0            11386\n",
       "y1            11386\n",
       "y2            11386\n",
       "y3            11386\n",
       "chart_type        0\n",
       "annot_file        0\n",
       "img               0\n",
       "split             0\n",
       "dtype: int64"
      ]
     },
     "execution_count": 35,
     "metadata": {},
     "output_type": "execute_result"
    }
   ],
   "source": [
    "df_icpr2022_test.isnull().sum()"
   ]
  },
  {
   "cell_type": "code",
   "execution_count": 36,
   "id": "f9eb775b-dd94-4f85-8c24-0840167f627b",
   "metadata": {},
   "outputs": [
    {
     "data": {
      "text/plain": [
       "role\n",
       "tick_label       28032\n",
       "legend_label      3888\n",
       "axis_title        3022\n",
       "other             2741\n",
       "value_label       1575\n",
       "mark_label         764\n",
       "tick_grouping      290\n",
       "chart_title        226\n",
       "legend_title       116\n",
       "Name: count, dtype: int64"
      ]
     },
     "execution_count": 36,
     "metadata": {},
     "output_type": "execute_result"
    }
   ],
   "source": [
    "df_icpr2022_test[\"role\"].value_counts()"
   ]
  },
  {
   "cell_type": "code",
   "execution_count": 37,
   "id": "69e4dc6c-9c68-4a87-92d8-3b000ef9abad",
   "metadata": {},
   "outputs": [
    {
     "data": {
      "image/png": "[encoded data removed]",
      "text/plain": [
       "<Figure size 600x600 with 1 Axes>"
      ]
     },
     "metadata": {},
     "output_type": "display_data"
    }
   ],
   "source": [
    "counts = df_icpr2022_test[\"role\"].value_counts()\n",
    "ax = counts.plot.pie(autopct=\"%1.1f%%\", figsize=(6, 6), labels=[\"\"] * len(counts))\n",
    "plt.legend(ax.patches, counts.index, title=\"role\", bbox_to_anchor=(1, 0.5))\n",
    "plt.ylabel(\"\")\n",
    "plt.title(\"Distribution of role\")\n",
    "plt.show()"
   ]
  },
  {
   "cell_type": "code",
   "execution_count": 38,
   "id": "747db484-f8e5-43d8-82e7-129df915affd",
   "metadata": {},
   "outputs": [
    {
     "data": {
      "text/plain": [
       "chart_type\n",
       "line                   15864\n",
       "vertical bar           15641\n",
       "scatter                 7426\n",
       "horizontal bar          5943\n",
       "vertical box            3661\n",
       "scatter-line            1674\n",
       "horizontal interval      430\n",
       "map                      373\n",
       "pie                      191\n",
       "vertical interval        182\n",
       "heatmap                  180\n",
       "area                     136\n",
       "venn                     131\n",
       "surface                  128\n",
       "manhattan                 80\n",
       "Name: count, dtype: int64"
      ]
     },
     "execution_count": 38,
     "metadata": {},
     "output_type": "execute_result"
    }
   ],
   "source": [
    "df_icpr2022_test[\"chart_type\"].value_counts()"
   ]
  },
  {
   "cell_type": "code",
   "execution_count": 39,
   "id": "2829e77e-d970-46b2-81e6-50a541f1c60d",
   "metadata": {},
   "outputs": [
    {
     "data": {
      "image/png": "[encoded data removed]",
      "text/plain": [
       "<Figure size 600x600 with 1 Axes>"
      ]
     },
     "metadata": {},
     "output_type": "display_data"
    }
   ],
   "source": [
    "counts = df_icpr2022_test[\"chart_type\"].value_counts()\n",
    "ax = counts.plot.pie(autopct=\"%1.1f%%\", figsize=(6, 6), labels=[\"\"] * len(counts))\n",
    "plt.legend(ax.patches, counts.index, title=\"chart type\", bbox_to_anchor=(1, 0.5))\n",
    "plt.ylabel(\"\")\n",
    "plt.title(\"Distribution of chart type\")\n",
    "plt.show()"
   ]
  },
  {
   "cell_type": "code",
   "execution_count": 40,
   "id": "ae94e8f0-0d87-4f11-a1b8-c1bf3fd3a9e3",
   "metadata": {},
   "outputs": [
    {
     "data": {
      "text/plain": [
       "chart_type\n",
       "line              13088\n",
       "vertical bar      12458\n",
       "scatter            6477\n",
       "horizontal bar     5518\n",
       "vertical box       3065\n",
       "scatter-line         48\n",
       "Name: count, dtype: int64"
      ]
     },
     "execution_count": 40,
     "metadata": {},
     "output_type": "execute_result"
    }
   ],
   "source": [
    "df_icpr2022_test[df_icpr2022_test[\"role\"].notnull()][\"chart_type\"].value_counts()"
   ]
  },
  {
   "cell_type": "code",
   "execution_count": 41,
   "id": "e4cb82b0-3c67-4c57-9d8f-3a1a91a75278",
   "metadata": {},
   "outputs": [
    {
     "data": {
      "image/png": "[encoded data removed]",
      "text/plain": [
       "<Figure size 600x600 with 1 Axes>"
      ]
     },
     "metadata": {},
     "output_type": "display_data"
    }
   ],
   "source": [
    "counts = df_icpr2022_test[df_icpr2022_test[\"role\"].notnull()][\n",
    "    \"chart_type\"\n",
    "].value_counts()\n",
    "ax = counts.plot.pie(autopct=\"%1.1f%%\", figsize=(6, 6), labels=[\"\"] * len(counts))\n",
    "plt.legend(ax.patches, counts.index, title=\"chart type\", bbox_to_anchor=(1, 0.5))\n",
    "plt.ylabel(\"\")\n",
    "plt.title(\"Distribution of chart type\")\n",
    "plt.show()"
   ]
  },
  {
   "cell_type": "code",
   "execution_count": 42,
   "id": "a27d7848-b059-4f03-82b7-be9ba34d57bf",
   "metadata": {},
   "outputs": [
    {
     "data": {
      "text/plain": [
       "split\n",
       "split_2    13243\n",
       "split_1    11434\n",
       "split_4     9969\n",
       "split_5     9235\n",
       "split_3     8159\n",
       "Name: count, dtype: int64"
      ]
     },
     "execution_count": 42,
     "metadata": {},
     "output_type": "execute_result"
    }
   ],
   "source": [
    "df_icpr2022_test[\"split\"].value_counts()"
   ]
  },
  {
   "cell_type": "code",
   "execution_count": 43,
   "id": "d0793fa7-badb-44f5-b7a3-de1e44b66aa2",
   "metadata": {},
   "outputs": [
    {
     "data": {
      "text/plain": [
       "split\n",
       "split_2    13243\n",
       "split_4     9969\n",
       "split_5     9235\n",
       "split_3     8159\n",
       "split_1       48\n",
       "Name: count, dtype: int64"
      ]
     },
     "execution_count": 43,
     "metadata": {},
     "output_type": "execute_result"
    }
   ],
   "source": [
    "df_icpr2022_test[df_icpr2022_test[\"role\"].notnull()][\"split\"].value_counts()"
   ]
  },
  {
   "cell_type": "code",
   "execution_count": 44,
   "id": "ea6d948e-b459-486b-be2f-ddbf0fda9a02",
   "metadata": {},
   "outputs": [
    {
     "data": {
      "text/plain": [
       "text          15314\n",
       "role              9\n",
       "x0              822\n",
       "x1              844\n",
       "x2              841\n",
       "x3              821\n",
       "y0              868\n",
       "y1              858\n",
       "y2              888\n",
       "y3              901\n",
       "chart_type       15\n",
       "annot_file    13259\n",
       "img           13259\n",
       "split             5\n",
       "dtype: int64"
      ]
     },
     "execution_count": 44,
     "metadata": {},
     "output_type": "execute_result"
    }
   ],
   "source": [
    "df_icpr2022_test.nunique()"
   ]
  },
  {
   "cell_type": "code",
   "execution_count": 45,
   "id": "08ec4438-f1d0-4835-96a0-513193e44073",
   "metadata": {},
   "outputs": [
    {
     "data": {
      "text/plain": [
       "text          15314\n",
       "role              9\n",
       "x0              822\n",
       "x1              844\n",
       "x2              841\n",
       "x3              821\n",
       "y0              868\n",
       "y1              858\n",
       "y2              888\n",
       "y3              901\n",
       "chart_type        6\n",
       "annot_file     1873\n",
       "img            1873\n",
       "split             5\n",
       "dtype: int64"
      ]
     },
     "execution_count": 45,
     "metadata": {},
     "output_type": "execute_result"
    }
   ],
   "source": [
    "df_icpr2022_test[df_icpr2022_test[\"role\"].notnull()].nunique()"
   ]
  },
  {
   "cell_type": "code",
   "execution_count": 46,
   "id": "e4a3c651-6c86-40bc-bd3e-a6fddf87143f",
   "metadata": {},
   "outputs": [
    {
     "name": "stdout",
     "output_type": "stream",
     "text": [
      "./datasets/ICPR2022_CHARTINFO_UB_UNITEC_PMC_TEST_v2.1/chart_images/split_4/images/PMC3629236___g012.jpg\n"
     ]
    },
    {
     "data": {
      "text/plain": [
       "True"
      ]
     },
     "execution_count": 46,
     "metadata": {},
     "output_type": "execute_result"
    }
   ],
   "source": [
    "random_img_path = (\n",
    "    df_icpr2022_test[df_icpr2022_test[\"role\"].notnull()][\"img\"].sample(1).values[0]\n",
    ")\n",
    "# random_img_path = \"./datasets/ICPR2022_CHARTINFO_UB_UNITEC_PMC_TEST_v2.1/chart_images/split_2/images/PMC6404038___2.jpg\"\n",
    "\n",
    "print(random_img_path)\n",
    "\n",
    "img = cv2.imread(random_img_path)\n",
    "\n",
    "labeled_polygons = []\n",
    "\n",
    "for idx, row in df_icpr2022_test[df_icpr2022_test[\"img\"] == random_img_path].iterrows():\n",
    "    labeled_polygons.append(\n",
    "        (\n",
    "            [\n",
    "                (row[\"x0\"], row[\"y0\"]),\n",
    "                (row[\"x1\"], row[\"y1\"]),\n",
    "                (row[\"x2\"], row[\"y2\"]),\n",
    "                (row[\"x3\"], row[\"y3\"]),\n",
    "            ],\n",
    "            row[\"role\"],\n",
    "        )\n",
    "    )\n",
    "\n",
    "font = cv2.FONT_HERSHEY_SIMPLEX\n",
    "color = (0, 0, 255)\n",
    "thikness = 1\n",
    "scale = 0.5\n",
    "\n",
    "for points, label in labeled_polygons:\n",
    "    pts_arr = np.array(points, np.int32).reshape((-1, 1, 2))\n",
    "    cv2.polylines(img, [pts_arr], isClosed=True, color=color, thickness=thikness)\n",
    "    # Draw label near the first point\n",
    "    cv2.putText(\n",
    "        img,\n",
    "        label,\n",
    "        (int(points[0][0]), int(points[0][1]) - 5),\n",
    "        font,\n",
    "        scale,\n",
    "        color,\n",
    "        thikness,\n",
    "    )\n",
    "\n",
    "cv2.imwrite(f\"./datasets/examples/annot_{random_img_path.replace('/', '_')}\", img)"
   ]
  },
  {
   "cell_type": "code",
   "execution_count": 47,
   "id": "8a06a0ee-1ff4-4472-8de4-ada69e2806b7",
   "metadata": {},
   "outputs": [],
   "source": [
    "test_out_dir = \"./datasets/_ICPR2022Real/test\"\n",
    "os.makedirs(f\"{test_out_dir}/annotations\", exist_ok=True)\n",
    "os.makedirs(f\"{test_out_dir}/images\", exist_ok=True)"
   ]
  },
  {
   "cell_type": "code",
   "execution_count": 48,
   "id": "f7aa5c03-761e-4e5d-a381-07659ca26a8f",
   "metadata": {},
   "outputs": [],
   "source": [
    "try:\n",
    "    if not create_icpr2022real:\n",
    "        raise Exception(\"create_icpr2022real set to False\")\n",
    "\n",
    "    for file_path in icpr2022_test_annot_paths:\n",
    "        file_name = os.path.basename(file_path)\n",
    "        with open(file_path, \"r\") as f:\n",
    "            data = json.load(f)\n",
    "            if data[\"task3\"] and \"task2_output\" in data[\"task3\"][\"input\"]:\n",
    "                i = 0\n",
    "                for text_block in data[\"task3\"][\"input\"][\"task2_output\"][\"text_blocks\"]:\n",
    "                    text_block[\"polygon\"][\"x0\"] = max(0, text_block[\"polygon\"][\"x0\"])\n",
    "                    text_block[\"polygon\"][\"x1\"] = max(0, text_block[\"polygon\"][\"x1\"])\n",
    "                    text_block[\"polygon\"][\"x2\"] = max(0, text_block[\"polygon\"][\"x2\"])\n",
    "                    text_block[\"polygon\"][\"x3\"] = max(0, text_block[\"polygon\"][\"x3\"])\n",
    "                    text_block[\"polygon\"][\"y0\"] = max(0, text_block[\"polygon\"][\"y0\"])\n",
    "                    text_block[\"polygon\"][\"y1\"] = max(0, text_block[\"polygon\"][\"y1\"])\n",
    "                    text_block[\"polygon\"][\"y2\"] = max(0, text_block[\"polygon\"][\"y2\"])\n",
    "                    text_block[\"polygon\"][\"y3\"] = max(0, text_block[\"polygon\"][\"y3\"])\n",
    "                with open(f\"{test_out_dir}/annotations/{file_name}\", \"w\") as f:\n",
    "                    json.dump(data, f)\n",
    "                    img = (\n",
    "                        file_path.replace(\"final_full_GT\", \"chart_images\")\n",
    "                        .replace(\"annotations_JSON\", \"images\")\n",
    "                        .replace(\"json\", \"jpg\")\n",
    "                    )\n",
    "\n",
    "                    shutil.copy(\n",
    "                        img,\n",
    "                        f\"{test_out_dir}/images/{file_name.replace('json', 'jpg')}\",\n",
    "                    )\n",
    "\n",
    "except Exception:\n",
    "    if create_icpr2022real:\n",
    "        print(file_path)\n",
    "    traceback.print_exc()"
   ]
  },
  {
   "cell_type": "code",
   "execution_count": 49,
   "id": "7845b6f7-5290-405e-b176-bf1a6f985b89",
   "metadata": {},
   "outputs": [],
   "source": [
    "test_hf_out_dir = \"./datasets/ICPR2022Real_hf/test\"\n",
    "os.makedirs(f\"{test_hf_out_dir}/images\", exist_ok=True)"
   ]
  },
  {
   "cell_type": "code",
   "execution_count": 50,
   "id": "063e222c-4b24-4a02-9d72-f39b921b7775",
   "metadata": {},
   "outputs": [],
   "source": [
    "try:\n",
    "    if not create_hf_datasets:\n",
    "        raise Exception(\"create_hf_datasets set to False\")\n",
    "\n",
    "    img_split_lookup = {}\n",
    "\n",
    "    for idx, img in enumerate(df_icpr2022_test[\"img\"].unique()):\n",
    "        img_split_lookup[img] = idx // max_files_per_dir\n",
    "        os.makedirs(\n",
    "            f\"{test_hf_out_dir}/images/split_{idx//max_files_per_dir}\", exist_ok=True\n",
    "        )\n",
    "        shutil.copy(\n",
    "            img,\n",
    "            f\"{test_hf_out_dir}/images/split_{idx//max_files_per_dir}/{os.path.basename(img)}\",\n",
    "        )\n",
    "\n",
    "    df_icpr2022_test_hf = df_icpr2022_test.copy()\n",
    "    df_icpr2022_test_hf[\"file_name\"] = df_icpr2022_test_hf[\"img\"].apply(\n",
    "        lambda v: f\"images/split_{img_split_lookup[v]}/{os.path.basename(v)}\"\n",
    "    )\n",
    "    df_icpr2022_test_hf = df_icpr2022_test_hf.drop(columns=[\"img\"])\n",
    "    df_icpr2022_test_hf = df_icpr2022_test_hf.drop(columns=[\"annot_file\"])\n",
    "\n",
    "    df_icpr2022_test_hf.to_csv(f\"{test_hf_out_dir}/metadata.csv\", index=False)\n",
    "\n",
    "except Exception:\n",
    "    traceback.print_exc()"
   ]
  },
  {
   "cell_type": "markdown",
   "id": "f0051811-f877-4dd0-9823-bc1813f2fe8c",
   "metadata": {},
   "source": [
    "## EconBiz"
   ]
  },
  {
   "cell_type": "code",
   "execution_count": 51,
   "id": "ee7b7f67-6cb5-43db-a198-a0399b2a89e3",
   "metadata": {},
   "outputs": [
    {
     "data": {
      "text/plain": [
       "121"
      ]
     },
     "execution_count": 51,
     "metadata": {},
     "output_type": "execute_result"
    }
   ],
   "source": [
    "econbiz_annot_folder_path = \"./datasets/EconBiz\"\n",
    "\n",
    "# Recursively find all .json files\n",
    "econbiz_annot_paths = glob.glob(\n",
    "    os.path.join(econbiz_annot_folder_path, \"**\", \"annotations\", \"*.json\"),\n",
    "    recursive=True,\n",
    ")\n",
    "\n",
    "len(econbiz_annot_paths)"
   ]
  },
  {
   "cell_type": "code",
   "execution_count": 52,
   "id": "b9315202-36c5-4cee-b702-07d8a3c6eb59",
   "metadata": {},
   "outputs": [
    {
     "data": {
      "text/plain": [
       "'./datasets/EconBiz/train/annotations/10008831881-008.json'"
      ]
     },
     "execution_count": 52,
     "metadata": {},
     "output_type": "execute_result"
    }
   ],
   "source": [
    "econbiz_annot_paths[0]"
   ]
  },
  {
   "cell_type": "code",
   "execution_count": 53,
   "id": "20f7f0e7-e077-464d-b6a4-4e58360364ae",
   "metadata": {},
   "outputs": [
    {
     "data": {
      "text/plain": [
       "121"
      ]
     },
     "execution_count": 53,
     "metadata": {},
     "output_type": "execute_result"
    }
   ],
   "source": [
    "econbiz_img_folder_path = \"./datasets/EconBiz\"\n",
    "\n",
    "# Recursively find all .json files\n",
    "econbiz_img_paths = glob.glob(\n",
    "    os.path.join(econbiz_img_folder_path, \"**\", \"images\", \"*.png\"), recursive=True\n",
    ")\n",
    "\n",
    "len(econbiz_img_paths)"
   ]
  },
  {
   "cell_type": "code",
   "execution_count": 54,
   "id": "a1f17252-8417-4bb2-82bd-a30fd4c5107a",
   "metadata": {},
   "outputs": [],
   "source": [
    "econbiz = {\n",
    "    \"text\": [],\n",
    "    \"role\": [],\n",
    "    \"center_x\": [],\n",
    "    \"center_y\": [],\n",
    "    \"width\": [],\n",
    "    \"height\": [],\n",
    "    \"orientation\": [],\n",
    "    \"annot_file\": [],\n",
    "    \"img\": [],\n",
    "    \"split\": [],\n",
    "}\n",
    "\n",
    "try:\n",
    "    for file_path in econbiz_annot_paths:\n",
    "        with open(file_path, \"r\") as f:\n",
    "            data = json.load(f)\n",
    "            for text_element in data[\"textelements\"]:\n",
    "                econbiz[\"text\"].append(text_element[\"content\"])\n",
    "                econbiz[\"role\"].append(text_element[\"role\"])\n",
    "                econbiz[\"center_x\"].append(text_element[\"boundingbox\"][\"center_x\"])\n",
    "                econbiz[\"center_y\"].append(text_element[\"boundingbox\"][\"center_y\"])\n",
    "                econbiz[\"width\"].append(text_element[\"boundingbox\"][\"width\"])\n",
    "                econbiz[\"height\"].append(text_element[\"boundingbox\"][\"height\"])\n",
    "                econbiz[\"orientation\"].append(\n",
    "                    text_element[\"boundingbox\"][\"orientation\"]\n",
    "                )\n",
    "                econbiz[\"annot_file\"].append(file_path)\n",
    "                econbiz[\"img\"].append(\n",
    "                    file_path.replace(\"annotations\", \"images\").replace(\"json\", \"png\")\n",
    "                )\n",
    "                if \"test\" in os.path.normpath(file_path).split(os.sep):\n",
    "                    econbiz[\"split\"].append(\"test\")\n",
    "                else:\n",
    "                    econbiz[\"split\"].append(\"train\")\n",
    "\n",
    "except Exception as e:\n",
    "    print(e, file_path)"
   ]
  },
  {
   "cell_type": "code",
   "execution_count": 55,
   "id": "b7643780-4c95-42c4-8526-a40ce88e2fc2",
   "metadata": {},
   "outputs": [
    {
     "data": {
      "text/html": [
       "<div>\n",
       "<style scoped>\n",
       "    .dataframe tbody tr th:only-of-type {\n",
       "        vertical-align: middle;\n",
       "    }\n",
       "\n",
       "    .dataframe tbody tr th {\n",
       "        vertical-align: top;\n",
       "    }\n",
       "\n",
       "    .dataframe thead th {\n",
       "        text-align: right;\n",
       "    }\n",
       "</style>\n",
       "<table border=\"1\" class=\"dataframe\">\n",
       "  <thead>\n",
       "    <tr style=\"text-align: right;\">\n",
       "      <th></th>\n",
       "      <th>text</th>\n",
       "      <th>role</th>\n",
       "      <th>center_x</th>\n",
       "      <th>center_y</th>\n",
       "      <th>width</th>\n",
       "      <th>height</th>\n",
       "      <th>orientation</th>\n",
       "      <th>annot_file</th>\n",
       "      <th>img</th>\n",
       "      <th>split</th>\n",
       "    </tr>\n",
       "  </thead>\n",
       "  <tbody>\n",
       "    <tr>\n",
       "      <th>0</th>\n",
       "      <td>ψ</td>\n",
       "      <td>other</td>\n",
       "      <td>237</td>\n",
       "      <td>98</td>\n",
       "      <td>28</td>\n",
       "      <td>30</td>\n",
       "      <td>0</td>\n",
       "      <td>./datasets/EconBiz/train/annotations/100088318...</td>\n",
       "      <td>./datasets/EconBiz/train/images/10008831881-00...</td>\n",
       "      <td>train</td>\n",
       "    </tr>\n",
       "    <tr>\n",
       "      <th>1</th>\n",
       "      <td>ψ</td>\n",
       "      <td>other</td>\n",
       "      <td>426</td>\n",
       "      <td>499</td>\n",
       "      <td>28</td>\n",
       "      <td>30</td>\n",
       "      <td>0</td>\n",
       "      <td>./datasets/EconBiz/train/annotations/100088318...</td>\n",
       "      <td>./datasets/EconBiz/train/images/10008831881-00...</td>\n",
       "      <td>train</td>\n",
       "    </tr>\n",
       "    <tr>\n",
       "      <th>2</th>\n",
       "      <td>5' LTR</td>\n",
       "      <td>other</td>\n",
       "      <td>119</td>\n",
       "      <td>113</td>\n",
       "      <td>90</td>\n",
       "      <td>30</td>\n",
       "      <td>0</td>\n",
       "      <td>./datasets/EconBiz/train/annotations/100088318...</td>\n",
       "      <td>./datasets/EconBiz/train/images/10008831881-00...</td>\n",
       "      <td>train</td>\n",
       "    </tr>\n",
       "    <tr>\n",
       "      <th>3</th>\n",
       "      <td>5' LTR</td>\n",
       "      <td>other</td>\n",
       "      <td>357</td>\n",
       "      <td>516</td>\n",
       "      <td>90</td>\n",
       "      <td>30</td>\n",
       "      <td>0</td>\n",
       "      <td>./datasets/EconBiz/train/annotations/100088318...</td>\n",
       "      <td>./datasets/EconBiz/train/images/10008831881-00...</td>\n",
       "      <td>train</td>\n",
       "    </tr>\n",
       "    <tr>\n",
       "      <th>4</th>\n",
       "      <td>ORF</td>\n",
       "      <td>other</td>\n",
       "      <td>673</td>\n",
       "      <td>516</td>\n",
       "      <td>62</td>\n",
       "      <td>29</td>\n",
       "      <td>0</td>\n",
       "      <td>./datasets/EconBiz/train/annotations/100088318...</td>\n",
       "      <td>./datasets/EconBiz/train/images/10008831881-00...</td>\n",
       "      <td>train</td>\n",
       "    </tr>\n",
       "  </tbody>\n",
       "</table>\n",
       "</div>"
      ],
      "text/plain": [
       "     text   role  center_x  center_y  width  height  orientation  \\\n",
       "0       ψ  other       237        98     28      30            0   \n",
       "1       ψ  other       426       499     28      30            0   \n",
       "2  5' LTR  other       119       113     90      30            0   \n",
       "3  5' LTR  other       357       516     90      30            0   \n",
       "4     ORF  other       673       516     62      29            0   \n",
       "\n",
       "                                          annot_file  \\\n",
       "0  ./datasets/EconBiz/train/annotations/100088318...   \n",
       "1  ./datasets/EconBiz/train/annotations/100088318...   \n",
       "2  ./datasets/EconBiz/train/annotations/100088318...   \n",
       "3  ./datasets/EconBiz/train/annotations/100088318...   \n",
       "4  ./datasets/EconBiz/train/annotations/100088318...   \n",
       "\n",
       "                                                 img  split  \n",
       "0  ./datasets/EconBiz/train/images/10008831881-00...  train  \n",
       "1  ./datasets/EconBiz/train/images/10008831881-00...  train  \n",
       "2  ./datasets/EconBiz/train/images/10008831881-00...  train  \n",
       "3  ./datasets/EconBiz/train/images/10008831881-00...  train  \n",
       "4  ./datasets/EconBiz/train/images/10008831881-00...  train  "
      ]
     },
     "execution_count": 55,
     "metadata": {},
     "output_type": "execute_result"
    }
   ],
   "source": [
    "df_econbiz = pd.DataFrame(econbiz)\n",
    "df_econbiz.head()"
   ]
  },
  {
   "cell_type": "code",
   "execution_count": 56,
   "id": "5c79444a-e998-4ae4-88d6-0b6afad51710",
   "metadata": {},
   "outputs": [
    {
     "name": "stdout",
     "output_type": "stream",
     "text": [
      "<class 'pandas.core.frame.DataFrame'>\n",
      "RangeIndex: 3057 entries, 0 to 3056\n",
      "Data columns (total 10 columns):\n",
      " #   Column       Non-Null Count  Dtype \n",
      "---  ------       --------------  ----- \n",
      " 0   text         3057 non-null   object\n",
      " 1   role         3057 non-null   object\n",
      " 2   center_x     3057 non-null   int64 \n",
      " 3   center_y     3057 non-null   int64 \n",
      " 4   width        3057 non-null   int64 \n",
      " 5   height       3057 non-null   int64 \n",
      " 6   orientation  3057 non-null   int64 \n",
      " 7   annot_file   3057 non-null   object\n",
      " 8   img          3057 non-null   object\n",
      " 9   split        3057 non-null   object\n",
      "dtypes: int64(5), object(5)\n",
      "memory usage: 239.0+ KB\n"
     ]
    }
   ],
   "source": [
    "df_econbiz.info()"
   ]
  },
  {
   "cell_type": "code",
   "execution_count": 57,
   "id": "57730b95-8d76-407d-bdbd-5fba0531bff1",
   "metadata": {},
   "outputs": [
    {
     "data": {
      "text/html": [
       "<div>\n",
       "<style scoped>\n",
       "    .dataframe tbody tr th:only-of-type {\n",
       "        vertical-align: middle;\n",
       "    }\n",
       "\n",
       "    .dataframe tbody tr th {\n",
       "        vertical-align: top;\n",
       "    }\n",
       "\n",
       "    .dataframe thead th {\n",
       "        text-align: right;\n",
       "    }\n",
       "</style>\n",
       "<table border=\"1\" class=\"dataframe\">\n",
       "  <thead>\n",
       "    <tr style=\"text-align: right;\">\n",
       "      <th></th>\n",
       "      <th>center_x</th>\n",
       "      <th>center_y</th>\n",
       "      <th>width</th>\n",
       "      <th>height</th>\n",
       "      <th>orientation</th>\n",
       "    </tr>\n",
       "  </thead>\n",
       "  <tbody>\n",
       "    <tr>\n",
       "      <th>count</th>\n",
       "      <td>3057.000000</td>\n",
       "      <td>3057.000000</td>\n",
       "      <td>3057.000000</td>\n",
       "      <td>3057.000000</td>\n",
       "      <td>3057.000000</td>\n",
       "    </tr>\n",
       "    <tr>\n",
       "      <th>mean</th>\n",
       "      <td>413.217206</td>\n",
       "      <td>408.154727</td>\n",
       "      <td>69.338240</td>\n",
       "      <td>22.710173</td>\n",
       "      <td>-12.906444</td>\n",
       "    </tr>\n",
       "    <tr>\n",
       "      <th>std</th>\n",
       "      <td>326.420953</td>\n",
       "      <td>215.973175</td>\n",
       "      <td>85.088652</td>\n",
       "      <td>6.692361</td>\n",
       "      <td>34.421411</td>\n",
       "    </tr>\n",
       "    <tr>\n",
       "      <th>min</th>\n",
       "      <td>12.000000</td>\n",
       "      <td>9.000000</td>\n",
       "      <td>10.000000</td>\n",
       "      <td>10.000000</td>\n",
       "      <td>-270.000000</td>\n",
       "    </tr>\n",
       "    <tr>\n",
       "      <th>25%</th>\n",
       "      <td>116.000000</td>\n",
       "      <td>237.000000</td>\n",
       "      <td>27.000000</td>\n",
       "      <td>18.000000</td>\n",
       "      <td>0.000000</td>\n",
       "    </tr>\n",
       "    <tr>\n",
       "      <th>50%</th>\n",
       "      <td>362.000000</td>\n",
       "      <td>427.000000</td>\n",
       "      <td>43.000000</td>\n",
       "      <td>21.000000</td>\n",
       "      <td>0.000000</td>\n",
       "    </tr>\n",
       "    <tr>\n",
       "      <th>75%</th>\n",
       "      <td>627.000000</td>\n",
       "      <td>556.000000</td>\n",
       "      <td>78.000000</td>\n",
       "      <td>26.000000</td>\n",
       "      <td>0.000000</td>\n",
       "    </tr>\n",
       "    <tr>\n",
       "      <th>max</th>\n",
       "      <td>1849.000000</td>\n",
       "      <td>1122.000000</td>\n",
       "      <td>1046.000000</td>\n",
       "      <td>54.000000</td>\n",
       "      <td>270.000000</td>\n",
       "    </tr>\n",
       "  </tbody>\n",
       "</table>\n",
       "</div>"
      ],
      "text/plain": [
       "          center_x     center_y        width       height  orientation\n",
       "count  3057.000000  3057.000000  3057.000000  3057.000000  3057.000000\n",
       "mean    413.217206   408.154727    69.338240    22.710173   -12.906444\n",
       "std     326.420953   215.973175    85.088652     6.692361    34.421411\n",
       "min      12.000000     9.000000    10.000000    10.000000  -270.000000\n",
       "25%     116.000000   237.000000    27.000000    18.000000     0.000000\n",
       "50%     362.000000   427.000000    43.000000    21.000000     0.000000\n",
       "75%     627.000000   556.000000    78.000000    26.000000     0.000000\n",
       "max    1849.000000  1122.000000  1046.000000    54.000000   270.000000"
      ]
     },
     "execution_count": 57,
     "metadata": {},
     "output_type": "execute_result"
    }
   ],
   "source": [
    "df_econbiz.describe()"
   ]
  },
  {
   "cell_type": "code",
   "execution_count": 58,
   "id": "5ba0b35b-963f-4a07-8695-0cca27f5a40d",
   "metadata": {},
   "outputs": [
    {
     "data": {
      "text/plain": [
       "text           0\n",
       "role           0\n",
       "center_x       0\n",
       "center_y       0\n",
       "width          0\n",
       "height         0\n",
       "orientation    0\n",
       "annot_file     0\n",
       "img            0\n",
       "split          0\n",
       "dtype: int64"
      ]
     },
     "execution_count": 58,
     "metadata": {},
     "output_type": "execute_result"
    }
   ],
   "source": [
    "df_econbiz.isnull().sum()"
   ]
  },
  {
   "cell_type": "code",
   "execution_count": 59,
   "id": "94837cc4-7207-4038-a095-170dbc6a82a5",
   "metadata": {},
   "outputs": [
    {
     "data": {
      "text/plain": [
       "role\n",
       "tick_label       1805\n",
       "other             440\n",
       "legend_label      258\n",
       "value_label       175\n",
       "mark_label        175\n",
       "axis_title        125\n",
       "chart_title        36\n",
       "tick_grouping      36\n",
       "legend_title        7\n",
       "Name: count, dtype: int64"
      ]
     },
     "execution_count": 59,
     "metadata": {},
     "output_type": "execute_result"
    }
   ],
   "source": [
    "df_econbiz[\"role\"].value_counts()"
   ]
  },
  {
   "cell_type": "code",
   "execution_count": 60,
   "id": "5b37a074-79fa-4cec-8cda-cd075147a64f",
   "metadata": {},
   "outputs": [
    {
     "data": {
      "image/png": "[encoded data removed]",
      "text/plain": [
       "<Figure size 600x600 with 1 Axes>"
      ]
     },
     "metadata": {},
     "output_type": "display_data"
    }
   ],
   "source": [
    "counts = df_econbiz[\"role\"].value_counts()\n",
    "ax = counts.plot.pie(autopct=\"%1.1f%%\", figsize=(6, 6), labels=[\"\"] * len(counts))\n",
    "plt.legend(ax.patches, counts.index, title=\"role\", bbox_to_anchor=(1, 0.5))\n",
    "plt.ylabel(\"\")\n",
    "plt.title(\"Distribution of role\")\n",
    "plt.show()"
   ]
  },
  {
   "cell_type": "code",
   "execution_count": 61,
   "id": "5e351be0-ac6c-4d39-90a7-5e0fbf6482c3",
   "metadata": {},
   "outputs": [
    {
     "data": {
      "text/plain": [
       "split\n",
       "train    2134\n",
       "test      923\n",
       "Name: count, dtype: int64"
      ]
     },
     "execution_count": 61,
     "metadata": {},
     "output_type": "execute_result"
    }
   ],
   "source": [
    "df_econbiz[\"split\"].value_counts()"
   ]
  },
  {
   "cell_type": "code",
   "execution_count": 62,
   "id": "bee7317e-f62a-404b-ab47-caf5b3ce2cbd",
   "metadata": {},
   "outputs": [
    {
     "data": {
      "text/plain": [
       "text           1780\n",
       "role              9\n",
       "center_x        971\n",
       "center_y        783\n",
       "width           300\n",
       "height           42\n",
       "orientation      18\n",
       "annot_file      121\n",
       "img             121\n",
       "split             2\n",
       "dtype: int64"
      ]
     },
     "execution_count": 62,
     "metadata": {},
     "output_type": "execute_result"
    }
   ],
   "source": [
    "df_econbiz.nunique()"
   ]
  },
  {
   "cell_type": "code",
   "execution_count": 63,
   "id": "c392b1be-420c-4921-ab55-b0a462b375c1",
   "metadata": {},
   "outputs": [
    {
     "data": {
      "text/plain": [
       "text           1780\n",
       "role              9\n",
       "center_x        971\n",
       "center_y        783\n",
       "width           300\n",
       "height           42\n",
       "orientation      18\n",
       "annot_file      121\n",
       "img             121\n",
       "split             2\n",
       "dtype: int64"
      ]
     },
     "execution_count": 63,
     "metadata": {},
     "output_type": "execute_result"
    }
   ],
   "source": [
    "df_econbiz[df_econbiz[\"role\"].notnull()].nunique()"
   ]
  },
  {
   "cell_type": "code",
   "execution_count": 64,
   "id": "369b2191-1811-4f21-9b3f-b219382bbfb2",
   "metadata": {},
   "outputs": [
    {
     "name": "stdout",
     "output_type": "stream",
     "text": [
      "./datasets/EconBiz/train/images/10005699578-001.png\n"
     ]
    },
    {
     "data": {
      "text/plain": [
       "True"
      ]
     },
     "execution_count": 64,
     "metadata": {},
     "output_type": "execute_result"
    }
   ],
   "source": [
    "random_img_path = df_econbiz[df_econbiz[\"role\"].notnull()][\"img\"].sample(1).values[0]\n",
    "# random_img_path = \"./datasets/EconBiz/train/images/10009328051-017.png\"\n",
    "\n",
    "print(random_img_path)\n",
    "\n",
    "img = cv2.imread(random_img_path)\n",
    "\n",
    "labeled_polygons = []\n",
    "\n",
    "for idx, row in df_econbiz[df_econbiz[\"img\"] == random_img_path].iterrows():\n",
    "    rect = (\n",
    "        (row[\"center_x\"], row[\"center_y\"]),\n",
    "        (row[\"width\"], row[\"height\"]),\n",
    "        row[\"orientation\"],\n",
    "    )\n",
    "    points = cv2.boxPoints(rect)  # returns float32\n",
    "    labeled_polygons.append((points.astype(int), row[\"role\"]))\n",
    "\n",
    "font = cv2.FONT_HERSHEY_SIMPLEX\n",
    "color = (0, 0, 255)\n",
    "thikness = 1\n",
    "scale = 0.5\n",
    "\n",
    "for points, label in labeled_polygons:\n",
    "    cv2.polylines(img, [points], isClosed=True, color=color, thickness=thikness)\n",
    "    # Draw label near the first point\n",
    "    cv2.putText(\n",
    "        img,\n",
    "        label,\n",
    "        (points[0, 0], points[0, 1] + 15),\n",
    "        font,\n",
    "        scale,\n",
    "        color,\n",
    "        thikness,\n",
    "    )\n",
    "cv2.imwrite(f\"./datasets/examples/annot_{random_img_path.replace('/', '_')}\", img)"
   ]
  },
  {
   "cell_type": "code",
   "execution_count": 65,
   "id": "6f079052-0373-4bd3-90b8-43d61766d4b9",
   "metadata": {},
   "outputs": [],
   "source": [
    "econbiz_test_hf_out_dir = \"./datasets/EconBiz_hf/test\"\n",
    "os.makedirs(f\"{econbiz_test_hf_out_dir}/images\", exist_ok=True)"
   ]
  },
  {
   "cell_type": "code",
   "execution_count": 66,
   "id": "2a940003-9b44-4c56-b1d4-53bf3453b688",
   "metadata": {},
   "outputs": [],
   "source": [
    "try:\n",
    "    if not create_hf_datasets:\n",
    "        raise Exception(\"create_hf_datasets set to False\")\n",
    "\n",
    "    for img in df_econbiz[df_econbiz[\"split\"] == \"test\"][\"img\"].unique():\n",
    "        shutil.copy(\n",
    "            img,\n",
    "            f\"{econbiz_test_hf_out_dir}/images/{os.path.basename(img)}\",\n",
    "        )\n",
    "\n",
    "    df_econbiz_test_hf = df_econbiz[df_econbiz[\"split\"] == \"test\"].copy()\n",
    "    df_econbiz_test_hf[\"file_name\"] = df_econbiz_test_hf[\"img\"].apply(\n",
    "        lambda v: f\"images/{os.path.basename(v)}\"\n",
    "    )\n",
    "    df_econbiz_test_hf = df_econbiz_test_hf.drop(columns=[\"img\"])\n",
    "    df_econbiz_test_hf = df_econbiz_test_hf.drop(columns=[\"annot_file\"])\n",
    "    df_econbiz_test_hf = df_econbiz_test_hf.drop(columns=[\"split\"])\n",
    "\n",
    "    df_econbiz_test_hf.to_csv(f\"{econbiz_test_hf_out_dir}/metadata.csv\", index=False)\n",
    "\n",
    "except Exception:\n",
    "    traceback.print_exc()"
   ]
  },
  {
   "cell_type": "code",
   "execution_count": 67,
   "id": "c3fcc41d-4d6f-44ae-9362-6ab02f8b54e4",
   "metadata": {},
   "outputs": [],
   "source": [
    "econbiz_train_hf_out_dir = \"./datasets/EconBiz_hf/train\"\n",
    "os.makedirs(f\"{econbiz_train_hf_out_dir}/images\", exist_ok=True)"
   ]
  },
  {
   "cell_type": "code",
   "execution_count": 68,
   "id": "1f5b6622-929e-4d88-b132-2d7c676ee2c1",
   "metadata": {},
   "outputs": [],
   "source": [
    "try:\n",
    "    if not create_hf_datasets:\n",
    "        raise Exception(\"create_hf_datasets set to False\")\n",
    "\n",
    "    for img in df_econbiz[df_econbiz[\"split\"] == \"train\"][\"img\"].unique():\n",
    "        shutil.copy(\n",
    "            img,\n",
    "            f\"{econbiz_train_hf_out_dir}/images/{os.path.basename(img)}\",\n",
    "        )\n",
    "\n",
    "    df_econbiz_train_hf = df_econbiz[df_econbiz[\"split\"] == \"train\"].copy()\n",
    "\n",
    "    df_econbiz_train_hf[\"file_name\"] = df_econbiz_train_hf[\"img\"].apply(\n",
    "        lambda v: f\"images/{os.path.basename(v)}\"\n",
    "    )\n",
    "\n",
    "    df_econbiz_train_hf = df_econbiz_train_hf.drop(columns=[\"img\"])\n",
    "    df_econbiz_train_hf = df_econbiz_train_hf.drop(columns=[\"annot_file\"])\n",
    "    df_econbiz_train_hf = df_econbiz_train_hf.drop(columns=[\"split\"])\n",
    "\n",
    "    df_econbiz_train_hf.to_csv(f\"{econbiz_train_hf_out_dir}/metadata.csv\", index=False)\n",
    "\n",
    "except Exception:\n",
    "    traceback.print_exc()"
   ]
  },
  {
   "cell_type": "markdown",
   "id": "0f4132b0-cd72-4772-a18c-7146ce3d20b1",
   "metadata": {},
   "source": [
    "## CHIMIE-R"
   ]
  },
  {
   "cell_type": "code",
   "execution_count": 69,
   "id": "fe11c3e8-d8fb-492d-97bf-59eaf9012208",
   "metadata": {},
   "outputs": [
    {
     "data": {
      "text/plain": [
       "115"
      ]
     },
     "execution_count": 69,
     "metadata": {},
     "output_type": "execute_result"
    }
   ],
   "source": [
    "chimie_r_annot_folder_path = \"./datasets/CHIME-R\"\n",
    "\n",
    "# Recursively find all .json files\n",
    "chimie_r_annot_paths = glob.glob(\n",
    "    os.path.join(chimie_r_annot_folder_path, \"**\", \"annotations\", \"*.json\"),\n",
    "    recursive=True,\n",
    ")\n",
    "\n",
    "len(chimie_r_annot_paths)"
   ]
  },
  {
   "cell_type": "code",
   "execution_count": 70,
   "id": "4284b490-a447-40c8-af3c-615558b847f3",
   "metadata": {},
   "outputs": [
    {
     "data": {
      "text/plain": [
       "'./datasets/CHIME-R/train/annotations/dbar011.json'"
      ]
     },
     "execution_count": 70,
     "metadata": {},
     "output_type": "execute_result"
    }
   ],
   "source": [
    "chimie_r_annot_paths[0]"
   ]
  },
  {
   "cell_type": "code",
   "execution_count": 71,
   "id": "d9074300-282a-4c03-b2ed-2c6a17430a31",
   "metadata": {},
   "outputs": [
    {
     "data": {
      "text/plain": [
       "115"
      ]
     },
     "execution_count": 71,
     "metadata": {},
     "output_type": "execute_result"
    }
   ],
   "source": [
    "chimie_r_img_folder_path = \"./datasets/CHIME-R\"\n",
    "\n",
    "# Recursively find all .json files\n",
    "chimie_r_img_paths = glob.glob(\n",
    "    os.path.join(chimie_r_img_folder_path, \"**\", \"images\", \"*.bmp\"), recursive=True\n",
    ")\n",
    "\n",
    "len(chimie_r_img_paths)"
   ]
  },
  {
   "cell_type": "code",
   "execution_count": 72,
   "id": "aaac70d5-dfa2-4386-93d3-40dc08ac5213",
   "metadata": {},
   "outputs": [],
   "source": [
    "chimie_r = {\n",
    "    \"text\": [],\n",
    "    \"role\": [],\n",
    "    \"center_x\": [],\n",
    "    \"center_y\": [],\n",
    "    \"width\": [],\n",
    "    \"height\": [],\n",
    "    \"orientation\": [],\n",
    "    \"annot_file\": [],\n",
    "    \"img\": [],\n",
    "    \"chart_type\": [],\n",
    "    \"split\": [],\n",
    "}\n",
    "\n",
    "try:\n",
    "    for file_path in chimie_r_annot_paths:\n",
    "        with open(file_path, \"r\") as f:\n",
    "            data = json.load(f)\n",
    "            for text_element in data[\"textelements\"]:\n",
    "                chimie_r[\"text\"].append(text_element[\"content\"])\n",
    "                chimie_r[\"role\"].append(text_element[\"role\"])\n",
    "                chimie_r[\"center_x\"].append(text_element[\"boundingbox\"][\"center_x\"])\n",
    "                chimie_r[\"center_y\"].append(text_element[\"boundingbox\"][\"center_y\"])\n",
    "                chimie_r[\"width\"].append(text_element[\"boundingbox\"][\"width\"])\n",
    "                chimie_r[\"height\"].append(text_element[\"boundingbox\"][\"height\"])\n",
    "                chimie_r[\"orientation\"].append(\n",
    "                    text_element[\"boundingbox\"][\"orientation\"]\n",
    "                )\n",
    "                chimie_r[\"annot_file\"].append(file_path)\n",
    "                chimie_r[\"img\"].append(\n",
    "                    file_path.replace(\"annotations\", \"images\").replace(\"json\", \"bmp\")\n",
    "                )\n",
    "                file_name = os.path.basename(file_path)\n",
    "                chimie_r[\"chart_type\"].append(re.match(r\"^\\D*\", file_name).group())\n",
    "                if \"test\" in os.path.normpath(file_path).split(os.sep):\n",
    "                    chimie_r[\"split\"].append(\"test\")\n",
    "                else:\n",
    "                    chimie_r[\"split\"].append(\"train\")\n",
    "\n",
    "except Exception as e:\n",
    "    print(e, file_path)"
   ]
  },
  {
   "cell_type": "code",
   "execution_count": 73,
   "id": "8ec0b53d-b600-410b-9e93-357ba1e1c601",
   "metadata": {},
   "outputs": [
    {
     "data": {
      "text/html": [
       "<div>\n",
       "<style scoped>\n",
       "    .dataframe tbody tr th:only-of-type {\n",
       "        vertical-align: middle;\n",
       "    }\n",
       "\n",
       "    .dataframe tbody tr th {\n",
       "        vertical-align: top;\n",
       "    }\n",
       "\n",
       "    .dataframe thead th {\n",
       "        text-align: right;\n",
       "    }\n",
       "</style>\n",
       "<table border=\"1\" class=\"dataframe\">\n",
       "  <thead>\n",
       "    <tr style=\"text-align: right;\">\n",
       "      <th></th>\n",
       "      <th>text</th>\n",
       "      <th>role</th>\n",
       "      <th>center_x</th>\n",
       "      <th>center_y</th>\n",
       "      <th>width</th>\n",
       "      <th>height</th>\n",
       "      <th>orientation</th>\n",
       "      <th>annot_file</th>\n",
       "      <th>img</th>\n",
       "      <th>chart_type</th>\n",
       "      <th>split</th>\n",
       "    </tr>\n",
       "  </thead>\n",
       "  <tbody>\n",
       "    <tr>\n",
       "      <th>0</th>\n",
       "      <td>Governors Challenge Goal 2</td>\n",
       "      <td>chart_title</td>\n",
       "      <td>331</td>\n",
       "      <td>32</td>\n",
       "      <td>282</td>\n",
       "      <td>19</td>\n",
       "      <td>0</td>\n",
       "      <td>./datasets/CHIME-R/train/annotations/dbar011.json</td>\n",
       "      <td>./datasets/CHIME-R/train/images/dbar011.bmp</td>\n",
       "      <td>dbar</td>\n",
       "      <td>train</td>\n",
       "    </tr>\n",
       "    <tr>\n",
       "      <th>1</th>\n",
       "      <td>16,000,000</td>\n",
       "      <td>tick_label</td>\n",
       "      <td>88</td>\n",
       "      <td>121</td>\n",
       "      <td>78</td>\n",
       "      <td>15</td>\n",
       "      <td>0</td>\n",
       "      <td>./datasets/CHIME-R/train/annotations/dbar011.json</td>\n",
       "      <td>./datasets/CHIME-R/train/images/dbar011.bmp</td>\n",
       "      <td>dbar</td>\n",
       "      <td>train</td>\n",
       "    </tr>\n",
       "    <tr>\n",
       "      <th>2</th>\n",
       "      <td>14,000,000</td>\n",
       "      <td>tick_label</td>\n",
       "      <td>88</td>\n",
       "      <td>148</td>\n",
       "      <td>78</td>\n",
       "      <td>15</td>\n",
       "      <td>0</td>\n",
       "      <td>./datasets/CHIME-R/train/annotations/dbar011.json</td>\n",
       "      <td>./datasets/CHIME-R/train/images/dbar011.bmp</td>\n",
       "      <td>dbar</td>\n",
       "      <td>train</td>\n",
       "    </tr>\n",
       "    <tr>\n",
       "      <th>3</th>\n",
       "      <td>12,000,000</td>\n",
       "      <td>tick_label</td>\n",
       "      <td>88</td>\n",
       "      <td>175</td>\n",
       "      <td>78</td>\n",
       "      <td>15</td>\n",
       "      <td>0</td>\n",
       "      <td>./datasets/CHIME-R/train/annotations/dbar011.json</td>\n",
       "      <td>./datasets/CHIME-R/train/images/dbar011.bmp</td>\n",
       "      <td>dbar</td>\n",
       "      <td>train</td>\n",
       "    </tr>\n",
       "    <tr>\n",
       "      <th>4</th>\n",
       "      <td>10,000,000</td>\n",
       "      <td>tick_label</td>\n",
       "      <td>88</td>\n",
       "      <td>202</td>\n",
       "      <td>78</td>\n",
       "      <td>15</td>\n",
       "      <td>0</td>\n",
       "      <td>./datasets/CHIME-R/train/annotations/dbar011.json</td>\n",
       "      <td>./datasets/CHIME-R/train/images/dbar011.bmp</td>\n",
       "      <td>dbar</td>\n",
       "      <td>train</td>\n",
       "    </tr>\n",
       "  </tbody>\n",
       "</table>\n",
       "</div>"
      ],
      "text/plain": [
       "                         text         role  center_x  center_y  width  height  \\\n",
       "0  Governors Challenge Goal 2  chart_title       331        32    282      19   \n",
       "1                  16,000,000   tick_label        88       121     78      15   \n",
       "2                  14,000,000   tick_label        88       148     78      15   \n",
       "3                  12,000,000   tick_label        88       175     78      15   \n",
       "4                  10,000,000   tick_label        88       202     78      15   \n",
       "\n",
       "   orientation                                         annot_file  \\\n",
       "0            0  ./datasets/CHIME-R/train/annotations/dbar011.json   \n",
       "1            0  ./datasets/CHIME-R/train/annotations/dbar011.json   \n",
       "2            0  ./datasets/CHIME-R/train/annotations/dbar011.json   \n",
       "3            0  ./datasets/CHIME-R/train/annotations/dbar011.json   \n",
       "4            0  ./datasets/CHIME-R/train/annotations/dbar011.json   \n",
       "\n",
       "                                           img chart_type  split  \n",
       "0  ./datasets/CHIME-R/train/images/dbar011.bmp       dbar  train  \n",
       "1  ./datasets/CHIME-R/train/images/dbar011.bmp       dbar  train  \n",
       "2  ./datasets/CHIME-R/train/images/dbar011.bmp       dbar  train  \n",
       "3  ./datasets/CHIME-R/train/images/dbar011.bmp       dbar  train  \n",
       "4  ./datasets/CHIME-R/train/images/dbar011.bmp       dbar  train  "
      ]
     },
     "execution_count": 73,
     "metadata": {},
     "output_type": "execute_result"
    }
   ],
   "source": [
    "df_chimie_r = pd.DataFrame(chimie_r)\n",
    "df_chimie_r.head()"
   ]
  },
  {
   "cell_type": "code",
   "execution_count": 74,
   "id": "2eacfde8-bb18-453b-b147-46289211d9ba",
   "metadata": {},
   "outputs": [
    {
     "name": "stdout",
     "output_type": "stream",
     "text": [
      "<class 'pandas.core.frame.DataFrame'>\n",
      "RangeIndex: 1587 entries, 0 to 1586\n",
      "Data columns (total 11 columns):\n",
      " #   Column       Non-Null Count  Dtype \n",
      "---  ------       --------------  ----- \n",
      " 0   text         1587 non-null   object\n",
      " 1   role         1587 non-null   object\n",
      " 2   center_x     1587 non-null   int64 \n",
      " 3   center_y     1587 non-null   int64 \n",
      " 4   width        1587 non-null   int64 \n",
      " 5   height       1587 non-null   int64 \n",
      " 6   orientation  1587 non-null   int64 \n",
      " 7   annot_file   1587 non-null   object\n",
      " 8   img          1587 non-null   object\n",
      " 9   chart_type   1587 non-null   object\n",
      " 10  split        1587 non-null   object\n",
      "dtypes: int64(5), object(6)\n",
      "memory usage: 136.5+ KB\n"
     ]
    }
   ],
   "source": [
    "df_chimie_r.info()"
   ]
  },
  {
   "cell_type": "code",
   "execution_count": 75,
   "id": "a33cb88d-53cf-408b-8637-a665eae5cdc2",
   "metadata": {},
   "outputs": [
    {
     "data": {
      "text/plain": [
       "text           0\n",
       "role           0\n",
       "center_x       0\n",
       "center_y       0\n",
       "width          0\n",
       "height         0\n",
       "orientation    0\n",
       "annot_file     0\n",
       "img            0\n",
       "chart_type     0\n",
       "split          0\n",
       "dtype: int64"
      ]
     },
     "execution_count": 75,
     "metadata": {},
     "output_type": "execute_result"
    }
   ],
   "source": [
    "df_chimie_r.isnull().sum()"
   ]
  },
  {
   "cell_type": "code",
   "execution_count": 76,
   "id": "756c7aa2-da55-4a2b-9ff4-8afcecb0b9d6",
   "metadata": {},
   "outputs": [
    {
     "data": {
      "text/plain": [
       "role\n",
       "tick_label       1183\n",
       "axis_title        140\n",
       "value_label       111\n",
       "chart_title        67\n",
       "legend_label       55\n",
       "other              25\n",
       "tick_grouping       5\n",
       "legend_title        1\n",
       "Name: count, dtype: int64"
      ]
     },
     "execution_count": 76,
     "metadata": {},
     "output_type": "execute_result"
    }
   ],
   "source": [
    "df_chimie_r[\"role\"].value_counts()"
   ]
  },
  {
   "cell_type": "code",
   "execution_count": 77,
   "id": "54ebe324-24ad-49f1-a80e-4ba019bbee3e",
   "metadata": {},
   "outputs": [
    {
     "data": {
      "image/png": "[encoded data removed]",
      "text/plain": [
       "<Figure size 600x600 with 1 Axes>"
      ]
     },
     "metadata": {},
     "output_type": "display_data"
    }
   ],
   "source": [
    "counts = df_chimie_r[\"role\"].value_counts()\n",
    "ax = counts.plot.pie(autopct=\"%1.1f%%\", figsize=(6, 6), labels=[\"\"] * len(counts))\n",
    "plt.legend(ax.patches, counts.index, title=\"role\", bbox_to_anchor=(1, 0.5))\n",
    "plt.ylabel(\"\")\n",
    "plt.title(\"Distribution of role\")\n",
    "plt.show()"
   ]
  },
  {
   "cell_type": "code",
   "execution_count": 78,
   "id": "2c3072ce-aeee-497a-8385-d9fe1eb50b68",
   "metadata": {},
   "outputs": [
    {
     "data": {
      "text/plain": [
       "chart_type\n",
       "bar      968\n",
       "dbar     270\n",
       "line     179\n",
       "pie      150\n",
       "dline     20\n",
       "Name: count, dtype: int64"
      ]
     },
     "execution_count": 78,
     "metadata": {},
     "output_type": "execute_result"
    }
   ],
   "source": [
    "df_chimie_r[\"chart_type\"].value_counts()"
   ]
  },
  {
   "cell_type": "code",
   "execution_count": 79,
   "id": "fe4ccd58-3001-48ac-87e6-8a2783eef1af",
   "metadata": {},
   "outputs": [
    {
     "data": {
      "image/png": "[encoded data removed]",
      "text/plain": [
       "<Figure size 600x600 with 1 Axes>"
      ]
     },
     "metadata": {},
     "output_type": "display_data"
    }
   ],
   "source": [
    "counts = df_chimie_r[\"chart_type\"].value_counts()\n",
    "ax = counts.plot.pie(autopct=\"%1.1f%%\", figsize=(6, 6), labels=[\"\"] * len(counts))\n",
    "plt.legend(ax.patches, counts.index, title=\"chart type\", bbox_to_anchor=(1, 0.5))\n",
    "plt.ylabel(\"\")\n",
    "plt.title(\"Distribution of chart type\")\n",
    "plt.show()"
   ]
  },
  {
   "cell_type": "code",
   "execution_count": 80,
   "id": "1519cd7d-2c77-4f13-a2b0-4b3f1993f32b",
   "metadata": {},
   "outputs": [
    {
     "data": {
      "text/plain": [
       "split\n",
       "train    1090\n",
       "test      497\n",
       "Name: count, dtype: int64"
      ]
     },
     "execution_count": 80,
     "metadata": {},
     "output_type": "execute_result"
    }
   ],
   "source": [
    "df_chimie_r[\"split\"].value_counts()"
   ]
  },
  {
   "cell_type": "code",
   "execution_count": 81,
   "id": "a85c7091-11be-4626-b918-b712c2b5960c",
   "metadata": {},
   "outputs": [
    {
     "data": {
      "text/plain": [
       "text           528\n",
       "role             8\n",
       "center_x       598\n",
       "center_y       504\n",
       "width          178\n",
       "height          84\n",
       "orientation      1\n",
       "annot_file     115\n",
       "img            115\n",
       "chart_type       5\n",
       "split            2\n",
       "dtype: int64"
      ]
     },
     "execution_count": 81,
     "metadata": {},
     "output_type": "execute_result"
    }
   ],
   "source": [
    "df_chimie_r.nunique()"
   ]
  },
  {
   "cell_type": "code",
   "execution_count": 82,
   "id": "03135157-82fb-4c61-acf2-690661dace83",
   "metadata": {},
   "outputs": [
    {
     "data": {
      "text/plain": [
       "text           528\n",
       "role             8\n",
       "center_x       598\n",
       "center_y       504\n",
       "width          178\n",
       "height          84\n",
       "orientation      1\n",
       "annot_file     115\n",
       "img            115\n",
       "chart_type       5\n",
       "split            2\n",
       "dtype: int64"
      ]
     },
     "execution_count": 82,
     "metadata": {},
     "output_type": "execute_result"
    }
   ],
   "source": [
    "df_chimie_r[df_chimie_r[\"role\"].notnull()].nunique()"
   ]
  },
  {
   "cell_type": "code",
   "execution_count": 95,
   "id": "41cf078e-ffd3-460a-9f92-ac293875ca5d",
   "metadata": {},
   "outputs": [
    {
     "data": {
      "text/plain": [
       "text           415\n",
       "role             8\n",
       "center_x       531\n",
       "center_y       425\n",
       "width          162\n",
       "height          74\n",
       "orientation      1\n",
       "annot_file      80\n",
       "img             80\n",
       "chart_type       5\n",
       "split            1\n",
       "dtype: int64"
      ]
     },
     "execution_count": 95,
     "metadata": {},
     "output_type": "execute_result"
    }
   ],
   "source": [
    "df_chimie_r[df_chimie_r[\"split\"] == \"train\"].nunique()"
   ]
  },
  {
   "cell_type": "code",
   "execution_count": 83,
   "id": "8a0599a7-d3cb-46f2-b53f-0cf29e72f7b6",
   "metadata": {},
   "outputs": [
    {
     "name": "stdout",
     "output_type": "stream",
     "text": [
      "./datasets/CHIME-R/train/images/bar021.bmp\n"
     ]
    },
    {
     "data": {
      "text/plain": [
       "True"
      ]
     },
     "execution_count": 83,
     "metadata": {},
     "output_type": "execute_result"
    }
   ],
   "source": [
    "random_img_path = df_chimie_r[df_chimie_r[\"role\"].notnull()][\"img\"].sample(1).values[0]\n",
    "# random_img_path = \"./datasets/ICPR2022_CHARTINFO_UB_UNITEC_PMC_TEST_v2.1/chart_images/split_2/images/PMC6404038___2.jpg\"\n",
    "\n",
    "print(random_img_path)\n",
    "\n",
    "img = cv2.imread(random_img_path)\n",
    "\n",
    "labeled_polygons = []\n",
    "\n",
    "for idx, row in df_chimie_r[df_chimie_r[\"img\"] == random_img_path].iterrows():\n",
    "    rect = (\n",
    "        (row[\"center_x\"], row[\"center_y\"]),\n",
    "        (row[\"width\"], row[\"height\"]),\n",
    "        row[\"orientation\"],\n",
    "    )\n",
    "    points = cv2.boxPoints(rect)  # returns float32\n",
    "    labeled_polygons.append((points.astype(int), row[\"role\"]))\n",
    "\n",
    "font = cv2.FONT_HERSHEY_SIMPLEX\n",
    "color = (0, 0, 255)\n",
    "thikness = 1\n",
    "scale = 0.5\n",
    "\n",
    "for points, label in labeled_polygons:\n",
    "    cv2.polylines(img, [points], isClosed=True, color=color, thickness=thikness)\n",
    "    # Draw label near the first point\n",
    "    cv2.putText(\n",
    "        img,\n",
    "        label,\n",
    "        (points[0, 0], points[0, 1] + 15),\n",
    "        font,\n",
    "        scale,\n",
    "        color,\n",
    "        thikness,\n",
    "    )\n",
    "cv2.imwrite(f\"./datasets/examples/annot_{random_img_path.replace('/', '_')}\", img)"
   ]
  },
  {
   "cell_type": "code",
   "execution_count": 84,
   "id": "8e65e036-a9c3-4c39-975b-13f64b161c96",
   "metadata": {},
   "outputs": [],
   "source": [
    "chimie_r_test_hf_out_dir = \"./datasets/CHIME-R_hf/test\"\n",
    "os.makedirs(f\"{chimie_r_test_hf_out_dir}/images\", exist_ok=True)"
   ]
  },
  {
   "cell_type": "code",
   "execution_count": 85,
   "id": "fe0ade77-a41b-4193-95d0-1d1912f39afa",
   "metadata": {},
   "outputs": [],
   "source": [
    "try:\n",
    "    if not create_hf_datasets:\n",
    "        raise Exception(\"create_hf_datasets set to False\")\n",
    "\n",
    "    for img in df_chimie_r[df_chimie_r[\"split\"] == \"test\"][\"img\"].unique():\n",
    "        shutil.copy(\n",
    "            img,\n",
    "            f\"{chimie_r_test_hf_out_dir}/images/{os.path.basename(img)}\",\n",
    "        )\n",
    "\n",
    "    df_chimie_r_test_hf = df_chimie_r[df_chimie_r[\"split\"] == \"test\"].copy()\n",
    "    df_chimie_r_test_hf[\"file_name\"] = df_chimie_r_test_hf[\"img\"].apply(\n",
    "        lambda v: f\"images/{os.path.basename(v)}\"\n",
    "    )\n",
    "    df_chimie_r_test_hf = df_chimie_r_test_hf.drop(columns=[\"img\"])\n",
    "    df_chimie_r_test_hf = df_chimie_r_test_hf.drop(columns=[\"annot_file\"])\n",
    "    df_chimie_r_test_hf = df_chimie_r_test_hf.drop(columns=[\"split\"])\n",
    "\n",
    "    df_chimie_r_test_hf.to_csv(f\"{chimie_r_test_hf_out_dir}/metadata.csv\", index=False)\n",
    "\n",
    "except Exception:\n",
    "    traceback.print_exc()"
   ]
  },
  {
   "cell_type": "code",
   "execution_count": 86,
   "id": "f6848b0b-1422-4673-af07-8461a37b4217",
   "metadata": {},
   "outputs": [],
   "source": [
    "chimie_r_train_hf_out_dir = \"./datasets/CHIME-R_hf/train\"\n",
    "os.makedirs(f\"{chimie_r_train_hf_out_dir}/images\", exist_ok=True)"
   ]
  },
  {
   "cell_type": "code",
   "execution_count": 87,
   "id": "eac74fe6-507d-4122-99ea-cb24eb7b67cb",
   "metadata": {},
   "outputs": [],
   "source": [
    "try:\n",
    "    if not create_hf_datasets:\n",
    "        raise Exception(\"create_hf_datasets set to False\")\n",
    "\n",
    "    for img in df_chimie_r[df_chimie_r[\"split\"] == \"train\"][\"img\"].unique():\n",
    "        shutil.copy(\n",
    "            img,\n",
    "            f\"{chimie_r_train_hf_out_dir}/images/{os.path.basename(img)}\",\n",
    "        )\n",
    "\n",
    "    df_chimie_r_train_hf = df_chimie_r[df_chimie_r[\"split\"] == \"train\"].copy()\n",
    "    df_chimie_r_train_hf[\"file_name\"] = df_chimie_r_train_hf[\"img\"].apply(\n",
    "        lambda v: f\"images/{os.path.basename(v)}\"\n",
    "    )\n",
    "    df_chimie_r_train_hf = df_chimie_r_train_hf.drop(columns=[\"img\"])\n",
    "    df_chimie_r_train_hf = df_chimie_r_train_hf.drop(columns=[\"annot_file\"])\n",
    "    df_chimie_r_train_hf = df_chimie_r_train_hf.drop(columns=[\"split\"])\n",
    "\n",
    "    df_chimie_r_train_hf.to_csv(\n",
    "        f\"{chimie_r_train_hf_out_dir}/metadata.csv\", index=False\n",
    "    )\n",
    "\n",
    "except Exception:\n",
    "    traceback.print_exc()"
   ]
  },
  {
   "cell_type": "markdown",
   "id": "cb4680ee-abec-4e02-a5f9-f2694be2f60f",
   "metadata": {},
   "source": [
    "# Connect to wandb"
   ]
  },
  {
   "cell_type": "code",
   "execution_count": 92,
   "id": "b03eb7b6-72cd-446a-8e9d-f1fd0d46684f",
   "metadata": {},
   "outputs": [
    {
     "name": "stdout",
     "output_type": "stream",
     "text": [
      "    _step  eval/recall  train/epoch  eval/precision  train/loss    _timestamp  \\\n",
      "0       0     0.000000     1.842105        0.000000         NaN  1.749596e+09   \n",
      "1       1          NaN     3.421053             NaN      1.3401  1.749596e+09   \n",
      "2       2     0.000000     3.421053        0.000000         NaN  1.749596e+09   \n",
      "3       3     0.114286     5.000000        0.090476         NaN  1.749596e+09   \n",
      "4       4          NaN     6.842105             NaN      0.7653  1.749596e+09   \n",
      "5       5     0.233333     6.842105        0.351190         NaN  1.749596e+09   \n",
      "6       6     0.355102     8.421053        0.448980         NaN  1.749596e+09   \n",
      "7       7          NaN    10.000000             NaN      0.4211  1.749596e+09   \n",
      "8       8     0.424490    10.000000        0.476190         NaN  1.749596e+09   \n",
      "9       9     0.493878    11.842105        0.479592         NaN  1.749596e+09   \n",
      "10     10          NaN    13.421053             NaN      0.2856  1.749596e+09   \n",
      "11     11     0.502041    13.421053        0.406803         NaN  1.749596e+09   \n",
      "12     12     0.609524    15.000000        0.487500         NaN  1.749596e+09   \n",
      "13     13          NaN    16.842105             NaN      0.1936  1.749596e+09   \n",
      "14     14     0.522449    16.842105        0.488095         NaN  1.749596e+09   \n",
      "15     15     0.481633    18.421053        0.380952         NaN  1.749596e+09   \n",
      "16     16          NaN    20.000000             NaN      0.0947  1.749596e+09   \n",
      "17     17     0.473469    20.000000        0.386905         NaN  1.749596e+09   \n",
      "18     18     0.752381    21.842105        0.657407         NaN  1.749596e+09   \n",
      "19     19          NaN    23.421053             NaN      0.0618  1.749596e+09   \n",
      "20     20     0.752381    23.421053        0.567460         NaN  1.749596e+09   \n",
      "21     21     0.616327    25.000000        0.490476         NaN  1.749596e+09   \n",
      "22     22          NaN    26.842105             NaN      0.0353  1.749596e+09   \n",
      "23     23     0.719048    26.842105        0.583333         NaN  1.749596e+09   \n",
      "\n",
      "    eval/accuracy  eval/f1_macro  eval/steps_per_second  train/grad_norm  \\\n",
      "0        0.603896       0.000000                  6.930              NaN   \n",
      "1             NaN            NaN                    NaN         5.639138   \n",
      "2        0.603896       0.000000                  8.032              NaN   \n",
      "3        0.772727       0.098413                  7.990              NaN   \n",
      "4             NaN            NaN                    NaN         3.800410   \n",
      "5        0.896104       0.235806                  7.103              NaN   \n",
      "6        0.876623       0.373016                  8.070              NaN   \n",
      "7             NaN            NaN                    NaN         0.721701   \n",
      "8        0.863636       0.441558                  7.774              NaN   \n",
      "9        0.850649       0.486085                  7.383              NaN   \n",
      "10            NaN            NaN                    NaN         1.298393   \n",
      "11       0.857143       0.430612                  7.660              NaN   \n",
      "12       0.857143       0.533333                  7.949              NaN   \n",
      "13            NaN            NaN                    NaN         2.472789   \n",
      "14       0.870130       0.503896                  7.649              NaN   \n",
      "15       0.850649       0.413919                  7.990              NaN   \n",
      "16            NaN            NaN                    NaN         1.388219   \n",
      "17       0.844156       0.416384                  7.598              NaN   \n",
      "18       0.883117       0.678571                  7.820              NaN   \n",
      "19            NaN            NaN                    NaN         2.428121   \n",
      "20       0.870130       0.611111                  7.947              NaN   \n",
      "21       0.883117       0.514286                  8.027              NaN   \n",
      "22            NaN            NaN                    NaN         0.620806   \n",
      "23       0.857143       0.618687                  8.041              NaN   \n",
      "\n",
      "    eval/loss  train/learning_rate  eval/samples_per_second    _runtime  \\\n",
      "0    1.459478                  NaN                   12.475   21.473314   \n",
      "1         NaN              0.00002                      NaN   40.786147   \n",
      "2    1.039552                  NaN                   14.457   41.415924   \n",
      "3    0.805594                  NaN                   14.382   58.280339   \n",
      "4         NaN              0.00002                      NaN   79.863098   \n",
      "5    0.606776                  NaN                   12.785   80.575161   \n",
      "6    0.567311                  NaN                   14.525   99.991788   \n",
      "7         NaN              0.00002                      NaN  115.952343   \n",
      "8    0.510895                  NaN                   13.993  116.604361   \n",
      "9    0.564738                  NaN                   13.289  138.907909   \n",
      "10        NaN              0.00002                      NaN  158.593147   \n",
      "11   0.519563                  NaN                   13.788  159.256476   \n",
      "12   0.614023                  NaN                   14.308  176.236121   \n",
      "13        NaN              0.00002                      NaN  199.624760   \n",
      "14   0.523276                  NaN                   13.767  200.289455   \n",
      "15   0.472639                  NaN                   14.381  220.434444   \n",
      "16        NaN              0.00002                      NaN  236.564945   \n",
      "17   0.528351                  NaN                   13.677  237.230957   \n",
      "18   0.512762                  NaN                   14.075  259.510243   \n",
      "19        NaN              0.00002                      NaN  278.975889   \n",
      "20   0.428853                  NaN                   14.305  279.612675   \n",
      "21   0.519886                  NaN                   14.449  296.517350   \n",
      "22        NaN              0.00002                      NaN  318.047174   \n",
      "23   0.584812                  NaN                   14.473  318.676552   \n",
      "\n",
      "    eval/f1_micro  train/global_step  eval/runtime  \n",
      "0        0.000000                  5        0.7215  \n",
      "1             NaN                 10           NaN  \n",
      "2        0.000000                 10        0.6225  \n",
      "3        0.190476                 15        0.6258  \n",
      "4             NaN                 20           NaN  \n",
      "5        0.461538                 20        0.7039  \n",
      "6        0.536585                 25        0.6196  \n",
      "7             NaN                 30           NaN  \n",
      "8        0.666667                 30        0.6432  \n",
      "9        0.772727                 35        0.6772  \n",
      "10            NaN                 40           NaN  \n",
      "11       0.739130                 40        0.6527  \n",
      "12       0.800000                 45        0.6290  \n",
      "13            NaN                 50           NaN  \n",
      "14       0.782609                 50        0.6537  \n",
      "15       0.695652                 55        0.6258  \n",
      "16            NaN                 60           NaN  \n",
      "17       0.680851                 60        0.6580  \n",
      "18       0.782609                 65        0.6394  \n",
      "19            NaN                 70           NaN  \n",
      "20       0.782609                 70        0.6291  \n",
      "21       0.755556                 75        0.6229  \n",
      "22            NaN                 80           NaN  \n",
      "23       0.772727                 80        0.6218  \n",
      "<wandb.apis.public.artifacts.RunArtifacts object at 0x76d555f98470>\n"
     ]
    }
   ],
   "source": [
    "import wandb\n",
    "\n",
    "api = wandb.Api(api_key=\"29d0d6a18093ce2fee4a6b00aca4efdc220a8a9d\")\n",
    "run = api.run(\"/nassimb0u-test/huggingface/runs/tj6nssvd\")\n",
    "\n",
    "print(run.history())\n",
    "\n",
    "print(run.logged_artifacts())"
   ]
  },
  {
   "cell_type": "markdown",
   "id": "a9994245-1764-4af9-97b4-d78d82097192",
   "metadata": {},
   "source": [
    "# Eval/Test results"
   ]
  },
  {
   "cell_type": "code",
   "execution_count": null,
   "id": "fdc52bae-1dfc-4728-9df7-d2898a5c1204",
   "metadata": {},
   "outputs": [],
   "source": [
    "preds = []\n",
    "with open(\"./datasets/eval_test_results/predictions_icpr22.txt\", \"r\") as f:\n",
    "    for line in f:\n",
    "        i, list_str = line.split(\":\", 1)\n",
    "        items = ast.literal_eval(list_str.strip())\n",
    "        # !!!! more predections then true labels (26 > 24, take first 24)\n",
    "        # if int(i) == 405:\n",
    "            # items = items[:24]\n",
    "        preds.extend(items)\n",
    "print(len(preds))"
   ]
  },
  {
   "cell_type": "code",
   "execution_count": 232,
   "id": "e78a20e6-795a-4682-872d-146149072db7",
   "metadata": {},
   "outputs": [
    {
     "data": {
      "text/html": [
       "<div>\n",
       "<style scoped>\n",
       "    .dataframe tbody tr th:only-of-type {\n",
       "        vertical-align: middle;\n",
       "    }\n",
       "\n",
       "    .dataframe tbody tr th {\n",
       "        vertical-align: top;\n",
       "    }\n",
       "\n",
       "    .dataframe thead th {\n",
       "        text-align: right;\n",
       "    }\n",
       "</style>\n",
       "<table border=\"1\" class=\"dataframe\">\n",
       "  <thead>\n",
       "    <tr style=\"text-align: right;\">\n",
       "      <th></th>\n",
       "      <th>text</th>\n",
       "      <th>role</th>\n",
       "      <th>x0</th>\n",
       "      <th>x1</th>\n",
       "      <th>x2</th>\n",
       "      <th>x3</th>\n",
       "      <th>y0</th>\n",
       "      <th>y1</th>\n",
       "      <th>y2</th>\n",
       "      <th>y3</th>\n",
       "      <th>chart_type</th>\n",
       "      <th>annot_file</th>\n",
       "      <th>img</th>\n",
       "      <th>split</th>\n",
       "      <th>annot_file_name</th>\n",
       "    </tr>\n",
       "  </thead>\n",
       "  <tbody>\n",
       "    <tr>\n",
       "      <th>47031</th>\n",
       "      <td>0.25</td>\n",
       "      <td>tick_label</td>\n",
       "      <td>26.0</td>\n",
       "      <td>59.0</td>\n",
       "      <td>59.0</td>\n",
       "      <td>26.0</td>\n",
       "      <td>63.0</td>\n",
       "      <td>63.0</td>\n",
       "      <td>77.0</td>\n",
       "      <td>77.0</td>\n",
       "      <td>line</td>\n",
       "      <td>./datasets/ICPR2022_CHARTINFO_UB_UNITEC_PMC_TEST_v2.1/final_full_GT/split_5/annotations_JSON/PMC1618809___4.json</td>\n",
       "      <td>./datasets/ICPR2022_CHARTINFO_UB_UNITEC_PMC_TEST_v2.1/chart_images/split_5/images/PMC1618809___4.jpg</td>\n",
       "      <td>split_5</td>\n",
       "      <td>PMC1618809___4.json</td>\n",
       "    </tr>\n",
       "    <tr>\n",
       "      <th>47029</th>\n",
       "      <td>0.15</td>\n",
       "      <td>tick_label</td>\n",
       "      <td>26.0</td>\n",
       "      <td>58.0</td>\n",
       "      <td>58.0</td>\n",
       "      <td>26.0</td>\n",
       "      <td>187.0</td>\n",
       "      <td>187.0</td>\n",
       "      <td>200.0</td>\n",
       "      <td>200.0</td>\n",
       "      <td>line</td>\n",
       "      <td>./datasets/ICPR2022_CHARTINFO_UB_UNITEC_PMC_TEST_v2.1/final_full_GT/split_5/annotations_JSON/PMC1618809___4.json</td>\n",
       "      <td>./datasets/ICPR2022_CHARTINFO_UB_UNITEC_PMC_TEST_v2.1/chart_images/split_5/images/PMC1618809___4.jpg</td>\n",
       "      <td>split_5</td>\n",
       "      <td>PMC1618809___4.json</td>\n",
       "    </tr>\n",
       "    <tr>\n",
       "      <th>47030</th>\n",
       "      <td>0.20</td>\n",
       "      <td>tick_label</td>\n",
       "      <td>26.0</td>\n",
       "      <td>58.0</td>\n",
       "      <td>58.0</td>\n",
       "      <td>26.0</td>\n",
       "      <td>125.0</td>\n",
       "      <td>125.0</td>\n",
       "      <td>138.0</td>\n",
       "      <td>138.0</td>\n",
       "      <td>line</td>\n",
       "      <td>./datasets/ICPR2022_CHARTINFO_UB_UNITEC_PMC_TEST_v2.1/final_full_GT/split_5/annotations_JSON/PMC1618809___4.json</td>\n",
       "      <td>./datasets/ICPR2022_CHARTINFO_UB_UNITEC_PMC_TEST_v2.1/chart_images/split_5/images/PMC1618809___4.jpg</td>\n",
       "      <td>split_5</td>\n",
       "      <td>PMC1618809___4.json</td>\n",
       "    </tr>\n",
       "    <tr>\n",
       "      <th>47032</th>\n",
       "      <td>0.30</td>\n",
       "      <td>tick_label</td>\n",
       "      <td>27.0</td>\n",
       "      <td>59.0</td>\n",
       "      <td>59.0</td>\n",
       "      <td>27.0</td>\n",
       "      <td>1.0</td>\n",
       "      <td>1.0</td>\n",
       "      <td>14.0</td>\n",
       "      <td>14.0</td>\n",
       "      <td>line</td>\n",
       "      <td>./datasets/ICPR2022_CHARTINFO_UB_UNITEC_PMC_TEST_v2.1/final_full_GT/split_5/annotations_JSON/PMC1618809___4.json</td>\n",
       "      <td>./datasets/ICPR2022_CHARTINFO_UB_UNITEC_PMC_TEST_v2.1/chart_images/split_5/images/PMC1618809___4.jpg</td>\n",
       "      <td>split_5</td>\n",
       "      <td>PMC1618809___4.json</td>\n",
       "    </tr>\n",
       "    <tr>\n",
       "      <th>47028</th>\n",
       "      <td>0.10</td>\n",
       "      <td>tick_label</td>\n",
       "      <td>26.0</td>\n",
       "      <td>59.0</td>\n",
       "      <td>59.0</td>\n",
       "      <td>26.0</td>\n",
       "      <td>249.0</td>\n",
       "      <td>249.0</td>\n",
       "      <td>262.0</td>\n",
       "      <td>262.0</td>\n",
       "      <td>line</td>\n",
       "      <td>./datasets/ICPR2022_CHARTINFO_UB_UNITEC_PMC_TEST_v2.1/final_full_GT/split_5/annotations_JSON/PMC1618809___4.json</td>\n",
       "      <td>./datasets/ICPR2022_CHARTINFO_UB_UNITEC_PMC_TEST_v2.1/chart_images/split_5/images/PMC1618809___4.jpg</td>\n",
       "      <td>split_5</td>\n",
       "      <td>PMC1618809___4.json</td>\n",
       "    </tr>\n",
       "  </tbody>\n",
       "</table>\n",
       "</div>"
      ],
      "text/plain": [
       "       text        role    x0    x1    x2    x3     y0     y1     y2     y3  \\\n",
       "47031  0.25  tick_label  26.0  59.0  59.0  26.0   63.0   63.0   77.0   77.0   \n",
       "47029  0.15  tick_label  26.0  58.0  58.0  26.0  187.0  187.0  200.0  200.0   \n",
       "47030  0.20  tick_label  26.0  58.0  58.0  26.0  125.0  125.0  138.0  138.0   \n",
       "47032  0.30  tick_label  27.0  59.0  59.0  27.0    1.0    1.0   14.0   14.0   \n",
       "47028  0.10  tick_label  26.0  59.0  59.0  26.0  249.0  249.0  262.0  262.0   \n",
       "\n",
       "      chart_type  \\\n",
       "47031       line   \n",
       "47029       line   \n",
       "47030       line   \n",
       "47032       line   \n",
       "47028       line   \n",
       "\n",
       "                                                                                                             annot_file  \\\n",
       "47031  ./datasets/ICPR2022_CHARTINFO_UB_UNITEC_PMC_TEST_v2.1/final_full_GT/split_5/annotations_JSON/PMC1618809___4.json   \n",
       "47029  ./datasets/ICPR2022_CHARTINFO_UB_UNITEC_PMC_TEST_v2.1/final_full_GT/split_5/annotations_JSON/PMC1618809___4.json   \n",
       "47030  ./datasets/ICPR2022_CHARTINFO_UB_UNITEC_PMC_TEST_v2.1/final_full_GT/split_5/annotations_JSON/PMC1618809___4.json   \n",
       "47032  ./datasets/ICPR2022_CHARTINFO_UB_UNITEC_PMC_TEST_v2.1/final_full_GT/split_5/annotations_JSON/PMC1618809___4.json   \n",
       "47028  ./datasets/ICPR2022_CHARTINFO_UB_UNITEC_PMC_TEST_v2.1/final_full_GT/split_5/annotations_JSON/PMC1618809___4.json   \n",
       "\n",
       "                                                                                                        img  \\\n",
       "47031  ./datasets/ICPR2022_CHARTINFO_UB_UNITEC_PMC_TEST_v2.1/chart_images/split_5/images/PMC1618809___4.jpg   \n",
       "47029  ./datasets/ICPR2022_CHARTINFO_UB_UNITEC_PMC_TEST_v2.1/chart_images/split_5/images/PMC1618809___4.jpg   \n",
       "47030  ./datasets/ICPR2022_CHARTINFO_UB_UNITEC_PMC_TEST_v2.1/chart_images/split_5/images/PMC1618809___4.jpg   \n",
       "47032  ./datasets/ICPR2022_CHARTINFO_UB_UNITEC_PMC_TEST_v2.1/chart_images/split_5/images/PMC1618809___4.jpg   \n",
       "47028  ./datasets/ICPR2022_CHARTINFO_UB_UNITEC_PMC_TEST_v2.1/chart_images/split_5/images/PMC1618809___4.jpg   \n",
       "\n",
       "         split      annot_file_name  \n",
       "47031  split_5  PMC1618809___4.json  \n",
       "47029  split_5  PMC1618809___4.json  \n",
       "47030  split_5  PMC1618809___4.json  \n",
       "47032  split_5  PMC1618809___4.json  \n",
       "47028  split_5  PMC1618809___4.json  "
      ]
     },
     "execution_count": 232,
     "metadata": {},
     "output_type": "execute_result"
    }
   ],
   "source": [
    "df_icpr2022_test_pred = df_icpr2022_test[df_icpr2022_test[\"role\"].notnull()].copy()\n",
    "df_icpr2022_test_pred[\"annot_file_name\"] = df_icpr2022_test_pred[\"annot_file\"].apply(\n",
    "    os.path.basename\n",
    ")\n",
    "df_icpr2022_test_pred = df_icpr2022_test_pred.sort_values(by=\"annot_file_name\")\n",
    "df_icpr2022_test_pred.head()"
   ]
  },
  {
   "cell_type": "code",
   "execution_count": 231,
   "id": "19ebf118-cde4-4669-9cd2-13b2af1cfc23",
   "metadata": {},
   "outputs": [
    {
     "name": "stdout",
     "output_type": "stream",
     "text": [
      "40654\n"
     ]
    }
   ],
   "source": [
    "preds = []\n",
    "with open(\"./datasets/eval_test_results/predictions_icpr22.txt\", \"r\") as f:\n",
    "    for line in f:\n",
    "        i, list_str = line.split(\":\", 1)\n",
    "        items = ast.literal_eval(list_str.strip())\n",
    "        # !!!! more predections then true labels (26 > 24, take first 24)\n",
    "        if int(i) == 405:\n",
    "            items = items[:24]\n",
    "        preds.extend(items)\n",
    "print(len(preds))"
   ]
  },
  {
   "cell_type": "code",
   "execution_count": 256,
   "id": "dc34f778-9d7d-40c5-ad7b-edf8eb7bd82f",
   "metadata": {},
   "outputs": [
    {
     "data": {
      "text/plain": [
       "40654"
      ]
     },
     "execution_count": 256,
     "metadata": {},
     "output_type": "execute_result"
    }
   ],
   "source": [
    "with open(\"./datasets/test.txt\", \"r\") as f:\n",
    "    lines = f.readlines()\n",
    "    # Remove trailing newlines if needed\n",
    "    lines = [line.strip() for line in lines]\n",
    "\n",
    "\n",
    "lines = lines[:8443] + lines[8445:]\n",
    "len(lines)"
   ]
  },
  {
   "cell_type": "code",
   "execution_count": 199,
   "id": "3aef36cb-1c9b-458b-88ce-bf1778aa09ca",
   "metadata": {},
   "outputs": [
    {
     "data": {
      "text/html": [
       "<div>\n",
       "<style scoped>\n",
       "    .dataframe tbody tr th:only-of-type {\n",
       "        vertical-align: middle;\n",
       "    }\n",
       "\n",
       "    .dataframe tbody tr th {\n",
       "        vertical-align: top;\n",
       "    }\n",
       "\n",
       "    .dataframe thead th {\n",
       "        text-align: right;\n",
       "    }\n",
       "</style>\n",
       "<table border=\"1\" class=\"dataframe\">\n",
       "  <thead>\n",
       "    <tr style=\"text-align: right;\">\n",
       "      <th></th>\n",
       "      <th>annot_file_name</th>\n",
       "      <th>count</th>\n",
       "      <th>c</th>\n",
       "    </tr>\n",
       "  </thead>\n",
       "  <tbody>\n",
       "    <tr>\n",
       "      <th>0</th>\n",
       "      <td>PMC1618809___4.json</td>\n",
       "      <td>15</td>\n",
       "      <td>15</td>\n",
       "    </tr>\n",
       "    <tr>\n",
       "      <th>1</th>\n",
       "      <td>PMC1831497___g006.json</td>\n",
       "      <td>12</td>\n",
       "      <td>12</td>\n",
       "    </tr>\n",
       "    <tr>\n",
       "      <th>2</th>\n",
       "      <td>PMC1855992___g001.json</td>\n",
       "      <td>12</td>\n",
       "      <td>12</td>\n",
       "    </tr>\n",
       "    <tr>\n",
       "      <th>3</th>\n",
       "      <td>PMC1959185___g005.json</td>\n",
       "      <td>33</td>\n",
       "      <td>33</td>\n",
       "    </tr>\n",
       "    <tr>\n",
       "      <th>4</th>\n",
       "      <td>PMC1974792___4.json</td>\n",
       "      <td>13</td>\n",
       "      <td>13</td>\n",
       "    </tr>\n",
       "    <tr>\n",
       "      <th>...</th>\n",
       "      <td>...</td>\n",
       "      <td>...</td>\n",
       "      <td>...</td>\n",
       "    </tr>\n",
       "    <tr>\n",
       "      <th>1868</th>\n",
       "      <td>PMC7517837___4.json</td>\n",
       "      <td>18</td>\n",
       "      <td>18</td>\n",
       "    </tr>\n",
       "    <tr>\n",
       "      <th>1869</th>\n",
       "      <td>PMC7528689___3.json</td>\n",
       "      <td>21</td>\n",
       "      <td>21</td>\n",
       "    </tr>\n",
       "    <tr>\n",
       "      <th>1870</th>\n",
       "      <td>PMC7556473___g003.json</td>\n",
       "      <td>34</td>\n",
       "      <td>34</td>\n",
       "    </tr>\n",
       "    <tr>\n",
       "      <th>1871</th>\n",
       "      <td>PMC7570759___15.json</td>\n",
       "      <td>13</td>\n",
       "      <td>13</td>\n",
       "    </tr>\n",
       "    <tr>\n",
       "      <th>1872</th>\n",
       "      <td>PMC7603165___3.json</td>\n",
       "      <td>22</td>\n",
       "      <td>22</td>\n",
       "    </tr>\n",
       "  </tbody>\n",
       "</table>\n",
       "<p>1873 rows × 3 columns</p>\n",
       "</div>"
      ],
      "text/plain": [
       "             annot_file_name  count   c\n",
       "0        PMC1618809___4.json     15  15\n",
       "1     PMC1831497___g006.json     12  12\n",
       "2     PMC1855992___g001.json     12  12\n",
       "3     PMC1959185___g005.json     33  33\n",
       "4        PMC1974792___4.json     13  13\n",
       "...                      ...    ...  ..\n",
       "1868     PMC7517837___4.json     18  18\n",
       "1869     PMC7528689___3.json     21  21\n",
       "1870  PMC7556473___g003.json     34  34\n",
       "1871    PMC7570759___15.json     13  13\n",
       "1872     PMC7603165___3.json     22  22\n",
       "\n",
       "[1873 rows x 3 columns]"
      ]
     },
     "execution_count": 199,
     "metadata": {},
     "output_type": "execute_result"
    }
   ],
   "source": [
    "# r = df_icpr2022_test_pred.groupby('annot_file_name', sort=False).size().reset_index(name='count')\n",
    "# r[\"c\"] = preds\n",
    "\n",
    "# r"
   ]
  },
  {
   "cell_type": "code",
   "execution_count": 218,
   "id": "e9dfca56-8e4b-45ae-a9ff-bff4bac22822",
   "metadata": {},
   "outputs": [
    {
     "data": {
      "text/html": [
       "<div>\n",
       "<style scoped>\n",
       "    .dataframe tbody tr th:only-of-type {\n",
       "        vertical-align: middle;\n",
       "    }\n",
       "\n",
       "    .dataframe tbody tr th {\n",
       "        vertical-align: top;\n",
       "    }\n",
       "\n",
       "    .dataframe thead th {\n",
       "        text-align: right;\n",
       "    }\n",
       "</style>\n",
       "<table border=\"1\" class=\"dataframe\">\n",
       "  <thead>\n",
       "    <tr style=\"text-align: right;\">\n",
       "      <th></th>\n",
       "      <th>text</th>\n",
       "      <th>role</th>\n",
       "      <th>x0</th>\n",
       "      <th>x1</th>\n",
       "      <th>x2</th>\n",
       "      <th>x3</th>\n",
       "      <th>y0</th>\n",
       "      <th>y1</th>\n",
       "      <th>y2</th>\n",
       "      <th>y3</th>\n",
       "      <th>chart_type</th>\n",
       "      <th>annot_file</th>\n",
       "      <th>img</th>\n",
       "      <th>split</th>\n",
       "      <th>annot_file_name</th>\n",
       "    </tr>\n",
       "  </thead>\n",
       "  <tbody>\n",
       "    <tr>\n",
       "      <th>12961</th>\n",
       "      <td>90%</td>\n",
       "      <td>tick_label</td>\n",
       "      <td>21.0</td>\n",
       "      <td>43.0</td>\n",
       "      <td>43.0</td>\n",
       "      <td>21.0</td>\n",
       "      <td>34.0</td>\n",
       "      <td>34.0</td>\n",
       "      <td>46.0</td>\n",
       "      <td>46.0</td>\n",
       "      <td>vertical bar</td>\n",
       "      <td>./datasets/ICPR2022_CHARTINFO_UB_UNITEC_PMC_TEST_v2.1/final_full_GT/split_3/annotations_JSON/PMC3812229___g004.json</td>\n",
       "      <td>./datasets/ICPR2022_CHARTINFO_UB_UNITEC_PMC_TEST_v2.1/chart_images/split_3/images/PMC3812229___g004.jpg</td>\n",
       "      <td>split_3</td>\n",
       "      <td>PMC3812229___g004.json</td>\n",
       "    </tr>\n",
       "    <tr>\n",
       "      <th>12967</th>\n",
       "      <td>30%</td>\n",
       "      <td>tick_label</td>\n",
       "      <td>21.0</td>\n",
       "      <td>43.0</td>\n",
       "      <td>43.0</td>\n",
       "      <td>21.0</td>\n",
       "      <td>234.0</td>\n",
       "      <td>234.0</td>\n",
       "      <td>246.0</td>\n",
       "      <td>246.0</td>\n",
       "      <td>vertical bar</td>\n",
       "      <td>./datasets/ICPR2022_CHARTINFO_UB_UNITEC_PMC_TEST_v2.1/final_full_GT/split_3/annotations_JSON/PMC3812229___g004.json</td>\n",
       "      <td>./datasets/ICPR2022_CHARTINFO_UB_UNITEC_PMC_TEST_v2.1/chart_images/split_3/images/PMC3812229___g004.jpg</td>\n",
       "      <td>split_3</td>\n",
       "      <td>PMC3812229___g004.json</td>\n",
       "    </tr>\n",
       "    <tr>\n",
       "      <th>12966</th>\n",
       "      <td>40%</td>\n",
       "      <td>tick_label</td>\n",
       "      <td>22.0</td>\n",
       "      <td>43.0</td>\n",
       "      <td>43.0</td>\n",
       "      <td>22.0</td>\n",
       "      <td>201.0</td>\n",
       "      <td>201.0</td>\n",
       "      <td>213.0</td>\n",
       "      <td>213.0</td>\n",
       "      <td>vertical bar</td>\n",
       "      <td>./datasets/ICPR2022_CHARTINFO_UB_UNITEC_PMC_TEST_v2.1/final_full_GT/split_3/annotations_JSON/PMC3812229___g004.json</td>\n",
       "      <td>./datasets/ICPR2022_CHARTINFO_UB_UNITEC_PMC_TEST_v2.1/chart_images/split_3/images/PMC3812229___g004.jpg</td>\n",
       "      <td>split_3</td>\n",
       "      <td>PMC3812229___g004.json</td>\n",
       "    </tr>\n",
       "    <tr>\n",
       "      <th>12965</th>\n",
       "      <td>50%</td>\n",
       "      <td>tick_label</td>\n",
       "      <td>21.0</td>\n",
       "      <td>43.0</td>\n",
       "      <td>43.0</td>\n",
       "      <td>21.0</td>\n",
       "      <td>168.0</td>\n",
       "      <td>168.0</td>\n",
       "      <td>179.0</td>\n",
       "      <td>179.0</td>\n",
       "      <td>vertical bar</td>\n",
       "      <td>./datasets/ICPR2022_CHARTINFO_UB_UNITEC_PMC_TEST_v2.1/final_full_GT/split_3/annotations_JSON/PMC3812229___g004.json</td>\n",
       "      <td>./datasets/ICPR2022_CHARTINFO_UB_UNITEC_PMC_TEST_v2.1/chart_images/split_3/images/PMC3812229___g004.jpg</td>\n",
       "      <td>split_3</td>\n",
       "      <td>PMC3812229___g004.json</td>\n",
       "    </tr>\n",
       "    <tr>\n",
       "      <th>12964</th>\n",
       "      <td>60%</td>\n",
       "      <td>tick_label</td>\n",
       "      <td>21.0</td>\n",
       "      <td>43.0</td>\n",
       "      <td>43.0</td>\n",
       "      <td>21.0</td>\n",
       "      <td>134.0</td>\n",
       "      <td>134.0</td>\n",
       "      <td>146.0</td>\n",
       "      <td>146.0</td>\n",
       "      <td>vertical bar</td>\n",
       "      <td>./datasets/ICPR2022_CHARTINFO_UB_UNITEC_PMC_TEST_v2.1/final_full_GT/split_3/annotations_JSON/PMC3812229___g004.json</td>\n",
       "      <td>./datasets/ICPR2022_CHARTINFO_UB_UNITEC_PMC_TEST_v2.1/chart_images/split_3/images/PMC3812229___g004.jpg</td>\n",
       "      <td>split_3</td>\n",
       "      <td>PMC3812229___g004.json</td>\n",
       "    </tr>\n",
       "    <tr>\n",
       "      <th>12963</th>\n",
       "      <td>70%</td>\n",
       "      <td>tick_label</td>\n",
       "      <td>21.0</td>\n",
       "      <td>43.0</td>\n",
       "      <td>43.0</td>\n",
       "      <td>21.0</td>\n",
       "      <td>101.0</td>\n",
       "      <td>101.0</td>\n",
       "      <td>113.0</td>\n",
       "      <td>113.0</td>\n",
       "      <td>vertical bar</td>\n",
       "      <td>./datasets/ICPR2022_CHARTINFO_UB_UNITEC_PMC_TEST_v2.1/final_full_GT/split_3/annotations_JSON/PMC3812229___g004.json</td>\n",
       "      <td>./datasets/ICPR2022_CHARTINFO_UB_UNITEC_PMC_TEST_v2.1/chart_images/split_3/images/PMC3812229___g004.jpg</td>\n",
       "      <td>split_3</td>\n",
       "      <td>PMC3812229___g004.json</td>\n",
       "    </tr>\n",
       "    <tr>\n",
       "      <th>12949</th>\n",
       "      <td>Proportion of travelers</td>\n",
       "      <td>axis_title</td>\n",
       "      <td>1.0</td>\n",
       "      <td>18.0</td>\n",
       "      <td>18.0</td>\n",
       "      <td>1.0</td>\n",
       "      <td>103.0</td>\n",
       "      <td>103.0</td>\n",
       "      <td>300.0</td>\n",
       "      <td>300.0</td>\n",
       "      <td>vertical bar</td>\n",
       "      <td>./datasets/ICPR2022_CHARTINFO_UB_UNITEC_PMC_TEST_v2.1/final_full_GT/split_3/annotations_JSON/PMC3812229___g004.json</td>\n",
       "      <td>./datasets/ICPR2022_CHARTINFO_UB_UNITEC_PMC_TEST_v2.1/chart_images/split_3/images/PMC3812229___g004.jpg</td>\n",
       "      <td>split_3</td>\n",
       "      <td>PMC3812229___g004.json</td>\n",
       "    </tr>\n",
       "    <tr>\n",
       "      <th>12960</th>\n",
       "      <td>100%</td>\n",
       "      <td>tick_label</td>\n",
       "      <td>17.0</td>\n",
       "      <td>43.0</td>\n",
       "      <td>43.0</td>\n",
       "      <td>17.0</td>\n",
       "      <td>1.0</td>\n",
       "      <td>1.0</td>\n",
       "      <td>13.0</td>\n",
       "      <td>13.0</td>\n",
       "      <td>vertical bar</td>\n",
       "      <td>./datasets/ICPR2022_CHARTINFO_UB_UNITEC_PMC_TEST_v2.1/final_full_GT/split_3/annotations_JSON/PMC3812229___g004.json</td>\n",
       "      <td>./datasets/ICPR2022_CHARTINFO_UB_UNITEC_PMC_TEST_v2.1/chart_images/split_3/images/PMC3812229___g004.jpg</td>\n",
       "      <td>split_3</td>\n",
       "      <td>PMC3812229___g004.json</td>\n",
       "    </tr>\n",
       "    <tr>\n",
       "      <th>12955</th>\n",
       "      <td>21 to 25 min</td>\n",
       "      <td>tick_label</td>\n",
       "      <td>362.0</td>\n",
       "      <td>377.0</td>\n",
       "      <td>377.0</td>\n",
       "      <td>362.0</td>\n",
       "      <td>354.0</td>\n",
       "      <td>354.0</td>\n",
       "      <td>442.0</td>\n",
       "      <td>442.0</td>\n",
       "      <td>vertical bar</td>\n",
       "      <td>./datasets/ICPR2022_CHARTINFO_UB_UNITEC_PMC_TEST_v2.1/final_full_GT/split_3/annotations_JSON/PMC3812229___g004.json</td>\n",
       "      <td>./datasets/ICPR2022_CHARTINFO_UB_UNITEC_PMC_TEST_v2.1/chart_images/split_3/images/PMC3812229___g004.jpg</td>\n",
       "      <td>split_3</td>\n",
       "      <td>PMC3812229___g004.json</td>\n",
       "    </tr>\n",
       "    <tr>\n",
       "      <th>12958</th>\n",
       "      <td>36 to 40 min</td>\n",
       "      <td>tick_label</td>\n",
       "      <td>571.0</td>\n",
       "      <td>586.0</td>\n",
       "      <td>586.0</td>\n",
       "      <td>571.0</td>\n",
       "      <td>353.0</td>\n",
       "      <td>353.0</td>\n",
       "      <td>441.0</td>\n",
       "      <td>441.0</td>\n",
       "      <td>vertical bar</td>\n",
       "      <td>./datasets/ICPR2022_CHARTINFO_UB_UNITEC_PMC_TEST_v2.1/final_full_GT/split_3/annotations_JSON/PMC3812229___g004.json</td>\n",
       "      <td>./datasets/ICPR2022_CHARTINFO_UB_UNITEC_PMC_TEST_v2.1/chart_images/split_3/images/PMC3812229___g004.jpg</td>\n",
       "      <td>split_3</td>\n",
       "      <td>PMC3812229___g004.json</td>\n",
       "    </tr>\n",
       "    <tr>\n",
       "      <th>12957</th>\n",
       "      <td>31 to 35 min</td>\n",
       "      <td>tick_label</td>\n",
       "      <td>501.0</td>\n",
       "      <td>516.0</td>\n",
       "      <td>516.0</td>\n",
       "      <td>501.0</td>\n",
       "      <td>353.0</td>\n",
       "      <td>353.0</td>\n",
       "      <td>441.0</td>\n",
       "      <td>441.0</td>\n",
       "      <td>vertical bar</td>\n",
       "      <td>./datasets/ICPR2022_CHARTINFO_UB_UNITEC_PMC_TEST_v2.1/final_full_GT/split_3/annotations_JSON/PMC3812229___g004.json</td>\n",
       "      <td>./datasets/ICPR2022_CHARTINFO_UB_UNITEC_PMC_TEST_v2.1/chart_images/split_3/images/PMC3812229___g004.jpg</td>\n",
       "      <td>split_3</td>\n",
       "      <td>PMC3812229___g004.json</td>\n",
       "    </tr>\n",
       "    <tr>\n",
       "      <th>12956</th>\n",
       "      <td>26 to 30 min</td>\n",
       "      <td>tick_label</td>\n",
       "      <td>432.0</td>\n",
       "      <td>447.0</td>\n",
       "      <td>447.0</td>\n",
       "      <td>432.0</td>\n",
       "      <td>354.0</td>\n",
       "      <td>354.0</td>\n",
       "      <td>442.0</td>\n",
       "      <td>442.0</td>\n",
       "      <td>vertical bar</td>\n",
       "      <td>./datasets/ICPR2022_CHARTINFO_UB_UNITEC_PMC_TEST_v2.1/final_full_GT/split_3/annotations_JSON/PMC3812229___g004.json</td>\n",
       "      <td>./datasets/ICPR2022_CHARTINFO_UB_UNITEC_PMC_TEST_v2.1/chart_images/split_3/images/PMC3812229___g004.jpg</td>\n",
       "      <td>split_3</td>\n",
       "      <td>PMC3812229___g004.json</td>\n",
       "    </tr>\n",
       "    <tr>\n",
       "      <th>12968</th>\n",
       "      <td>20%</td>\n",
       "      <td>tick_label</td>\n",
       "      <td>21.0</td>\n",
       "      <td>43.0</td>\n",
       "      <td>43.0</td>\n",
       "      <td>21.0</td>\n",
       "      <td>268.0</td>\n",
       "      <td>268.0</td>\n",
       "      <td>280.0</td>\n",
       "      <td>280.0</td>\n",
       "      <td>vertical bar</td>\n",
       "      <td>./datasets/ICPR2022_CHARTINFO_UB_UNITEC_PMC_TEST_v2.1/final_full_GT/split_3/annotations_JSON/PMC3812229___g004.json</td>\n",
       "      <td>./datasets/ICPR2022_CHARTINFO_UB_UNITEC_PMC_TEST_v2.1/chart_images/split_3/images/PMC3812229___g004.jpg</td>\n",
       "      <td>split_3</td>\n",
       "      <td>PMC3812229___g004.json</td>\n",
       "    </tr>\n",
       "    <tr>\n",
       "      <th>12954</th>\n",
       "      <td>16 to 20 min</td>\n",
       "      <td>tick_label</td>\n",
       "      <td>290.0</td>\n",
       "      <td>305.0</td>\n",
       "      <td>305.0</td>\n",
       "      <td>290.0</td>\n",
       "      <td>353.0</td>\n",
       "      <td>353.0</td>\n",
       "      <td>439.0</td>\n",
       "      <td>439.0</td>\n",
       "      <td>vertical bar</td>\n",
       "      <td>./datasets/ICPR2022_CHARTINFO_UB_UNITEC_PMC_TEST_v2.1/final_full_GT/split_3/annotations_JSON/PMC3812229___g004.json</td>\n",
       "      <td>./datasets/ICPR2022_CHARTINFO_UB_UNITEC_PMC_TEST_v2.1/chart_images/split_3/images/PMC3812229___g004.jpg</td>\n",
       "      <td>split_3</td>\n",
       "      <td>PMC3812229___g004.json</td>\n",
       "    </tr>\n",
       "    <tr>\n",
       "      <th>12953</th>\n",
       "      <td>11 to 15 min</td>\n",
       "      <td>tick_label</td>\n",
       "      <td>222.0</td>\n",
       "      <td>236.0</td>\n",
       "      <td>236.0</td>\n",
       "      <td>222.0</td>\n",
       "      <td>353.0</td>\n",
       "      <td>353.0</td>\n",
       "      <td>439.0</td>\n",
       "      <td>439.0</td>\n",
       "      <td>vertical bar</td>\n",
       "      <td>./datasets/ICPR2022_CHARTINFO_UB_UNITEC_PMC_TEST_v2.1/final_full_GT/split_3/annotations_JSON/PMC3812229___g004.json</td>\n",
       "      <td>./datasets/ICPR2022_CHARTINFO_UB_UNITEC_PMC_TEST_v2.1/chart_images/split_3/images/PMC3812229___g004.jpg</td>\n",
       "      <td>split_3</td>\n",
       "      <td>PMC3812229___g004.json</td>\n",
       "    </tr>\n",
       "    <tr>\n",
       "      <th>12952</th>\n",
       "      <td>5 to 10 min</td>\n",
       "      <td>tick_label</td>\n",
       "      <td>151.0</td>\n",
       "      <td>166.0</td>\n",
       "      <td>166.0</td>\n",
       "      <td>151.0</td>\n",
       "      <td>354.0</td>\n",
       "      <td>354.0</td>\n",
       "      <td>434.0</td>\n",
       "      <td>434.0</td>\n",
       "      <td>vertical bar</td>\n",
       "      <td>./datasets/ICPR2022_CHARTINFO_UB_UNITEC_PMC_TEST_v2.1/final_full_GT/split_3/annotations_JSON/PMC3812229___g004.json</td>\n",
       "      <td>./datasets/ICPR2022_CHARTINFO_UB_UNITEC_PMC_TEST_v2.1/chart_images/split_3/images/PMC3812229___g004.jpg</td>\n",
       "      <td>split_3</td>\n",
       "      <td>PMC3812229___g004.json</td>\n",
       "    </tr>\n",
       "    <tr>\n",
       "      <th>12951</th>\n",
       "      <td>ess than 5 min</td>\n",
       "      <td>tick_label</td>\n",
       "      <td>81.0</td>\n",
       "      <td>96.0</td>\n",
       "      <td>96.0</td>\n",
       "      <td>81.0</td>\n",
       "      <td>354.0</td>\n",
       "      <td>354.0</td>\n",
       "      <td>450.0</td>\n",
       "      <td>450.0</td>\n",
       "      <td>vertical bar</td>\n",
       "      <td>./datasets/ICPR2022_CHARTINFO_UB_UNITEC_PMC_TEST_v2.1/final_full_GT/split_3/annotations_JSON/PMC3812229___g004.json</td>\n",
       "      <td>./datasets/ICPR2022_CHARTINFO_UB_UNITEC_PMC_TEST_v2.1/chart_images/split_3/images/PMC3812229___g004.jpg</td>\n",
       "      <td>split_3</td>\n",
       "      <td>PMC3812229___g004.json</td>\n",
       "    </tr>\n",
       "    <tr>\n",
       "      <th>12959</th>\n",
       "      <td>Greater than 40 \\n min</td>\n",
       "      <td>tick_label</td>\n",
       "      <td>632.0</td>\n",
       "      <td>667.0</td>\n",
       "      <td>667.0</td>\n",
       "      <td>632.0</td>\n",
       "      <td>353.0</td>\n",
       "      <td>353.0</td>\n",
       "      <td>464.0</td>\n",
       "      <td>464.0</td>\n",
       "      <td>vertical bar</td>\n",
       "      <td>./datasets/ICPR2022_CHARTINFO_UB_UNITEC_PMC_TEST_v2.1/final_full_GT/split_3/annotations_JSON/PMC3812229___g004.json</td>\n",
       "      <td>./datasets/ICPR2022_CHARTINFO_UB_UNITEC_PMC_TEST_v2.1/chart_images/split_3/images/PMC3812229___g004.jpg</td>\n",
       "      <td>split_3</td>\n",
       "      <td>PMC3812229___g004.json</td>\n",
       "    </tr>\n",
       "    <tr>\n",
       "      <th>12969</th>\n",
       "      <td>10%</td>\n",
       "      <td>tick_label</td>\n",
       "      <td>23.0</td>\n",
       "      <td>43.0</td>\n",
       "      <td>43.0</td>\n",
       "      <td>23.0</td>\n",
       "      <td>301.0</td>\n",
       "      <td>301.0</td>\n",
       "      <td>313.0</td>\n",
       "      <td>313.0</td>\n",
       "      <td>vertical bar</td>\n",
       "      <td>./datasets/ICPR2022_CHARTINFO_UB_UNITEC_PMC_TEST_v2.1/final_full_GT/split_3/annotations_JSON/PMC3812229___g004.json</td>\n",
       "      <td>./datasets/ICPR2022_CHARTINFO_UB_UNITEC_PMC_TEST_v2.1/chart_images/split_3/images/PMC3812229___g004.jpg</td>\n",
       "      <td>split_3</td>\n",
       "      <td>PMC3812229___g004.json</td>\n",
       "    </tr>\n",
       "    <tr>\n",
       "      <th>12962</th>\n",
       "      <td>80%</td>\n",
       "      <td>tick_label</td>\n",
       "      <td>21.0</td>\n",
       "      <td>43.0</td>\n",
       "      <td>43.0</td>\n",
       "      <td>21.0</td>\n",
       "      <td>68.0</td>\n",
       "      <td>68.0</td>\n",
       "      <td>79.0</td>\n",
       "      <td>79.0</td>\n",
       "      <td>vertical bar</td>\n",
       "      <td>./datasets/ICPR2022_CHARTINFO_UB_UNITEC_PMC_TEST_v2.1/final_full_GT/split_3/annotations_JSON/PMC3812229___g004.json</td>\n",
       "      <td>./datasets/ICPR2022_CHARTINFO_UB_UNITEC_PMC_TEST_v2.1/chart_images/split_3/images/PMC3812229___g004.jpg</td>\n",
       "      <td>split_3</td>\n",
       "      <td>PMC3812229___g004.json</td>\n",
       "    </tr>\n",
       "    <tr>\n",
       "      <th>12971</th>\n",
       "      <td>“Reported time lower than measured time”</td>\n",
       "      <td>legend_label</td>\n",
       "      <td>69.0</td>\n",
       "      <td>263.0</td>\n",
       "      <td>263.0</td>\n",
       "      <td>69.0</td>\n",
       "      <td>452.0</td>\n",
       "      <td>452.0</td>\n",
       "      <td>465.0</td>\n",
       "      <td>465.0</td>\n",
       "      <td>vertical bar</td>\n",
       "      <td>./datasets/ICPR2022_CHARTINFO_UB_UNITEC_PMC_TEST_v2.1/final_full_GT/split_3/annotations_JSON/PMC3812229___g004.json</td>\n",
       "      <td>./datasets/ICPR2022_CHARTINFO_UB_UNITEC_PMC_TEST_v2.1/chart_images/split_3/images/PMC3812229___g004.jpg</td>\n",
       "      <td>split_3</td>\n",
       "      <td>PMC3812229___g004.json</td>\n",
       "    </tr>\n",
       "    <tr>\n",
       "      <th>12970</th>\n",
       "      <td>0%</td>\n",
       "      <td>tick_label</td>\n",
       "      <td>27.0</td>\n",
       "      <td>43.0</td>\n",
       "      <td>43.0</td>\n",
       "      <td>27.0</td>\n",
       "      <td>334.0</td>\n",
       "      <td>334.0</td>\n",
       "      <td>346.0</td>\n",
       "      <td>346.0</td>\n",
       "      <td>vertical bar</td>\n",
       "      <td>./datasets/ICPR2022_CHARTINFO_UB_UNITEC_PMC_TEST_v2.1/final_full_GT/split_3/annotations_JSON/PMC3812229___g004.json</td>\n",
       "      <td>./datasets/ICPR2022_CHARTINFO_UB_UNITEC_PMC_TEST_v2.1/chart_images/split_3/images/PMC3812229___g004.jpg</td>\n",
       "      <td>split_3</td>\n",
       "      <td>PMC3812229___g004.json</td>\n",
       "    </tr>\n",
       "    <tr>\n",
       "      <th>12950</th>\n",
       "      <td>Time category</td>\n",
       "      <td>axis_title</td>\n",
       "      <td>324.0</td>\n",
       "      <td>450.0</td>\n",
       "      <td>450.0</td>\n",
       "      <td>324.0</td>\n",
       "      <td>462.0</td>\n",
       "      <td>462.0</td>\n",
       "      <td>480.0</td>\n",
       "      <td>480.0</td>\n",
       "      <td>vertical bar</td>\n",
       "      <td>./datasets/ICPR2022_CHARTINFO_UB_UNITEC_PMC_TEST_v2.1/final_full_GT/split_3/annotations_JSON/PMC3812229___g004.json</td>\n",
       "      <td>./datasets/ICPR2022_CHARTINFO_UB_UNITEC_PMC_TEST_v2.1/chart_images/split_3/images/PMC3812229___g004.jpg</td>\n",
       "      <td>split_3</td>\n",
       "      <td>PMC3812229___g004.json</td>\n",
       "    </tr>\n",
       "    <tr>\n",
       "      <th>12972</th>\n",
       "      <td>“Reported time higher than measured time”</td>\n",
       "      <td>legend_label</td>\n",
       "      <td>68.0</td>\n",
       "      <td>265.0</td>\n",
       "      <td>265.0</td>\n",
       "      <td>68.0</td>\n",
       "      <td>467.0</td>\n",
       "      <td>467.0</td>\n",
       "      <td>480.0</td>\n",
       "      <td>480.0</td>\n",
       "      <td>vertical bar</td>\n",
       "      <td>./datasets/ICPR2022_CHARTINFO_UB_UNITEC_PMC_TEST_v2.1/final_full_GT/split_3/annotations_JSON/PMC3812229___g004.json</td>\n",
       "      <td>./datasets/ICPR2022_CHARTINFO_UB_UNITEC_PMC_TEST_v2.1/chart_images/split_3/images/PMC3812229___g004.jpg</td>\n",
       "      <td>split_3</td>\n",
       "      <td>PMC3812229___g004.json</td>\n",
       "    </tr>\n",
       "  </tbody>\n",
       "</table>\n",
       "</div>"
      ],
      "text/plain": [
       "                                            text          role     x0     x1  \\\n",
       "12961                                        90%    tick_label   21.0   43.0   \n",
       "12967                                        30%    tick_label   21.0   43.0   \n",
       "12966                                        40%    tick_label   22.0   43.0   \n",
       "12965                                        50%    tick_label   21.0   43.0   \n",
       "12964                                        60%    tick_label   21.0   43.0   \n",
       "12963                                        70%    tick_label   21.0   43.0   \n",
       "12949                    Proportion of travelers    axis_title    1.0   18.0   \n",
       "12960                                       100%    tick_label   17.0   43.0   \n",
       "12955                               21 to 25 min    tick_label  362.0  377.0   \n",
       "12958                               36 to 40 min    tick_label  571.0  586.0   \n",
       "12957                               31 to 35 min    tick_label  501.0  516.0   \n",
       "12956                               26 to 30 min    tick_label  432.0  447.0   \n",
       "12968                                        20%    tick_label   21.0   43.0   \n",
       "12954                               16 to 20 min    tick_label  290.0  305.0   \n",
       "12953                               11 to 15 min    tick_label  222.0  236.0   \n",
       "12952                                5 to 10 min    tick_label  151.0  166.0   \n",
       "12951                             ess than 5 min    tick_label   81.0   96.0   \n",
       "12959                     Greater than 40 \\n min    tick_label  632.0  667.0   \n",
       "12969                                        10%    tick_label   23.0   43.0   \n",
       "12962                                        80%    tick_label   21.0   43.0   \n",
       "12971   “Reported time lower than measured time”  legend_label   69.0  263.0   \n",
       "12970                                         0%    tick_label   27.0   43.0   \n",
       "12950                              Time category    axis_title  324.0  450.0   \n",
       "12972  “Reported time higher than measured time”  legend_label   68.0  265.0   \n",
       "\n",
       "          x2     x3     y0     y1     y2     y3    chart_type  \\\n",
       "12961   43.0   21.0   34.0   34.0   46.0   46.0  vertical bar   \n",
       "12967   43.0   21.0  234.0  234.0  246.0  246.0  vertical bar   \n",
       "12966   43.0   22.0  201.0  201.0  213.0  213.0  vertical bar   \n",
       "12965   43.0   21.0  168.0  168.0  179.0  179.0  vertical bar   \n",
       "12964   43.0   21.0  134.0  134.0  146.0  146.0  vertical bar   \n",
       "12963   43.0   21.0  101.0  101.0  113.0  113.0  vertical bar   \n",
       "12949   18.0    1.0  103.0  103.0  300.0  300.0  vertical bar   \n",
       "12960   43.0   17.0    1.0    1.0   13.0   13.0  vertical bar   \n",
       "12955  377.0  362.0  354.0  354.0  442.0  442.0  vertical bar   \n",
       "12958  586.0  571.0  353.0  353.0  441.0  441.0  vertical bar   \n",
       "12957  516.0  501.0  353.0  353.0  441.0  441.0  vertical bar   \n",
       "12956  447.0  432.0  354.0  354.0  442.0  442.0  vertical bar   \n",
       "12968   43.0   21.0  268.0  268.0  280.0  280.0  vertical bar   \n",
       "12954  305.0  290.0  353.0  353.0  439.0  439.0  vertical bar   \n",
       "12953  236.0  222.0  353.0  353.0  439.0  439.0  vertical bar   \n",
       "12952  166.0  151.0  354.0  354.0  434.0  434.0  vertical bar   \n",
       "12951   96.0   81.0  354.0  354.0  450.0  450.0  vertical bar   \n",
       "12959  667.0  632.0  353.0  353.0  464.0  464.0  vertical bar   \n",
       "12969   43.0   23.0  301.0  301.0  313.0  313.0  vertical bar   \n",
       "12962   43.0   21.0   68.0   68.0   79.0   79.0  vertical bar   \n",
       "12971  263.0   69.0  452.0  452.0  465.0  465.0  vertical bar   \n",
       "12970   43.0   27.0  334.0  334.0  346.0  346.0  vertical bar   \n",
       "12950  450.0  324.0  462.0  462.0  480.0  480.0  vertical bar   \n",
       "12972  265.0   68.0  467.0  467.0  480.0  480.0  vertical bar   \n",
       "\n",
       "                                                                                                                annot_file  \\\n",
       "12961  ./datasets/ICPR2022_CHARTINFO_UB_UNITEC_PMC_TEST_v2.1/final_full_GT/split_3/annotations_JSON/PMC3812229___g004.json   \n",
       "12967  ./datasets/ICPR2022_CHARTINFO_UB_UNITEC_PMC_TEST_v2.1/final_full_GT/split_3/annotations_JSON/PMC3812229___g004.json   \n",
       "12966  ./datasets/ICPR2022_CHARTINFO_UB_UNITEC_PMC_TEST_v2.1/final_full_GT/split_3/annotations_JSON/PMC3812229___g004.json   \n",
       "12965  ./datasets/ICPR2022_CHARTINFO_UB_UNITEC_PMC_TEST_v2.1/final_full_GT/split_3/annotations_JSON/PMC3812229___g004.json   \n",
       "12964  ./datasets/ICPR2022_CHARTINFO_UB_UNITEC_PMC_TEST_v2.1/final_full_GT/split_3/annotations_JSON/PMC3812229___g004.json   \n",
       "12963  ./datasets/ICPR2022_CHARTINFO_UB_UNITEC_PMC_TEST_v2.1/final_full_GT/split_3/annotations_JSON/PMC3812229___g004.json   \n",
       "12949  ./datasets/ICPR2022_CHARTINFO_UB_UNITEC_PMC_TEST_v2.1/final_full_GT/split_3/annotations_JSON/PMC3812229___g004.json   \n",
       "12960  ./datasets/ICPR2022_CHARTINFO_UB_UNITEC_PMC_TEST_v2.1/final_full_GT/split_3/annotations_JSON/PMC3812229___g004.json   \n",
       "12955  ./datasets/ICPR2022_CHARTINFO_UB_UNITEC_PMC_TEST_v2.1/final_full_GT/split_3/annotations_JSON/PMC3812229___g004.json   \n",
       "12958  ./datasets/ICPR2022_CHARTINFO_UB_UNITEC_PMC_TEST_v2.1/final_full_GT/split_3/annotations_JSON/PMC3812229___g004.json   \n",
       "12957  ./datasets/ICPR2022_CHARTINFO_UB_UNITEC_PMC_TEST_v2.1/final_full_GT/split_3/annotations_JSON/PMC3812229___g004.json   \n",
       "12956  ./datasets/ICPR2022_CHARTINFO_UB_UNITEC_PMC_TEST_v2.1/final_full_GT/split_3/annotations_JSON/PMC3812229___g004.json   \n",
       "12968  ./datasets/ICPR2022_CHARTINFO_UB_UNITEC_PMC_TEST_v2.1/final_full_GT/split_3/annotations_JSON/PMC3812229___g004.json   \n",
       "12954  ./datasets/ICPR2022_CHARTINFO_UB_UNITEC_PMC_TEST_v2.1/final_full_GT/split_3/annotations_JSON/PMC3812229___g004.json   \n",
       "12953  ./datasets/ICPR2022_CHARTINFO_UB_UNITEC_PMC_TEST_v2.1/final_full_GT/split_3/annotations_JSON/PMC3812229___g004.json   \n",
       "12952  ./datasets/ICPR2022_CHARTINFO_UB_UNITEC_PMC_TEST_v2.1/final_full_GT/split_3/annotations_JSON/PMC3812229___g004.json   \n",
       "12951  ./datasets/ICPR2022_CHARTINFO_UB_UNITEC_PMC_TEST_v2.1/final_full_GT/split_3/annotations_JSON/PMC3812229___g004.json   \n",
       "12959  ./datasets/ICPR2022_CHARTINFO_UB_UNITEC_PMC_TEST_v2.1/final_full_GT/split_3/annotations_JSON/PMC3812229___g004.json   \n",
       "12969  ./datasets/ICPR2022_CHARTINFO_UB_UNITEC_PMC_TEST_v2.1/final_full_GT/split_3/annotations_JSON/PMC3812229___g004.json   \n",
       "12962  ./datasets/ICPR2022_CHARTINFO_UB_UNITEC_PMC_TEST_v2.1/final_full_GT/split_3/annotations_JSON/PMC3812229___g004.json   \n",
       "12971  ./datasets/ICPR2022_CHARTINFO_UB_UNITEC_PMC_TEST_v2.1/final_full_GT/split_3/annotations_JSON/PMC3812229___g004.json   \n",
       "12970  ./datasets/ICPR2022_CHARTINFO_UB_UNITEC_PMC_TEST_v2.1/final_full_GT/split_3/annotations_JSON/PMC3812229___g004.json   \n",
       "12950  ./datasets/ICPR2022_CHARTINFO_UB_UNITEC_PMC_TEST_v2.1/final_full_GT/split_3/annotations_JSON/PMC3812229___g004.json   \n",
       "12972  ./datasets/ICPR2022_CHARTINFO_UB_UNITEC_PMC_TEST_v2.1/final_full_GT/split_3/annotations_JSON/PMC3812229___g004.json   \n",
       "\n",
       "                                                                                                           img  \\\n",
       "12961  ./datasets/ICPR2022_CHARTINFO_UB_UNITEC_PMC_TEST_v2.1/chart_images/split_3/images/PMC3812229___g004.jpg   \n",
       "12967  ./datasets/ICPR2022_CHARTINFO_UB_UNITEC_PMC_TEST_v2.1/chart_images/split_3/images/PMC3812229___g004.jpg   \n",
       "12966  ./datasets/ICPR2022_CHARTINFO_UB_UNITEC_PMC_TEST_v2.1/chart_images/split_3/images/PMC3812229___g004.jpg   \n",
       "12965  ./datasets/ICPR2022_CHARTINFO_UB_UNITEC_PMC_TEST_v2.1/chart_images/split_3/images/PMC3812229___g004.jpg   \n",
       "12964  ./datasets/ICPR2022_CHARTINFO_UB_UNITEC_PMC_TEST_v2.1/chart_images/split_3/images/PMC3812229___g004.jpg   \n",
       "12963  ./datasets/ICPR2022_CHARTINFO_UB_UNITEC_PMC_TEST_v2.1/chart_images/split_3/images/PMC3812229___g004.jpg   \n",
       "12949  ./datasets/ICPR2022_CHARTINFO_UB_UNITEC_PMC_TEST_v2.1/chart_images/split_3/images/PMC3812229___g004.jpg   \n",
       "12960  ./datasets/ICPR2022_CHARTINFO_UB_UNITEC_PMC_TEST_v2.1/chart_images/split_3/images/PMC3812229___g004.jpg   \n",
       "12955  ./datasets/ICPR2022_CHARTINFO_UB_UNITEC_PMC_TEST_v2.1/chart_images/split_3/images/PMC3812229___g004.jpg   \n",
       "12958  ./datasets/ICPR2022_CHARTINFO_UB_UNITEC_PMC_TEST_v2.1/chart_images/split_3/images/PMC3812229___g004.jpg   \n",
       "12957  ./datasets/ICPR2022_CHARTINFO_UB_UNITEC_PMC_TEST_v2.1/chart_images/split_3/images/PMC3812229___g004.jpg   \n",
       "12956  ./datasets/ICPR2022_CHARTINFO_UB_UNITEC_PMC_TEST_v2.1/chart_images/split_3/images/PMC3812229___g004.jpg   \n",
       "12968  ./datasets/ICPR2022_CHARTINFO_UB_UNITEC_PMC_TEST_v2.1/chart_images/split_3/images/PMC3812229___g004.jpg   \n",
       "12954  ./datasets/ICPR2022_CHARTINFO_UB_UNITEC_PMC_TEST_v2.1/chart_images/split_3/images/PMC3812229___g004.jpg   \n",
       "12953  ./datasets/ICPR2022_CHARTINFO_UB_UNITEC_PMC_TEST_v2.1/chart_images/split_3/images/PMC3812229___g004.jpg   \n",
       "12952  ./datasets/ICPR2022_CHARTINFO_UB_UNITEC_PMC_TEST_v2.1/chart_images/split_3/images/PMC3812229___g004.jpg   \n",
       "12951  ./datasets/ICPR2022_CHARTINFO_UB_UNITEC_PMC_TEST_v2.1/chart_images/split_3/images/PMC3812229___g004.jpg   \n",
       "12959  ./datasets/ICPR2022_CHARTINFO_UB_UNITEC_PMC_TEST_v2.1/chart_images/split_3/images/PMC3812229___g004.jpg   \n",
       "12969  ./datasets/ICPR2022_CHARTINFO_UB_UNITEC_PMC_TEST_v2.1/chart_images/split_3/images/PMC3812229___g004.jpg   \n",
       "12962  ./datasets/ICPR2022_CHARTINFO_UB_UNITEC_PMC_TEST_v2.1/chart_images/split_3/images/PMC3812229___g004.jpg   \n",
       "12971  ./datasets/ICPR2022_CHARTINFO_UB_UNITEC_PMC_TEST_v2.1/chart_images/split_3/images/PMC3812229___g004.jpg   \n",
       "12970  ./datasets/ICPR2022_CHARTINFO_UB_UNITEC_PMC_TEST_v2.1/chart_images/split_3/images/PMC3812229___g004.jpg   \n",
       "12950  ./datasets/ICPR2022_CHARTINFO_UB_UNITEC_PMC_TEST_v2.1/chart_images/split_3/images/PMC3812229___g004.jpg   \n",
       "12972  ./datasets/ICPR2022_CHARTINFO_UB_UNITEC_PMC_TEST_v2.1/chart_images/split_3/images/PMC3812229___g004.jpg   \n",
       "\n",
       "         split         annot_file_name  \n",
       "12961  split_3  PMC3812229___g004.json  \n",
       "12967  split_3  PMC3812229___g004.json  \n",
       "12966  split_3  PMC3812229___g004.json  \n",
       "12965  split_3  PMC3812229___g004.json  \n",
       "12964  split_3  PMC3812229___g004.json  \n",
       "12963  split_3  PMC3812229___g004.json  \n",
       "12949  split_3  PMC3812229___g004.json  \n",
       "12960  split_3  PMC3812229___g004.json  \n",
       "12955  split_3  PMC3812229___g004.json  \n",
       "12958  split_3  PMC3812229___g004.json  \n",
       "12957  split_3  PMC3812229___g004.json  \n",
       "12956  split_3  PMC3812229___g004.json  \n",
       "12968  split_3  PMC3812229___g004.json  \n",
       "12954  split_3  PMC3812229___g004.json  \n",
       "12953  split_3  PMC3812229___g004.json  \n",
       "12952  split_3  PMC3812229___g004.json  \n",
       "12951  split_3  PMC3812229___g004.json  \n",
       "12959  split_3  PMC3812229___g004.json  \n",
       "12969  split_3  PMC3812229___g004.json  \n",
       "12962  split_3  PMC3812229___g004.json  \n",
       "12971  split_3  PMC3812229___g004.json  \n",
       "12970  split_3  PMC3812229___g004.json  \n",
       "12950  split_3  PMC3812229___g004.json  \n",
       "12972  split_3  PMC3812229___g004.json  "
      ]
     },
     "execution_count": 218,
     "metadata": {},
     "output_type": "execute_result"
    }
   ],
   "source": [
    "# strange case\n",
    "df_icpr2022_test_pred[\n",
    "    df_icpr2022_test_pred[\"annot_file_name\"] == \"PMC3812229___g004.json\"\n",
    "]"
   ]
  },
  {
   "cell_type": "code",
   "execution_count": 257,
   "id": "6b53f0c7-1296-4741-9f9b-709f8c0f943c",
   "metadata": {},
   "outputs": [
    {
     "data": {
      "text/html": [
       "<div>\n",
       "<style scoped>\n",
       "    .dataframe tbody tr th:only-of-type {\n",
       "        vertical-align: middle;\n",
       "    }\n",
       "\n",
       "    .dataframe tbody tr th {\n",
       "        vertical-align: top;\n",
       "    }\n",
       "\n",
       "    .dataframe thead th {\n",
       "        text-align: right;\n",
       "    }\n",
       "</style>\n",
       "<table border=\"1\" class=\"dataframe\">\n",
       "  <thead>\n",
       "    <tr style=\"text-align: right;\">\n",
       "      <th></th>\n",
       "      <th>text</th>\n",
       "      <th>role</th>\n",
       "      <th>x0</th>\n",
       "      <th>x1</th>\n",
       "      <th>x2</th>\n",
       "      <th>x3</th>\n",
       "      <th>y0</th>\n",
       "      <th>y1</th>\n",
       "      <th>y2</th>\n",
       "      <th>y3</th>\n",
       "      <th>chart_type</th>\n",
       "      <th>annot_file</th>\n",
       "      <th>img</th>\n",
       "      <th>split</th>\n",
       "      <th>annot_file_name</th>\n",
       "      <th>predicted_role</th>\n",
       "      <th>test</th>\n",
       "    </tr>\n",
       "  </thead>\n",
       "  <tbody>\n",
       "    <tr>\n",
       "      <th>47031</th>\n",
       "      <td>0.25</td>\n",
       "      <td>tick_label</td>\n",
       "      <td>26.0</td>\n",
       "      <td>59.0</td>\n",
       "      <td>59.0</td>\n",
       "      <td>26.0</td>\n",
       "      <td>63.0</td>\n",
       "      <td>63.0</td>\n",
       "      <td>77.0</td>\n",
       "      <td>77.0</td>\n",
       "      <td>line</td>\n",
       "      <td>./datasets/ICPR2022_CHARTINFO_UB_UNITEC_PMC_TEST_v2.1/final_full_GT/split_5/annotations_JSON/PMC1618809___4.json</td>\n",
       "      <td>./datasets/ICPR2022_CHARTINFO_UB_UNITEC_PMC_TEST_v2.1/chart_images/split_5/images/PMC1618809___4.jpg</td>\n",
       "      <td>split_5</td>\n",
       "      <td>PMC1618809___4.json</td>\n",
       "      <td>axis_title</td>\n",
       "      <td>axis_title</td>\n",
       "    </tr>\n",
       "    <tr>\n",
       "      <th>47029</th>\n",
       "      <td>0.15</td>\n",
       "      <td>tick_label</td>\n",
       "      <td>26.0</td>\n",
       "      <td>58.0</td>\n",
       "      <td>58.0</td>\n",
       "      <td>26.0</td>\n",
       "      <td>187.0</td>\n",
       "      <td>187.0</td>\n",
       "      <td>200.0</td>\n",
       "      <td>200.0</td>\n",
       "      <td>line</td>\n",
       "      <td>./datasets/ICPR2022_CHARTINFO_UB_UNITEC_PMC_TEST_v2.1/final_full_GT/split_5/annotations_JSON/PMC1618809___4.json</td>\n",
       "      <td>./datasets/ICPR2022_CHARTINFO_UB_UNITEC_PMC_TEST_v2.1/chart_images/split_5/images/PMC1618809___4.jpg</td>\n",
       "      <td>split_5</td>\n",
       "      <td>PMC1618809___4.json</td>\n",
       "      <td>axis_title</td>\n",
       "      <td>axis_title</td>\n",
       "    </tr>\n",
       "    <tr>\n",
       "      <th>47030</th>\n",
       "      <td>0.20</td>\n",
       "      <td>tick_label</td>\n",
       "      <td>26.0</td>\n",
       "      <td>58.0</td>\n",
       "      <td>58.0</td>\n",
       "      <td>26.0</td>\n",
       "      <td>125.0</td>\n",
       "      <td>125.0</td>\n",
       "      <td>138.0</td>\n",
       "      <td>138.0</td>\n",
       "      <td>line</td>\n",
       "      <td>./datasets/ICPR2022_CHARTINFO_UB_UNITEC_PMC_TEST_v2.1/final_full_GT/split_5/annotations_JSON/PMC1618809___4.json</td>\n",
       "      <td>./datasets/ICPR2022_CHARTINFO_UB_UNITEC_PMC_TEST_v2.1/chart_images/split_5/images/PMC1618809___4.jpg</td>\n",
       "      <td>split_5</td>\n",
       "      <td>PMC1618809___4.json</td>\n",
       "      <td>tick_label</td>\n",
       "      <td>tick_label</td>\n",
       "    </tr>\n",
       "    <tr>\n",
       "      <th>47032</th>\n",
       "      <td>0.30</td>\n",
       "      <td>tick_label</td>\n",
       "      <td>27.0</td>\n",
       "      <td>59.0</td>\n",
       "      <td>59.0</td>\n",
       "      <td>27.0</td>\n",
       "      <td>1.0</td>\n",
       "      <td>1.0</td>\n",
       "      <td>14.0</td>\n",
       "      <td>14.0</td>\n",
       "      <td>line</td>\n",
       "      <td>./datasets/ICPR2022_CHARTINFO_UB_UNITEC_PMC_TEST_v2.1/final_full_GT/split_5/annotations_JSON/PMC1618809___4.json</td>\n",
       "      <td>./datasets/ICPR2022_CHARTINFO_UB_UNITEC_PMC_TEST_v2.1/chart_images/split_5/images/PMC1618809___4.jpg</td>\n",
       "      <td>split_5</td>\n",
       "      <td>PMC1618809___4.json</td>\n",
       "      <td>tick_label</td>\n",
       "      <td>tick_label</td>\n",
       "    </tr>\n",
       "    <tr>\n",
       "      <th>47028</th>\n",
       "      <td>0.10</td>\n",
       "      <td>tick_label</td>\n",
       "      <td>26.0</td>\n",
       "      <td>59.0</td>\n",
       "      <td>59.0</td>\n",
       "      <td>26.0</td>\n",
       "      <td>249.0</td>\n",
       "      <td>249.0</td>\n",
       "      <td>262.0</td>\n",
       "      <td>262.0</td>\n",
       "      <td>line</td>\n",
       "      <td>./datasets/ICPR2022_CHARTINFO_UB_UNITEC_PMC_TEST_v2.1/final_full_GT/split_5/annotations_JSON/PMC1618809___4.json</td>\n",
       "      <td>./datasets/ICPR2022_CHARTINFO_UB_UNITEC_PMC_TEST_v2.1/chart_images/split_5/images/PMC1618809___4.jpg</td>\n",
       "      <td>split_5</td>\n",
       "      <td>PMC1618809___4.json</td>\n",
       "      <td>tick_label</td>\n",
       "      <td>tick_label</td>\n",
       "    </tr>\n",
       "  </tbody>\n",
       "</table>\n",
       "</div>"
      ],
      "text/plain": [
       "       text        role    x0    x1    x2    x3     y0     y1     y2     y3  \\\n",
       "47031  0.25  tick_label  26.0  59.0  59.0  26.0   63.0   63.0   77.0   77.0   \n",
       "47029  0.15  tick_label  26.0  58.0  58.0  26.0  187.0  187.0  200.0  200.0   \n",
       "47030  0.20  tick_label  26.0  58.0  58.0  26.0  125.0  125.0  138.0  138.0   \n",
       "47032  0.30  tick_label  27.0  59.0  59.0  27.0    1.0    1.0   14.0   14.0   \n",
       "47028  0.10  tick_label  26.0  59.0  59.0  26.0  249.0  249.0  262.0  262.0   \n",
       "\n",
       "      chart_type  \\\n",
       "47031       line   \n",
       "47029       line   \n",
       "47030       line   \n",
       "47032       line   \n",
       "47028       line   \n",
       "\n",
       "                                                                                                             annot_file  \\\n",
       "47031  ./datasets/ICPR2022_CHARTINFO_UB_UNITEC_PMC_TEST_v2.1/final_full_GT/split_5/annotations_JSON/PMC1618809___4.json   \n",
       "47029  ./datasets/ICPR2022_CHARTINFO_UB_UNITEC_PMC_TEST_v2.1/final_full_GT/split_5/annotations_JSON/PMC1618809___4.json   \n",
       "47030  ./datasets/ICPR2022_CHARTINFO_UB_UNITEC_PMC_TEST_v2.1/final_full_GT/split_5/annotations_JSON/PMC1618809___4.json   \n",
       "47032  ./datasets/ICPR2022_CHARTINFO_UB_UNITEC_PMC_TEST_v2.1/final_full_GT/split_5/annotations_JSON/PMC1618809___4.json   \n",
       "47028  ./datasets/ICPR2022_CHARTINFO_UB_UNITEC_PMC_TEST_v2.1/final_full_GT/split_5/annotations_JSON/PMC1618809___4.json   \n",
       "\n",
       "                                                                                                        img  \\\n",
       "47031  ./datasets/ICPR2022_CHARTINFO_UB_UNITEC_PMC_TEST_v2.1/chart_images/split_5/images/PMC1618809___4.jpg   \n",
       "47029  ./datasets/ICPR2022_CHARTINFO_UB_UNITEC_PMC_TEST_v2.1/chart_images/split_5/images/PMC1618809___4.jpg   \n",
       "47030  ./datasets/ICPR2022_CHARTINFO_UB_UNITEC_PMC_TEST_v2.1/chart_images/split_5/images/PMC1618809___4.jpg   \n",
       "47032  ./datasets/ICPR2022_CHARTINFO_UB_UNITEC_PMC_TEST_v2.1/chart_images/split_5/images/PMC1618809___4.jpg   \n",
       "47028  ./datasets/ICPR2022_CHARTINFO_UB_UNITEC_PMC_TEST_v2.1/chart_images/split_5/images/PMC1618809___4.jpg   \n",
       "\n",
       "         split      annot_file_name predicted_role        test  \n",
       "47031  split_5  PMC1618809___4.json     axis_title  axis_title  \n",
       "47029  split_5  PMC1618809___4.json     axis_title  axis_title  \n",
       "47030  split_5  PMC1618809___4.json     tick_label  tick_label  \n",
       "47032  split_5  PMC1618809___4.json     tick_label  tick_label  \n",
       "47028  split_5  PMC1618809___4.json     tick_label  tick_label  "
      ]
     },
     "execution_count": 257,
     "metadata": {},
     "output_type": "execute_result"
    }
   ],
   "source": [
    "df_icpr2022_test_pred[\"predicted_role\"] = preds\n",
    "df_icpr2022_test_pred[\"predicted_role\"] = df_icpr2022_test_pred[\n",
    "    \"predicted_role\"\n",
    "].str.lower()\n",
    "\n",
    "df_icpr2022_test_pred[\"test\"] = lines\n",
    "\n",
    "df_icpr2022_test_pred[\"test\"] = df_icpr2022_test_pred[\"test\"].str.lower()\n",
    "\n",
    "df_icpr2022_test_pred.head()"
   ]
  },
  {
   "cell_type": "code",
   "execution_count": 260,
   "id": "c5ba3c00-289c-4b7f-8396-7d86e4d2dbb1",
   "metadata": {},
   "outputs": [
    {
     "data": {
      "text/plain": [
       "role\n",
       "tick_label       28032\n",
       "legend_label      3888\n",
       "axis_title        3022\n",
       "other             2741\n",
       "value_label       1575\n",
       "mark_label         764\n",
       "tick_grouping      290\n",
       "chart_title        226\n",
       "legend_title       116\n",
       "Name: count, dtype: int64"
      ]
     },
     "execution_count": 260,
     "metadata": {},
     "output_type": "execute_result"
    }
   ],
   "source": [
    "df_icpr2022_test_pred[\"role\"].value_counts()"
   ]
  },
  {
   "cell_type": "code",
   "execution_count": 259,
   "id": "f019705c-8133-4ff3-b65f-8daeceab3d38",
   "metadata": {},
   "outputs": [
    {
     "data": {
      "text/plain": [
       "test\n",
       "tick_label       28032\n",
       "legend_label      3888\n",
       "axis_title        3022\n",
       "other             2741\n",
       "value_label       1575\n",
       "mark_label         764\n",
       "tick_grouping      290\n",
       "chart_title        226\n",
       "legend_title       116\n",
       "Name: count, dtype: int64"
      ]
     },
     "execution_count": 259,
     "metadata": {},
     "output_type": "execute_result"
    }
   ],
   "source": [
    "df_icpr2022_test_pred[\"predicted_role\"].value_counts()"
   ]
  },
  {
   "cell_type": "code",
   "execution_count": 258,
   "id": "6f99b6f0-9f9b-4394-8597-6b4d8a46e33d",
   "metadata": {},
   "outputs": [
    {
     "name": "stdout",
     "output_type": "stream",
     "text": [
      "<class 'pandas.core.frame.DataFrame'>\n",
      "Index: 1809 entries, 46788 to 30653\n",
      "Data columns (total 17 columns):\n",
      " #   Column           Non-Null Count  Dtype  \n",
      "---  ------           --------------  -----  \n",
      " 0   text             1809 non-null   object \n",
      " 1   role             1809 non-null   object \n",
      " 2   x0               1809 non-null   float64\n",
      " 3   x1               1809 non-null   float64\n",
      " 4   x2               1809 non-null   float64\n",
      " 5   x3               1809 non-null   float64\n",
      " 6   y0               1809 non-null   float64\n",
      " 7   y1               1809 non-null   float64\n",
      " 8   y2               1809 non-null   float64\n",
      " 9   y3               1809 non-null   float64\n",
      " 10  chart_type       1809 non-null   object \n",
      " 11  annot_file       1809 non-null   object \n",
      " 12  img              1809 non-null   object \n",
      " 13  split            1809 non-null   object \n",
      " 14  annot_file_name  1809 non-null   object \n",
      " 15  predicted_role   1809 non-null   object \n",
      " 16  test             1809 non-null   object \n",
      "dtypes: float64(8), object(9)\n",
      "memory usage: 254.4+ KB\n"
     ]
    }
   ],
   "source": [
    "df_icpr2022_test_pred[\n",
    "    df_icpr2022_test_pred[\"predicted_role\"] != df_icpr2022_test_pred[\"test\"]\n",
    "].info()"
   ]
  },
  {
   "cell_type": "code",
   "execution_count": 203,
   "id": "fe00715b-ff1f-478e-87ed-17131d30c660",
   "metadata": {},
   "outputs": [
    {
     "name": "stdout",
     "output_type": "stream",
     "text": [
      "<class 'pandas.core.frame.DataFrame'>\n",
      "Index: 40654 entries, 47031 to 30659\n",
      "Data columns (total 17 columns):\n",
      " #   Column           Non-Null Count  Dtype  \n",
      "---  ------           --------------  -----  \n",
      " 0   text             40654 non-null  object \n",
      " 1   role             40654 non-null  object \n",
      " 2   x0               40654 non-null  float64\n",
      " 3   x1               40654 non-null  float64\n",
      " 4   x2               40654 non-null  float64\n",
      " 5   x3               40654 non-null  float64\n",
      " 6   y0               40654 non-null  float64\n",
      " 7   y1               40654 non-null  float64\n",
      " 8   y2               40654 non-null  float64\n",
      " 9   y3               40654 non-null  float64\n",
      " 10  chart_type       40654 non-null  object \n",
      " 11  annot_file       40654 non-null  object \n",
      " 12  img              40654 non-null  object \n",
      " 13  split            40654 non-null  object \n",
      " 14  annot_file_name  40654 non-null  object \n",
      " 15  true_role        40654 non-null  object \n",
      " 16  predicted_role   40654 non-null  object \n",
      "dtypes: float64(8), object(9)\n",
      "memory usage: 5.6+ MB\n"
     ]
    }
   ],
   "source": [
    "df_icpr2022_test_pred.info()"
   ]
  },
  {
   "cell_type": "code",
   "execution_count": 223,
   "id": "0100e6c3-52eb-44c5-aae7-5d0215a82813",
   "metadata": {},
   "outputs": [
    {
     "data": {
      "image/png": "[encoded data removed]",
      "text/plain": [
       "<Figure size 600x600 with 1 Axes>"
      ]
     },
     "metadata": {},
     "output_type": "display_data"
    }
   ],
   "source": [
    "counts = df_icpr2022_test_pred[\"predicted_role\"].value_counts()\n",
    "ax = counts.plot.pie(autopct=\"%1.1f%%\", figsize=(6, 6), labels=[\"\"] * len(counts))\n",
    "plt.legend(\n",
    "    ax.patches, counts.index, title=\"predicted_role role\", bbox_to_anchor=(1, 0.5)\n",
    ")\n",
    "plt.ylabel(\"\")\n",
    "plt.title(\"Distribution of predicted_role role\")\n",
    "plt.show()"
   ]
  },
  {
   "cell_type": "code",
   "execution_count": 224,
   "id": "efa5d76b-2b0e-4ccb-96a8-b3aefdfd8c13",
   "metadata": {},
   "outputs": [
    {
     "name": "stdout",
     "output_type": "stream",
     "text": [
      "Confusion Matrix:\n",
      " [[  82    1   49    1    5   42    2  429    7]\n",
      " [   4    2    4    0    1    1    0   25    0]\n",
      " [  71    4  195    1    0   35    5  453   10]\n",
      " [   1    1    4    1    0    1    0    7    0]\n",
      " [   8    1    6    0   13    9    0   37    0]\n",
      " [  29    0   64    2    3  152   11  317   33]\n",
      " [   2    1    6    1    0    5   12   36    5]\n",
      " [ 413   25  487   10   26  259   33 4584  153]\n",
      " [  12    0   14    1    0   18    2  127   82]]\n",
      "Accuracy: 0.6067748430652612\n",
      "Precision (micro): 0.6067748430652612\n",
      "Precision (macro): 0.2527235761789752\n",
      "Recall (micro): 0.6067748430652612\n",
      "Recall (macro): 0.2435390573844844\n",
      "F1 Score (micro): 0.6067748430652612\n",
      "F1 Score (macro): 0.24661507063864885\n"
     ]
    }
   ],
   "source": [
    "import pandas as pd\n",
    "from sklearn.metrics import (\n",
    "    accuracy_score,\n",
    "    confusion_matrix,\n",
    "    f1_score,\n",
    "    precision_score,\n",
    "    recall_score,\n",
    ")\n",
    "\n",
    "# Example DataFrame\n",
    "# df = pd.DataFrame({'labels': [...], 'true_labels': [...]})\n",
    "\n",
    "# Confusion Matrix\n",
    "cm = confusion_matrix(\n",
    "    df_icpr2022_test_pred[\"role\"], df_icpr2022_test_pred[\"predicted_role\"]\n",
    ")\n",
    "print(\"Confusion Matrix:\\n\", cm)\n",
    "\n",
    "# Accuracy\n",
    "acc = accuracy_score(\n",
    "    df_icpr2022_test_pred[\"role\"], df_icpr2022_test_pred[\"predicted_role\"]\n",
    ")\n",
    "print(\"Accuracy:\", acc)\n",
    "\n",
    "# Precision\n",
    "precision_micro = precision_score(\n",
    "    df_icpr2022_test_pred[\"role\"],\n",
    "    df_icpr2022_test_pred[\"predicted_role\"],\n",
    "    average=\"micro\",\n",
    ")\n",
    "precision_macro = precision_score(\n",
    "    df_icpr2022_test_pred[\"role\"],\n",
    "    df_icpr2022_test_pred[\"predicted_role\"],\n",
    "    average=\"macro\",\n",
    ")\n",
    "print(\"Precision (micro):\", precision_micro)\n",
    "print(\"Precision (macro):\", precision_macro)\n",
    "\n",
    "# Recall\n",
    "recall_micro = recall_score(\n",
    "    df_icpr2022_test_pred[\"role\"],\n",
    "    df_icpr2022_test_pred[\"predicted_role\"],\n",
    "    average=\"micro\",\n",
    ")\n",
    "recall_macro = recall_score(\n",
    "    df_icpr2022_test_pred[\"role\"],\n",
    "    df_icpr2022_test_pred[\"predicted_role\"],\n",
    "    average=\"macro\",\n",
    ")\n",
    "print(\"Recall (micro):\", recall_micro)\n",
    "print(\"Recall (macro):\", recall_macro)\n",
    "\n",
    "# F1 Score\n",
    "f1_micro = f1_score(\n",
    "    df_icpr2022_test_pred[\"role\"],\n",
    "    df_icpr2022_test_pred[\"predicted_role\"],\n",
    "    average=\"micro\",\n",
    ")\n",
    "f1_macro = f1_score(\n",
    "    df_icpr2022_test_pred[\"role\"],\n",
    "    df_icpr2022_test_pred[\"predicted_role\"],\n",
    "    average=\"macro\",\n",
    ")\n",
    "print(\"F1 Score (micro):\", f1_micro)\n",
    "print(\"F1 Score (macro):\", f1_macro)"
   ]
  },
  {
   "cell_type": "code",
   "execution_count": null,
   "id": "d044c2d1-e602-4817-a8dc-1bba3265fd2e",
   "metadata": {},
   "outputs": [],
   "source": []
  },
  {
   "cell_type": "markdown",
   "id": "854b0f37-7239-4fb8-beb9-1c2d80b79623",
   "metadata": {},
   "source": [
    "# Push model to huggingface"
   ]
  },
  {
   "cell_type": "code",
   "execution_count": null,
   "id": "16450d8b-14de-4ad9-a599-829179790373",
   "metadata": {},
   "outputs": [],
   "source": [
    "!huggingface-cli login"
   ]
  }
 ],
 "metadata": {
  "kernelspec": {
   "display_name": "text-role-class",
   "language": "python",
   "name": "text-role-class"
  },
  "language_info": {
   "codemirror_mode": {
    "name": "ipython",
    "version": 3
   },
   "file_extension": ".py",
   "mimetype": "text/x-python",
   "name": "python",
   "nbconvert_exporter": "python",
   "pygments_lexer": "ipython3",
   "version": "3.12.3"
  }
 },
 "nbformat": 4,
 "nbformat_minor": 5
}
